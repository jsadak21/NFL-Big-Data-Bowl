{
 "cells": [
  {
   "cell_type": "code",
   "execution_count": 1,
   "metadata": {
    "_cell_guid": "b1076dfc-b9ad-4769-8c92-a6c4dae69d19",
    "_uuid": "8f2839f25d086af736a60e9eeb907d3b93b6e0e5",
    "execution": {
     "iopub.execute_input": "2020-12-13T23:45:01.078539Z",
     "iopub.status.busy": "2020-12-13T23:45:01.077552Z",
     "iopub.status.idle": "2020-12-13T23:45:01.089147Z",
     "shell.execute_reply": "2020-12-13T23:45:01.089824Z"
    },
    "papermill": {
     "duration": 0.083268,
     "end_time": "2020-12-13T23:45:01.089993",
     "exception": false,
     "start_time": "2020-12-13T23:45:01.006725",
     "status": "completed"
    },
    "tags": []
   },
   "outputs": [
    {
     "name": "stdout",
     "output_type": "stream",
     "text": [
      "/kaggle/input/nfl-big-data-bowl-2021/players.csv\n",
      "/kaggle/input/nfl-big-data-bowl-2021/week6.csv\n",
      "/kaggle/input/nfl-big-data-bowl-2021/week16.csv\n",
      "/kaggle/input/nfl-big-data-bowl-2021/week9.csv\n",
      "/kaggle/input/nfl-big-data-bowl-2021/week2.csv\n",
      "/kaggle/input/nfl-big-data-bowl-2021/week3.csv\n",
      "/kaggle/input/nfl-big-data-bowl-2021/week8.csv\n",
      "/kaggle/input/nfl-big-data-bowl-2021/week11.csv\n",
      "/kaggle/input/nfl-big-data-bowl-2021/games.csv\n",
      "/kaggle/input/nfl-big-data-bowl-2021/week13.csv\n",
      "/kaggle/input/nfl-big-data-bowl-2021/week10.csv\n",
      "/kaggle/input/nfl-big-data-bowl-2021/week12.csv\n",
      "/kaggle/input/nfl-big-data-bowl-2021/week5.csv\n",
      "/kaggle/input/nfl-big-data-bowl-2021/week15.csv\n",
      "/kaggle/input/nfl-big-data-bowl-2021/week7.csv\n",
      "/kaggle/input/nfl-big-data-bowl-2021/week1.csv\n",
      "/kaggle/input/nfl-big-data-bowl-2021/week14.csv\n",
      "/kaggle/input/nfl-big-data-bowl-2021/week4.csv\n",
      "/kaggle/input/nfl-big-data-bowl-2021/week17.csv\n",
      "/kaggle/input/nfl-big-data-bowl-2021/plays.csv\n"
     ]
    }
   ],
   "source": [
    "# This Python 3 environment comes with many helpful analytics libraries installed\n",
    "# It is defined by the kaggle/python Docker image: https://github.com/kaggle/docker-python\n",
    "# For example, here's several helpful packages to load\n",
    "\n",
    "import numpy as np # linear algebra\n",
    "import pandas as pd # data processing, CSV file I/O (e.g. pd.read_csv)\n",
    "\n",
    "# Input data files are available in the read-only \"../input/\" directory\n",
    "# For example, running this (by clicking run or pressing Shift+Enter) will list all files under the input directory\n",
    "\n",
    "import os\n",
    "for dirname, _, filenames in os.walk('/kaggle/input'):\n",
    "    for filename in filenames:\n",
    "        print(os.path.join(dirname, filename))\n",
    "\n",
    "# You can write up to 20GB to the current directory (/kaggle/working/) that gets preserved as output when you create a version using \"Save & Run All\" \n",
    "# You can also write temporary files to /kaggle/temp/, but they won't be saved outside of the current session"
   ]
  },
  {
   "cell_type": "code",
   "execution_count": 2,
   "metadata": {
    "execution": {
     "iopub.execute_input": "2020-12-13T23:45:01.231445Z",
     "iopub.status.busy": "2020-12-13T23:45:01.230712Z",
     "iopub.status.idle": "2020-12-13T23:45:02.562641Z",
     "shell.execute_reply": "2020-12-13T23:45:02.560974Z"
    },
    "papermill": {
     "duration": 1.404632,
     "end_time": "2020-12-13T23:45:02.562781",
     "exception": false,
     "start_time": "2020-12-13T23:45:01.158149",
     "status": "completed"
    },
    "tags": []
   },
   "outputs": [],
   "source": [
    "import pandas as pd\n",
    "import matplotlib.pyplot as plt\n",
    "import datetime\n",
    "import seaborn as sns\n",
    "from sklearn import linear_model\n",
    "from sklearn.model_selection import train_test_split"
   ]
  },
  {
   "cell_type": "code",
   "execution_count": 3,
   "metadata": {
    "_cell_guid": "79c7e3d0-c299-4dcb-8224-4455121ee9b0",
    "_uuid": "d629ff2d2480ee46fbb7e2d37f6b5fab8052498a",
    "execution": {
     "iopub.execute_input": "2020-12-13T23:45:02.705592Z",
     "iopub.status.busy": "2020-12-13T23:45:02.704911Z",
     "iopub.status.idle": "2020-12-13T23:45:02.742905Z",
     "shell.execute_reply": "2020-12-13T23:45:02.743385Z"
    },
    "papermill": {
     "duration": 0.111736,
     "end_time": "2020-12-13T23:45:02.743530",
     "exception": false,
     "start_time": "2020-12-13T23:45:02.631794",
     "status": "completed"
    },
    "tags": []
   },
   "outputs": [
    {
     "data": {
      "text/html": [
       "<div>\n",
       "<style scoped>\n",
       "    .dataframe tbody tr th:only-of-type {\n",
       "        vertical-align: middle;\n",
       "    }\n",
       "\n",
       "    .dataframe tbody tr th {\n",
       "        vertical-align: top;\n",
       "    }\n",
       "\n",
       "    .dataframe thead th {\n",
       "        text-align: right;\n",
       "    }\n",
       "</style>\n",
       "<table border=\"1\" class=\"dataframe\">\n",
       "  <thead>\n",
       "    <tr style=\"text-align: right;\">\n",
       "      <th></th>\n",
       "      <th>nflId</th>\n",
       "      <th>height</th>\n",
       "      <th>weight</th>\n",
       "      <th>birthDate</th>\n",
       "      <th>collegeName</th>\n",
       "      <th>position</th>\n",
       "      <th>displayName</th>\n",
       "    </tr>\n",
       "  </thead>\n",
       "  <tbody>\n",
       "    <tr>\n",
       "      <th>0</th>\n",
       "      <td>2539334</td>\n",
       "      <td>72</td>\n",
       "      <td>190</td>\n",
       "      <td>1990-09-10</td>\n",
       "      <td>Washington</td>\n",
       "      <td>CB</td>\n",
       "      <td>Desmond Trufant</td>\n",
       "    </tr>\n",
       "    <tr>\n",
       "      <th>1</th>\n",
       "      <td>2539653</td>\n",
       "      <td>70</td>\n",
       "      <td>186</td>\n",
       "      <td>1988-11-01</td>\n",
       "      <td>Southeastern Louisiana</td>\n",
       "      <td>CB</td>\n",
       "      <td>Robert Alford</td>\n",
       "    </tr>\n",
       "    <tr>\n",
       "      <th>2</th>\n",
       "      <td>2543850</td>\n",
       "      <td>69</td>\n",
       "      <td>186</td>\n",
       "      <td>1991-12-18</td>\n",
       "      <td>Purdue</td>\n",
       "      <td>SS</td>\n",
       "      <td>Ricardo Allen</td>\n",
       "    </tr>\n",
       "    <tr>\n",
       "      <th>3</th>\n",
       "      <td>2555162</td>\n",
       "      <td>73</td>\n",
       "      <td>227</td>\n",
       "      <td>1994-11-04</td>\n",
       "      <td>Louisiana State</td>\n",
       "      <td>MLB</td>\n",
       "      <td>Deion Jones</td>\n",
       "    </tr>\n",
       "    <tr>\n",
       "      <th>4</th>\n",
       "      <td>2555255</td>\n",
       "      <td>75</td>\n",
       "      <td>232</td>\n",
       "      <td>1993-07-01</td>\n",
       "      <td>Minnesota</td>\n",
       "      <td>OLB</td>\n",
       "      <td>De'Vondre Campbell</td>\n",
       "    </tr>\n",
       "  </tbody>\n",
       "</table>\n",
       "</div>"
      ],
      "text/plain": [
       "     nflId height  weight   birthDate             collegeName position  \\\n",
       "0  2539334     72     190  1990-09-10              Washington       CB   \n",
       "1  2539653     70     186  1988-11-01  Southeastern Louisiana       CB   \n",
       "2  2543850     69     186  1991-12-18                  Purdue       SS   \n",
       "3  2555162     73     227  1994-11-04         Louisiana State      MLB   \n",
       "4  2555255     75     232  1993-07-01               Minnesota      OLB   \n",
       "\n",
       "          displayName  \n",
       "0     Desmond Trufant  \n",
       "1       Robert Alford  \n",
       "2       Ricardo Allen  \n",
       "3         Deion Jones  \n",
       "4  De'Vondre Campbell  "
      ]
     },
     "execution_count": 3,
     "metadata": {},
     "output_type": "execute_result"
    }
   ],
   "source": [
    "players = pd.read_csv('/kaggle/input/nfl-big-data-bowl-2021/players.csv')\n",
    "players.head()"
   ]
  },
  {
   "cell_type": "code",
   "execution_count": 4,
   "metadata": {
    "execution": {
     "iopub.execute_input": "2020-12-13T23:45:02.884414Z",
     "iopub.status.busy": "2020-12-13T23:45:02.883402Z",
     "iopub.status.idle": "2020-12-13T23:45:02.887489Z",
     "shell.execute_reply": "2020-12-13T23:45:02.886891Z"
    },
    "papermill": {
     "duration": 0.076192,
     "end_time": "2020-12-13T23:45:02.887610",
     "exception": false,
     "start_time": "2020-12-13T23:45:02.811418",
     "status": "completed"
    },
    "tags": []
   },
   "outputs": [
    {
     "data": {
      "text/plain": [
       "(1303, 7)"
      ]
     },
     "execution_count": 4,
     "metadata": {},
     "output_type": "execute_result"
    }
   ],
   "source": [
    "players.shape"
   ]
  },
  {
   "cell_type": "code",
   "execution_count": 5,
   "metadata": {
    "execution": {
     "iopub.execute_input": "2020-12-13T23:45:03.033902Z",
     "iopub.status.busy": "2020-12-13T23:45:03.033147Z",
     "iopub.status.idle": "2020-12-13T23:45:03.036920Z",
     "shell.execute_reply": "2020-12-13T23:45:03.036316Z"
    },
    "papermill": {
     "duration": 0.081637,
     "end_time": "2020-12-13T23:45:03.037026",
     "exception": false,
     "start_time": "2020-12-13T23:45:02.955389",
     "status": "completed"
    },
    "tags": []
   },
   "outputs": [
    {
     "data": {
      "text/plain": [
       "nflId          0\n",
       "height         0\n",
       "weight         0\n",
       "birthDate      0\n",
       "collegeName    0\n",
       "position       0\n",
       "displayName    0\n",
       "dtype: int64"
      ]
     },
     "execution_count": 5,
     "metadata": {},
     "output_type": "execute_result"
    }
   ],
   "source": [
    "#checking for any NA\n",
    "players.isnull().sum()"
   ]
  },
  {
   "cell_type": "code",
   "execution_count": 6,
   "metadata": {
    "execution": {
     "iopub.execute_input": "2020-12-13T23:45:03.178876Z",
     "iopub.status.busy": "2020-12-13T23:45:03.178203Z",
     "iopub.status.idle": "2020-12-13T23:45:03.199013Z",
     "shell.execute_reply": "2020-12-13T23:45:03.198404Z"
    },
    "papermill": {
     "duration": 0.094551,
     "end_time": "2020-12-13T23:45:03.199142",
     "exception": false,
     "start_time": "2020-12-13T23:45:03.104591",
     "status": "completed"
    },
    "tags": []
   },
   "outputs": [
    {
     "data": {
      "text/html": [
       "<div>\n",
       "<style scoped>\n",
       "    .dataframe tbody tr th:only-of-type {\n",
       "        vertical-align: middle;\n",
       "    }\n",
       "\n",
       "    .dataframe tbody tr th {\n",
       "        vertical-align: top;\n",
       "    }\n",
       "\n",
       "    .dataframe thead th {\n",
       "        text-align: right;\n",
       "    }\n",
       "</style>\n",
       "<table border=\"1\" class=\"dataframe\">\n",
       "  <thead>\n",
       "    <tr style=\"text-align: right;\">\n",
       "      <th></th>\n",
       "      <th>nflId</th>\n",
       "      <th>height</th>\n",
       "      <th>weight</th>\n",
       "      <th>birthDate</th>\n",
       "      <th>collegeName</th>\n",
       "      <th>position</th>\n",
       "      <th>displayName</th>\n",
       "      <th>birthYear</th>\n",
       "    </tr>\n",
       "  </thead>\n",
       "  <tbody>\n",
       "    <tr>\n",
       "      <th>0</th>\n",
       "      <td>2539334</td>\n",
       "      <td>72</td>\n",
       "      <td>190</td>\n",
       "      <td>1990-09-10</td>\n",
       "      <td>Washington</td>\n",
       "      <td>CB</td>\n",
       "      <td>Desmond Trufant</td>\n",
       "      <td>1990</td>\n",
       "    </tr>\n",
       "    <tr>\n",
       "      <th>1</th>\n",
       "      <td>2539653</td>\n",
       "      <td>70</td>\n",
       "      <td>186</td>\n",
       "      <td>1988-11-01</td>\n",
       "      <td>Southeastern Louisiana</td>\n",
       "      <td>CB</td>\n",
       "      <td>Robert Alford</td>\n",
       "      <td>1988</td>\n",
       "    </tr>\n",
       "    <tr>\n",
       "      <th>2</th>\n",
       "      <td>2543850</td>\n",
       "      <td>69</td>\n",
       "      <td>186</td>\n",
       "      <td>1991-12-18</td>\n",
       "      <td>Purdue</td>\n",
       "      <td>SS</td>\n",
       "      <td>Ricardo Allen</td>\n",
       "      <td>1991</td>\n",
       "    </tr>\n",
       "    <tr>\n",
       "      <th>3</th>\n",
       "      <td>2555162</td>\n",
       "      <td>73</td>\n",
       "      <td>227</td>\n",
       "      <td>1994-11-04</td>\n",
       "      <td>Louisiana State</td>\n",
       "      <td>MLB</td>\n",
       "      <td>Deion Jones</td>\n",
       "      <td>1994</td>\n",
       "    </tr>\n",
       "    <tr>\n",
       "      <th>4</th>\n",
       "      <td>2555255</td>\n",
       "      <td>75</td>\n",
       "      <td>232</td>\n",
       "      <td>1993-07-01</td>\n",
       "      <td>Minnesota</td>\n",
       "      <td>OLB</td>\n",
       "      <td>De'Vondre Campbell</td>\n",
       "      <td>1993</td>\n",
       "    </tr>\n",
       "  </tbody>\n",
       "</table>\n",
       "</div>"
      ],
      "text/plain": [
       "     nflId height  weight   birthDate             collegeName position  \\\n",
       "0  2539334     72     190  1990-09-10              Washington       CB   \n",
       "1  2539653     70     186  1988-11-01  Southeastern Louisiana       CB   \n",
       "2  2543850     69     186  1991-12-18                  Purdue       SS   \n",
       "3  2555162     73     227  1994-11-04         Louisiana State      MLB   \n",
       "4  2555255     75     232  1993-07-01               Minnesota      OLB   \n",
       "\n",
       "          displayName  birthYear  \n",
       "0     Desmond Trufant       1990  \n",
       "1       Robert Alford       1988  \n",
       "2       Ricardo Allen       1991  \n",
       "3         Deion Jones       1994  \n",
       "4  De'Vondre Campbell       1993  "
      ]
     },
     "execution_count": 6,
     "metadata": {},
     "output_type": "execute_result"
    }
   ],
   "source": [
    "#Converting birthDate to birthYear\n",
    "players['birthDate'] = pd.to_datetime(players['birthDate']).dt.date\n",
    "# Extracting the year\n",
    "players['birthYear'] = pd.to_datetime(players['birthDate']).dt.year\n",
    "\n",
    "players.head()"
   ]
  },
  {
   "cell_type": "code",
   "execution_count": 7,
   "metadata": {
    "execution": {
     "iopub.execute_input": "2020-12-13T23:45:03.341556Z",
     "iopub.status.busy": "2020-12-13T23:45:03.340857Z",
     "iopub.status.idle": "2020-12-13T23:45:03.372937Z",
     "shell.execute_reply": "2020-12-13T23:45:03.372343Z"
    },
    "papermill": {
     "duration": 0.105633,
     "end_time": "2020-12-13T23:45:03.373087",
     "exception": false,
     "start_time": "2020-12-13T23:45:03.267454",
     "status": "completed"
    },
    "tags": []
   },
   "outputs": [
    {
     "data": {
      "text/html": [
       "<div>\n",
       "<style scoped>\n",
       "    .dataframe tbody tr th:only-of-type {\n",
       "        vertical-align: middle;\n",
       "    }\n",
       "\n",
       "    .dataframe tbody tr th {\n",
       "        vertical-align: top;\n",
       "    }\n",
       "\n",
       "    .dataframe thead th {\n",
       "        text-align: right;\n",
       "    }\n",
       "</style>\n",
       "<table border=\"1\" class=\"dataframe\">\n",
       "  <thead>\n",
       "    <tr style=\"text-align: right;\">\n",
       "      <th></th>\n",
       "      <th>nflId</th>\n",
       "      <th>height</th>\n",
       "      <th>weight</th>\n",
       "      <th>birthDate</th>\n",
       "      <th>collegeName</th>\n",
       "      <th>position</th>\n",
       "      <th>displayName</th>\n",
       "      <th>birthYear</th>\n",
       "      <th>age</th>\n",
       "    </tr>\n",
       "  </thead>\n",
       "  <tbody>\n",
       "    <tr>\n",
       "      <th>0</th>\n",
       "      <td>2539334</td>\n",
       "      <td>72</td>\n",
       "      <td>190</td>\n",
       "      <td>1990-09-10</td>\n",
       "      <td>Washington</td>\n",
       "      <td>CB</td>\n",
       "      <td>Desmond Trufant</td>\n",
       "      <td>1990</td>\n",
       "      <td>28</td>\n",
       "    </tr>\n",
       "    <tr>\n",
       "      <th>1</th>\n",
       "      <td>2539653</td>\n",
       "      <td>70</td>\n",
       "      <td>186</td>\n",
       "      <td>1988-11-01</td>\n",
       "      <td>Southeastern Louisiana</td>\n",
       "      <td>CB</td>\n",
       "      <td>Robert Alford</td>\n",
       "      <td>1988</td>\n",
       "      <td>30</td>\n",
       "    </tr>\n",
       "    <tr>\n",
       "      <th>2</th>\n",
       "      <td>2543850</td>\n",
       "      <td>69</td>\n",
       "      <td>186</td>\n",
       "      <td>1991-12-18</td>\n",
       "      <td>Purdue</td>\n",
       "      <td>SS</td>\n",
       "      <td>Ricardo Allen</td>\n",
       "      <td>1991</td>\n",
       "      <td>27</td>\n",
       "    </tr>\n",
       "    <tr>\n",
       "      <th>3</th>\n",
       "      <td>2555162</td>\n",
       "      <td>73</td>\n",
       "      <td>227</td>\n",
       "      <td>1994-11-04</td>\n",
       "      <td>Louisiana State</td>\n",
       "      <td>MLB</td>\n",
       "      <td>Deion Jones</td>\n",
       "      <td>1994</td>\n",
       "      <td>24</td>\n",
       "    </tr>\n",
       "    <tr>\n",
       "      <th>4</th>\n",
       "      <td>2555255</td>\n",
       "      <td>75</td>\n",
       "      <td>232</td>\n",
       "      <td>1993-07-01</td>\n",
       "      <td>Minnesota</td>\n",
       "      <td>OLB</td>\n",
       "      <td>De'Vondre Campbell</td>\n",
       "      <td>1993</td>\n",
       "      <td>25</td>\n",
       "    </tr>\n",
       "    <tr>\n",
       "      <th>5</th>\n",
       "      <td>2555543</td>\n",
       "      <td>73</td>\n",
       "      <td>216</td>\n",
       "      <td>1995-07-26</td>\n",
       "      <td>Florida</td>\n",
       "      <td>FS</td>\n",
       "      <td>Keanu Neal</td>\n",
       "      <td>1995</td>\n",
       "      <td>23</td>\n",
       "    </tr>\n",
       "    <tr>\n",
       "      <th>6</th>\n",
       "      <td>2556445</td>\n",
       "      <td>70</td>\n",
       "      <td>211</td>\n",
       "      <td>1992-10-20</td>\n",
       "      <td>Florida</td>\n",
       "      <td>CB</td>\n",
       "      <td>Brian Poole</td>\n",
       "      <td>1992</td>\n",
       "      <td>26</td>\n",
       "    </tr>\n",
       "    <tr>\n",
       "      <th>7</th>\n",
       "      <td>2507763</td>\n",
       "      <td>6-0</td>\n",
       "      <td>200</td>\n",
       "      <td>1986-08-01</td>\n",
       "      <td>Mississippi</td>\n",
       "      <td>WR</td>\n",
       "      <td>Mike Wallace</td>\n",
       "      <td>1986</td>\n",
       "      <td>32</td>\n",
       "    </tr>\n",
       "    <tr>\n",
       "      <th>8</th>\n",
       "      <td>2532842</td>\n",
       "      <td>78</td>\n",
       "      <td>243</td>\n",
       "      <td>1989-01-20</td>\n",
       "      <td>Arizona</td>\n",
       "      <td>QB</td>\n",
       "      <td>Nick Foles</td>\n",
       "      <td>1989</td>\n",
       "      <td>29</td>\n",
       "    </tr>\n",
       "    <tr>\n",
       "      <th>9</th>\n",
       "      <td>2540158</td>\n",
       "      <td>77</td>\n",
       "      <td>250</td>\n",
       "      <td>1990-11-10</td>\n",
       "      <td>Stanford</td>\n",
       "      <td>TE</td>\n",
       "      <td>Zach Ertz</td>\n",
       "      <td>1990</td>\n",
       "      <td>28</td>\n",
       "    </tr>\n",
       "  </tbody>\n",
       "</table>\n",
       "</div>"
      ],
      "text/plain": [
       "     nflId height  weight   birthDate             collegeName position  \\\n",
       "0  2539334     72     190  1990-09-10              Washington       CB   \n",
       "1  2539653     70     186  1988-11-01  Southeastern Louisiana       CB   \n",
       "2  2543850     69     186  1991-12-18                  Purdue       SS   \n",
       "3  2555162     73     227  1994-11-04         Louisiana State      MLB   \n",
       "4  2555255     75     232  1993-07-01               Minnesota      OLB   \n",
       "5  2555543     73     216  1995-07-26                 Florida       FS   \n",
       "6  2556445     70     211  1992-10-20                 Florida       CB   \n",
       "7  2507763    6-0     200  1986-08-01             Mississippi       WR   \n",
       "8  2532842     78     243  1989-01-20                 Arizona       QB   \n",
       "9  2540158     77     250  1990-11-10                Stanford       TE   \n",
       "\n",
       "          displayName  birthYear  age  \n",
       "0     Desmond Trufant       1990   28  \n",
       "1       Robert Alford       1988   30  \n",
       "2       Ricardo Allen       1991   27  \n",
       "3         Deion Jones       1994   24  \n",
       "4  De'Vondre Campbell       1993   25  \n",
       "5          Keanu Neal       1995   23  \n",
       "6         Brian Poole       1992   26  \n",
       "7        Mike Wallace       1986   32  \n",
       "8          Nick Foles       1989   29  \n",
       "9           Zach Ertz       1990   28  "
      ]
     },
     "execution_count": 7,
     "metadata": {},
     "output_type": "execute_result"
    }
   ],
   "source": [
    "#Converting from birthYear to Age at time of 2018\n",
    "players['age'] = 2018 - players['birthYear']\n",
    "\n",
    "players.head(10)"
   ]
  },
  {
   "cell_type": "code",
   "execution_count": 8,
   "metadata": {
    "execution": {
     "iopub.execute_input": "2020-12-13T23:45:03.532172Z",
     "iopub.status.busy": "2020-12-13T23:45:03.518423Z",
     "iopub.status.idle": "2020-12-13T23:45:03.537307Z",
     "shell.execute_reply": "2020-12-13T23:45:03.536776Z"
    },
    "papermill": {
     "duration": 0.094271,
     "end_time": "2020-12-13T23:45:03.537425",
     "exception": false,
     "start_time": "2020-12-13T23:45:03.443154",
     "status": "completed"
    },
    "tags": []
   },
   "outputs": [
    {
     "data": {
      "text/html": [
       "<div>\n",
       "<style scoped>\n",
       "    .dataframe tbody tr th:only-of-type {\n",
       "        vertical-align: middle;\n",
       "    }\n",
       "\n",
       "    .dataframe tbody tr th {\n",
       "        vertical-align: top;\n",
       "    }\n",
       "\n",
       "    .dataframe thead th {\n",
       "        text-align: right;\n",
       "    }\n",
       "</style>\n",
       "<table border=\"1\" class=\"dataframe\">\n",
       "  <thead>\n",
       "    <tr style=\"text-align: right;\">\n",
       "      <th></th>\n",
       "      <th>height</th>\n",
       "      <th>weight</th>\n",
       "      <th>birthDate</th>\n",
       "      <th>collegeName</th>\n",
       "      <th>position</th>\n",
       "      <th>displayName</th>\n",
       "      <th>birthYear</th>\n",
       "      <th>age</th>\n",
       "    </tr>\n",
       "  </thead>\n",
       "  <tbody>\n",
       "    <tr>\n",
       "      <th>0</th>\n",
       "      <td>72</td>\n",
       "      <td>190</td>\n",
       "      <td>1990-09-10</td>\n",
       "      <td>Washington</td>\n",
       "      <td>CB</td>\n",
       "      <td>Desmond Trufant</td>\n",
       "      <td>1990</td>\n",
       "      <td>28</td>\n",
       "    </tr>\n",
       "    <tr>\n",
       "      <th>1</th>\n",
       "      <td>70</td>\n",
       "      <td>186</td>\n",
       "      <td>1988-11-01</td>\n",
       "      <td>Southeastern Louisiana</td>\n",
       "      <td>CB</td>\n",
       "      <td>Robert Alford</td>\n",
       "      <td>1988</td>\n",
       "      <td>30</td>\n",
       "    </tr>\n",
       "    <tr>\n",
       "      <th>2</th>\n",
       "      <td>69</td>\n",
       "      <td>186</td>\n",
       "      <td>1991-12-18</td>\n",
       "      <td>Purdue</td>\n",
       "      <td>SS</td>\n",
       "      <td>Ricardo Allen</td>\n",
       "      <td>1991</td>\n",
       "      <td>27</td>\n",
       "    </tr>\n",
       "    <tr>\n",
       "      <th>3</th>\n",
       "      <td>73</td>\n",
       "      <td>227</td>\n",
       "      <td>1994-11-04</td>\n",
       "      <td>Louisiana State</td>\n",
       "      <td>MLB</td>\n",
       "      <td>Deion Jones</td>\n",
       "      <td>1994</td>\n",
       "      <td>24</td>\n",
       "    </tr>\n",
       "    <tr>\n",
       "      <th>4</th>\n",
       "      <td>75</td>\n",
       "      <td>232</td>\n",
       "      <td>1993-07-01</td>\n",
       "      <td>Minnesota</td>\n",
       "      <td>OLB</td>\n",
       "      <td>De'Vondre Campbell</td>\n",
       "      <td>1993</td>\n",
       "      <td>25</td>\n",
       "    </tr>\n",
       "    <tr>\n",
       "      <th>5</th>\n",
       "      <td>73</td>\n",
       "      <td>216</td>\n",
       "      <td>1995-07-26</td>\n",
       "      <td>Florida</td>\n",
       "      <td>FS</td>\n",
       "      <td>Keanu Neal</td>\n",
       "      <td>1995</td>\n",
       "      <td>23</td>\n",
       "    </tr>\n",
       "    <tr>\n",
       "      <th>6</th>\n",
       "      <td>70</td>\n",
       "      <td>211</td>\n",
       "      <td>1992-10-20</td>\n",
       "      <td>Florida</td>\n",
       "      <td>CB</td>\n",
       "      <td>Brian Poole</td>\n",
       "      <td>1992</td>\n",
       "      <td>26</td>\n",
       "    </tr>\n",
       "    <tr>\n",
       "      <th>7</th>\n",
       "      <td>6-0</td>\n",
       "      <td>200</td>\n",
       "      <td>1986-08-01</td>\n",
       "      <td>Mississippi</td>\n",
       "      <td>WR</td>\n",
       "      <td>Mike Wallace</td>\n",
       "      <td>1986</td>\n",
       "      <td>32</td>\n",
       "    </tr>\n",
       "    <tr>\n",
       "      <th>8</th>\n",
       "      <td>78</td>\n",
       "      <td>243</td>\n",
       "      <td>1989-01-20</td>\n",
       "      <td>Arizona</td>\n",
       "      <td>QB</td>\n",
       "      <td>Nick Foles</td>\n",
       "      <td>1989</td>\n",
       "      <td>29</td>\n",
       "    </tr>\n",
       "    <tr>\n",
       "      <th>9</th>\n",
       "      <td>77</td>\n",
       "      <td>250</td>\n",
       "      <td>1990-11-10</td>\n",
       "      <td>Stanford</td>\n",
       "      <td>TE</td>\n",
       "      <td>Zach Ertz</td>\n",
       "      <td>1990</td>\n",
       "      <td>28</td>\n",
       "    </tr>\n",
       "  </tbody>\n",
       "</table>\n",
       "</div>"
      ],
      "text/plain": [
       "  height  weight   birthDate             collegeName position  \\\n",
       "0     72     190  1990-09-10              Washington       CB   \n",
       "1     70     186  1988-11-01  Southeastern Louisiana       CB   \n",
       "2     69     186  1991-12-18                  Purdue       SS   \n",
       "3     73     227  1994-11-04         Louisiana State      MLB   \n",
       "4     75     232  1993-07-01               Minnesota      OLB   \n",
       "5     73     216  1995-07-26                 Florida       FS   \n",
       "6     70     211  1992-10-20                 Florida       CB   \n",
       "7    6-0     200  1986-08-01             Mississippi       WR   \n",
       "8     78     243  1989-01-20                 Arizona       QB   \n",
       "9     77     250  1990-11-10                Stanford       TE   \n",
       "\n",
       "          displayName  birthYear  age  \n",
       "0     Desmond Trufant       1990   28  \n",
       "1       Robert Alford       1988   30  \n",
       "2       Ricardo Allen       1991   27  \n",
       "3         Deion Jones       1994   24  \n",
       "4  De'Vondre Campbell       1993   25  \n",
       "5          Keanu Neal       1995   23  \n",
       "6         Brian Poole       1992   26  \n",
       "7        Mike Wallace       1986   32  \n",
       "8          Nick Foles       1989   29  \n",
       "9           Zach Ertz       1990   28  "
      ]
     },
     "execution_count": 8,
     "metadata": {},
     "output_type": "execute_result"
    }
   ],
   "source": [
    "#Getting rid of nflid\n",
    "players = players.drop(['nflId'], axis =1)\n",
    "players.head(10)"
   ]
  },
  {
   "cell_type": "code",
   "execution_count": 9,
   "metadata": {
    "execution": {
     "iopub.execute_input": "2020-12-13T23:45:03.681782Z",
     "iopub.status.busy": "2020-12-13T23:45:03.681081Z",
     "iopub.status.idle": "2020-12-13T23:45:03.688531Z",
     "shell.execute_reply": "2020-12-13T23:45:03.689018Z"
    },
    "papermill": {
     "duration": 0.081073,
     "end_time": "2020-12-13T23:45:03.689194",
     "exception": false,
     "start_time": "2020-12-13T23:45:03.608121",
     "status": "completed"
    },
    "tags": []
   },
   "outputs": [],
   "source": [
    "#This is necessary to get rid of the heights with hyphens in them\n",
    "players['height'] = players['height'].apply(lambda x: int(x[0])*12 + int(x[2]) if '-' in x else int(x))"
   ]
  },
  {
   "cell_type": "code",
   "execution_count": 10,
   "metadata": {
    "execution": {
     "iopub.execute_input": "2020-12-13T23:45:03.836202Z",
     "iopub.status.busy": "2020-12-13T23:45:03.835483Z",
     "iopub.status.idle": "2020-12-13T23:45:03.856604Z",
     "shell.execute_reply": "2020-12-13T23:45:03.857142Z"
    },
    "papermill": {
     "duration": 0.096992,
     "end_time": "2020-12-13T23:45:03.857302",
     "exception": false,
     "start_time": "2020-12-13T23:45:03.760310",
     "status": "completed"
    },
    "tags": []
   },
   "outputs": [
    {
     "data": {
      "text/html": [
       "<div>\n",
       "<style scoped>\n",
       "    .dataframe tbody tr th:only-of-type {\n",
       "        vertical-align: middle;\n",
       "    }\n",
       "\n",
       "    .dataframe tbody tr th {\n",
       "        vertical-align: top;\n",
       "    }\n",
       "\n",
       "    .dataframe thead th {\n",
       "        text-align: right;\n",
       "    }\n",
       "</style>\n",
       "<table border=\"1\" class=\"dataframe\">\n",
       "  <thead>\n",
       "    <tr style=\"text-align: right;\">\n",
       "      <th></th>\n",
       "      <th>height</th>\n",
       "      <th>weight</th>\n",
       "      <th>birthDate</th>\n",
       "      <th>collegeName</th>\n",
       "      <th>position</th>\n",
       "      <th>displayName</th>\n",
       "      <th>birthYear</th>\n",
       "      <th>age</th>\n",
       "    </tr>\n",
       "  </thead>\n",
       "  <tbody>\n",
       "    <tr>\n",
       "      <th>0</th>\n",
       "      <td>72</td>\n",
       "      <td>190</td>\n",
       "      <td>1990-09-10</td>\n",
       "      <td>Washington</td>\n",
       "      <td>CB</td>\n",
       "      <td>Desmond Trufant</td>\n",
       "      <td>1990</td>\n",
       "      <td>28</td>\n",
       "    </tr>\n",
       "    <tr>\n",
       "      <th>1</th>\n",
       "      <td>70</td>\n",
       "      <td>186</td>\n",
       "      <td>1988-11-01</td>\n",
       "      <td>Southeastern Louisiana</td>\n",
       "      <td>CB</td>\n",
       "      <td>Robert Alford</td>\n",
       "      <td>1988</td>\n",
       "      <td>30</td>\n",
       "    </tr>\n",
       "    <tr>\n",
       "      <th>2</th>\n",
       "      <td>69</td>\n",
       "      <td>186</td>\n",
       "      <td>1991-12-18</td>\n",
       "      <td>Purdue</td>\n",
       "      <td>SS</td>\n",
       "      <td>Ricardo Allen</td>\n",
       "      <td>1991</td>\n",
       "      <td>27</td>\n",
       "    </tr>\n",
       "    <tr>\n",
       "      <th>3</th>\n",
       "      <td>73</td>\n",
       "      <td>227</td>\n",
       "      <td>1994-11-04</td>\n",
       "      <td>Louisiana State</td>\n",
       "      <td>MLB</td>\n",
       "      <td>Deion Jones</td>\n",
       "      <td>1994</td>\n",
       "      <td>24</td>\n",
       "    </tr>\n",
       "    <tr>\n",
       "      <th>4</th>\n",
       "      <td>75</td>\n",
       "      <td>232</td>\n",
       "      <td>1993-07-01</td>\n",
       "      <td>Minnesota</td>\n",
       "      <td>OLB</td>\n",
       "      <td>De'Vondre Campbell</td>\n",
       "      <td>1993</td>\n",
       "      <td>25</td>\n",
       "    </tr>\n",
       "    <tr>\n",
       "      <th>...</th>\n",
       "      <td>...</td>\n",
       "      <td>...</td>\n",
       "      <td>...</td>\n",
       "      <td>...</td>\n",
       "      <td>...</td>\n",
       "      <td>...</td>\n",
       "      <td>...</td>\n",
       "      <td>...</td>\n",
       "    </tr>\n",
       "    <tr>\n",
       "      <th>1298</th>\n",
       "      <td>74</td>\n",
       "      <td>235</td>\n",
       "      <td>1991-09-17</td>\n",
       "      <td>Vanderbilt</td>\n",
       "      <td>LS</td>\n",
       "      <td>Andrew East</td>\n",
       "      <td>1991</td>\n",
       "      <td>27</td>\n",
       "    </tr>\n",
       "    <tr>\n",
       "      <th>1299</th>\n",
       "      <td>74</td>\n",
       "      <td>200</td>\n",
       "      <td>1994-05-17</td>\n",
       "      <td>Duke</td>\n",
       "      <td>WR</td>\n",
       "      <td>Max McCaffrey</td>\n",
       "      <td>1994</td>\n",
       "      <td>24</td>\n",
       "    </tr>\n",
       "    <tr>\n",
       "      <th>1300</th>\n",
       "      <td>78</td>\n",
       "      <td>231</td>\n",
       "      <td>1992-04-25</td>\n",
       "      <td>Oregon State</td>\n",
       "      <td>QB</td>\n",
       "      <td>Sean Mannion</td>\n",
       "      <td>1992</td>\n",
       "      <td>26</td>\n",
       "    </tr>\n",
       "    <tr>\n",
       "      <th>1301</th>\n",
       "      <td>69</td>\n",
       "      <td>187</td>\n",
       "      <td>1993-03-15</td>\n",
       "      <td>Alabama-Birmingham</td>\n",
       "      <td>CB</td>\n",
       "      <td>Darious Williams</td>\n",
       "      <td>1993</td>\n",
       "      <td>25</td>\n",
       "    </tr>\n",
       "    <tr>\n",
       "      <th>1302</th>\n",
       "      <td>74</td>\n",
       "      <td>196</td>\n",
       "      <td>1995-10-12</td>\n",
       "      <td>LSU</td>\n",
       "      <td>WR</td>\n",
       "      <td>Malachi Dupre</td>\n",
       "      <td>1995</td>\n",
       "      <td>23</td>\n",
       "    </tr>\n",
       "  </tbody>\n",
       "</table>\n",
       "<p>1303 rows × 8 columns</p>\n",
       "</div>"
      ],
      "text/plain": [
       "      height  weight   birthDate             collegeName position  \\\n",
       "0         72     190  1990-09-10              Washington       CB   \n",
       "1         70     186  1988-11-01  Southeastern Louisiana       CB   \n",
       "2         69     186  1991-12-18                  Purdue       SS   \n",
       "3         73     227  1994-11-04         Louisiana State      MLB   \n",
       "4         75     232  1993-07-01               Minnesota      OLB   \n",
       "...      ...     ...         ...                     ...      ...   \n",
       "1298      74     235  1991-09-17              Vanderbilt       LS   \n",
       "1299      74     200  1994-05-17                    Duke       WR   \n",
       "1300      78     231  1992-04-25            Oregon State       QB   \n",
       "1301      69     187  1993-03-15      Alabama-Birmingham       CB   \n",
       "1302      74     196  1995-10-12                     LSU       WR   \n",
       "\n",
       "             displayName  birthYear  age  \n",
       "0        Desmond Trufant       1990   28  \n",
       "1          Robert Alford       1988   30  \n",
       "2          Ricardo Allen       1991   27  \n",
       "3            Deion Jones       1994   24  \n",
       "4     De'Vondre Campbell       1993   25  \n",
       "...                  ...        ...  ...  \n",
       "1298         Andrew East       1991   27  \n",
       "1299       Max McCaffrey       1994   24  \n",
       "1300        Sean Mannion       1992   26  \n",
       "1301    Darious Williams       1993   25  \n",
       "1302       Malachi Dupre       1995   23  \n",
       "\n",
       "[1303 rows x 8 columns]"
      ]
     },
     "execution_count": 10,
     "metadata": {},
     "output_type": "execute_result"
    }
   ],
   "source": [
    "#Creating a function so they I can use ILOC to filter data\n",
    "df = pd.DataFrame(players)\n",
    "df.head(1303)"
   ]
  },
  {
   "cell_type": "code",
   "execution_count": 11,
   "metadata": {
    "execution": {
     "iopub.execute_input": "2020-12-13T23:45:04.008507Z",
     "iopub.status.busy": "2020-12-13T23:45:04.007723Z",
     "iopub.status.idle": "2020-12-13T23:45:04.030093Z",
     "shell.execute_reply": "2020-12-13T23:45:04.030574Z"
    },
    "papermill": {
     "duration": 0.102118,
     "end_time": "2020-12-13T23:45:04.030735",
     "exception": false,
     "start_time": "2020-12-13T23:45:03.928617",
     "status": "completed"
    },
    "tags": []
   },
   "outputs": [
    {
     "data": {
      "text/html": [
       "<div>\n",
       "<style scoped>\n",
       "    .dataframe tbody tr th:only-of-type {\n",
       "        vertical-align: middle;\n",
       "    }\n",
       "\n",
       "    .dataframe tbody tr th {\n",
       "        vertical-align: top;\n",
       "    }\n",
       "\n",
       "    .dataframe thead th {\n",
       "        text-align: right;\n",
       "    }\n",
       "</style>\n",
       "<table border=\"1\" class=\"dataframe\">\n",
       "  <thead>\n",
       "    <tr style=\"text-align: right;\">\n",
       "      <th></th>\n",
       "      <th>height</th>\n",
       "      <th>weight</th>\n",
       "      <th>birthDate</th>\n",
       "      <th>collegeName</th>\n",
       "      <th>position</th>\n",
       "      <th>displayName</th>\n",
       "      <th>birthYear</th>\n",
       "      <th>age</th>\n",
       "    </tr>\n",
       "  </thead>\n",
       "  <tbody>\n",
       "    <tr>\n",
       "      <th>0</th>\n",
       "      <td>72</td>\n",
       "      <td>190</td>\n",
       "      <td>1990-09-10</td>\n",
       "      <td>Washington</td>\n",
       "      <td>CB</td>\n",
       "      <td>Desmond Trufant</td>\n",
       "      <td>1990</td>\n",
       "      <td>28</td>\n",
       "    </tr>\n",
       "    <tr>\n",
       "      <th>1</th>\n",
       "      <td>70</td>\n",
       "      <td>186</td>\n",
       "      <td>1988-11-01</td>\n",
       "      <td>Southeastern Louisiana</td>\n",
       "      <td>CB</td>\n",
       "      <td>Robert Alford</td>\n",
       "      <td>1988</td>\n",
       "      <td>30</td>\n",
       "    </tr>\n",
       "    <tr>\n",
       "      <th>2</th>\n",
       "      <td>69</td>\n",
       "      <td>186</td>\n",
       "      <td>1991-12-18</td>\n",
       "      <td>Purdue</td>\n",
       "      <td>SS</td>\n",
       "      <td>Ricardo Allen</td>\n",
       "      <td>1991</td>\n",
       "      <td>27</td>\n",
       "    </tr>\n",
       "    <tr>\n",
       "      <th>5</th>\n",
       "      <td>73</td>\n",
       "      <td>216</td>\n",
       "      <td>1995-07-26</td>\n",
       "      <td>Florida</td>\n",
       "      <td>FS</td>\n",
       "      <td>Keanu Neal</td>\n",
       "      <td>1995</td>\n",
       "      <td>23</td>\n",
       "    </tr>\n",
       "    <tr>\n",
       "      <th>6</th>\n",
       "      <td>70</td>\n",
       "      <td>211</td>\n",
       "      <td>1992-10-20</td>\n",
       "      <td>Florida</td>\n",
       "      <td>CB</td>\n",
       "      <td>Brian Poole</td>\n",
       "      <td>1992</td>\n",
       "      <td>26</td>\n",
       "    </tr>\n",
       "    <tr>\n",
       "      <th>...</th>\n",
       "      <td>...</td>\n",
       "      <td>...</td>\n",
       "      <td>...</td>\n",
       "      <td>...</td>\n",
       "      <td>...</td>\n",
       "      <td>...</td>\n",
       "      <td>...</td>\n",
       "      <td>...</td>\n",
       "    </tr>\n",
       "    <tr>\n",
       "      <th>1250</th>\n",
       "      <td>74</td>\n",
       "      <td>203</td>\n",
       "      <td>1989-06-06</td>\n",
       "      <td>Texas Tech</td>\n",
       "      <td>FS</td>\n",
       "      <td>Cody Davis</td>\n",
       "      <td>1989</td>\n",
       "      <td>29</td>\n",
       "    </tr>\n",
       "    <tr>\n",
       "      <th>1276</th>\n",
       "      <td>70</td>\n",
       "      <td>195</td>\n",
       "      <td>1994-08-08</td>\n",
       "      <td>Utah State</td>\n",
       "      <td>DB</td>\n",
       "      <td>Dallin Leavitt</td>\n",
       "      <td>1994</td>\n",
       "      <td>24</td>\n",
       "    </tr>\n",
       "    <tr>\n",
       "      <th>1278</th>\n",
       "      <td>74</td>\n",
       "      <td>188</td>\n",
       "      <td>1994-12-04</td>\n",
       "      <td>Mississippi</td>\n",
       "      <td>CB</td>\n",
       "      <td>Derrick Jones</td>\n",
       "      <td>1994</td>\n",
       "      <td>24</td>\n",
       "    </tr>\n",
       "    <tr>\n",
       "      <th>1295</th>\n",
       "      <td>71</td>\n",
       "      <td>205</td>\n",
       "      <td>1996-08-29</td>\n",
       "      <td>South Alabama</td>\n",
       "      <td>DB</td>\n",
       "      <td>Jeremy Reaves</td>\n",
       "      <td>1996</td>\n",
       "      <td>22</td>\n",
       "    </tr>\n",
       "    <tr>\n",
       "      <th>1301</th>\n",
       "      <td>69</td>\n",
       "      <td>187</td>\n",
       "      <td>1993-03-15</td>\n",
       "      <td>Alabama-Birmingham</td>\n",
       "      <td>CB</td>\n",
       "      <td>Darious Williams</td>\n",
       "      <td>1993</td>\n",
       "      <td>25</td>\n",
       "    </tr>\n",
       "  </tbody>\n",
       "</table>\n",
       "<p>351 rows × 8 columns</p>\n",
       "</div>"
      ],
      "text/plain": [
       "      height  weight   birthDate             collegeName position  \\\n",
       "0         72     190  1990-09-10              Washington       CB   \n",
       "1         70     186  1988-11-01  Southeastern Louisiana       CB   \n",
       "2         69     186  1991-12-18                  Purdue       SS   \n",
       "5         73     216  1995-07-26                 Florida       FS   \n",
       "6         70     211  1992-10-20                 Florida       CB   \n",
       "...      ...     ...         ...                     ...      ...   \n",
       "1250      74     203  1989-06-06              Texas Tech       FS   \n",
       "1276      70     195  1994-08-08              Utah State       DB   \n",
       "1278      74     188  1994-12-04             Mississippi       CB   \n",
       "1295      71     205  1996-08-29           South Alabama       DB   \n",
       "1301      69     187  1993-03-15      Alabama-Birmingham       CB   \n",
       "\n",
       "           displayName  birthYear  age  \n",
       "0      Desmond Trufant       1990   28  \n",
       "1        Robert Alford       1988   30  \n",
       "2        Ricardo Allen       1991   27  \n",
       "5           Keanu Neal       1995   23  \n",
       "6          Brian Poole       1992   26  \n",
       "...                ...        ...  ...  \n",
       "1250        Cody Davis       1989   29  \n",
       "1276    Dallin Leavitt       1994   24  \n",
       "1278     Derrick Jones       1994   24  \n",
       "1295     Jeremy Reaves       1996   22  \n",
       "1301  Darious Williams       1993   25  \n",
       "\n",
       "[351 rows x 8 columns]"
      ]
     },
     "execution_count": 11,
     "metadata": {},
     "output_type": "execute_result"
    }
   ],
   "source": [
    "#filtering so I can see only secondary players\n",
    "DB_pos = ['CB','SS','FS','DB']\n",
    "df.loc[df['position'].isin(DB_pos)]\n",
    "df = df.loc[df['position'].isin(DB_pos)]\n",
    "df"
   ]
  },
  {
   "cell_type": "code",
   "execution_count": null,
   "metadata": {
    "papermill": {
     "duration": 0.078874,
     "end_time": "2020-12-13T23:45:04.181870",
     "exception": false,
     "start_time": "2020-12-13T23:45:04.102996",
     "status": "completed"
    },
    "tags": []
   },
   "outputs": [],
   "source": []
  },
  {
   "cell_type": "code",
   "execution_count": 12,
   "metadata": {
    "execution": {
     "iopub.execute_input": "2020-12-13T23:45:04.336396Z",
     "iopub.status.busy": "2020-12-13T23:45:04.335728Z",
     "iopub.status.idle": "2020-12-13T23:45:04.343232Z",
     "shell.execute_reply": "2020-12-13T23:45:04.342701Z"
    },
    "papermill": {
     "duration": 0.084183,
     "end_time": "2020-12-13T23:45:04.343349",
     "exception": false,
     "start_time": "2020-12-13T23:45:04.259166",
     "status": "completed"
    },
    "tags": []
   },
   "outputs": [],
   "source": [
    "def find_dist(df, col_name):\n",
    "    \n",
    "    # Checking the frequency of games in relation to the column values\n",
    "    dist = df[col_name].value_counts().reset_index()\n",
    "    \n",
    "    # Renaming the columns\n",
    "    dist.columns = [col_name, 'frequency']\n",
    "        \n",
    "    # Sorting the DataFrame based on the column values\n",
    "    sorted_dist = dist.sort_values(col_name, ascending=True).set_index(col_name)\n",
    "\n",
    "    # Plotting a bar plot\n",
    "    sorted_dist.plot(kind='bar', figsize=(20,4))\n",
    "\n",
    "    # Return a boolean indicating the function was successfully executed\n",
    "    return True"
   ]
  },
  {
   "cell_type": "code",
   "execution_count": 13,
   "metadata": {
    "execution": {
     "iopub.execute_input": "2020-12-13T23:45:04.490818Z",
     "iopub.status.busy": "2020-12-13T23:45:04.490104Z",
     "iopub.status.idle": "2020-12-13T23:45:04.787554Z",
     "shell.execute_reply": "2020-12-13T23:45:04.788013Z"
    },
    "papermill": {
     "duration": 0.37236,
     "end_time": "2020-12-13T23:45:04.788196",
     "exception": false,
     "start_time": "2020-12-13T23:45:04.415836",
     "status": "completed"
    },
    "tags": []
   },
   "outputs": [
    {
     "data": {
      "image/png": "[encoded data removed]",
      "text/plain": [
       "<Figure size 1152x432 with 1 Axes>"
      ]
     },
     "metadata": {
      "needs_background": "light"
     },
     "output_type": "display_data"
    }
   ],
   "source": [
    "#visualizing the frequecy dirstibution of secondary players by age\n",
    "plt.figure(figsize=(16,6))\n",
    "graph = sns.countplot(x='age',data=df,palette='rocket')\n",
    "\n",
    "for p in graph.patches:\n",
    "    height = p.get_height()\n",
    "    graph.text(p.get_x()+p.get_width()/2., height + 0.5,height ,ha=\"center\")\n",
    "    \n",
    "plt.show()"
   ]
  },
  {
   "cell_type": "code",
   "execution_count": 14,
   "metadata": {
    "execution": {
     "iopub.execute_input": "2020-12-13T23:45:04.968234Z",
     "iopub.status.busy": "2020-12-13T23:45:04.952671Z",
     "iopub.status.idle": "2020-12-13T23:45:05.188512Z",
     "shell.execute_reply": "2020-12-13T23:45:05.187322Z"
    },
    "papermill": {
     "duration": 0.326727,
     "end_time": "2020-12-13T23:45:05.188643",
     "exception": false,
     "start_time": "2020-12-13T23:45:04.861916",
     "status": "completed"
    },
    "tags": []
   },
   "outputs": [
    {
     "data": {
      "image/png": "[encoded data removed]",
      "text/plain": [
       "<Figure size 1152x432 with 1 Axes>"
      ]
     },
     "metadata": {
      "needs_background": "light"
     },
     "output_type": "display_data"
    }
   ],
   "source": [
    "#visualizing frequency distribution of secondary players by college\n",
    "plt.figure(figsize=(16,6))\n",
    "graph = sns.countplot(x='collegeName',data=df,palette='magma',\n",
    "                      order=df.collegeName.value_counts().iloc[:15].index)\n",
    "\n",
    "for p in graph.patches:\n",
    "    height = p.get_height()\n",
    "    graph.text(p.get_x()+p.get_width()/2., height + 0.3,height ,ha=\"center\")\n",
    "    \n",
    "plt.show()"
   ]
  },
  {
   "cell_type": "code",
   "execution_count": 15,
   "metadata": {
    "execution": {
     "iopub.execute_input": "2020-12-13T23:45:05.365532Z",
     "iopub.status.busy": "2020-12-13T23:45:05.360847Z",
     "iopub.status.idle": "2020-12-13T23:45:05.557662Z",
     "shell.execute_reply": "2020-12-13T23:45:05.557126Z"
    },
    "papermill": {
     "duration": 0.293054,
     "end_time": "2020-12-13T23:45:05.557780",
     "exception": false,
     "start_time": "2020-12-13T23:45:05.264726",
     "status": "completed"
    },
    "tags": []
   },
   "outputs": [
    {
     "data": {
      "image/png": "[encoded data removed]",
      "text/plain": [
       "<Figure size 1152x432 with 1 Axes>"
      ]
     },
     "metadata": {
      "needs_background": "light"
     },
     "output_type": "display_data"
    }
   ],
   "source": [
    "#visualizing the frequecy dirstibution of secondary players by age\n",
    "plt.figure(figsize=(16,6))\n",
    "graph = sns.countplot(x='height',data=df,palette='viridis')\n",
    "\n",
    "for p in graph.patches:\n",
    "    height = p.get_height()\n",
    "    graph.text(p.get_x()+p.get_width()/2., height + 0.5,height ,ha=\"center\")\n",
    "    \n",
    "plt.show()"
   ]
  },
  {
   "cell_type": "code",
   "execution_count": 16,
   "metadata": {
    "execution": {
     "iopub.execute_input": "2020-12-13T23:45:05.829090Z",
     "iopub.status.busy": "2020-12-13T23:45:05.823884Z",
     "iopub.status.idle": "2020-12-13T23:45:06.409062Z",
     "shell.execute_reply": "2020-12-13T23:45:06.408475Z"
    },
    "papermill": {
     "duration": 0.775766,
     "end_time": "2020-12-13T23:45:06.409177",
     "exception": false,
     "start_time": "2020-12-13T23:45:05.633411",
     "status": "completed"
    },
    "tags": []
   },
   "outputs": [
    {
     "data": {
      "image/png": "[encoded data removed]",
      "text/plain": [
       "<Figure size 1152x432 with 1 Axes>"
      ]
     },
     "metadata": {
      "needs_background": "light"
     },
     "output_type": "display_data"
    }
   ],
   "source": [
    "#visualizing the frequecy dirstibution of secondary players by age\n",
    "plt.figure(figsize=(16,6))\n",
    "graph = sns.countplot(x='weight',data=df,palette='mako')\n",
    "\n",
    "for p in graph.patches:\n",
    "    height = p.get_height()\n",
    "    graph.text(p.get_x()+p.get_width()/2., height + 0.5,height ,ha=\"center\")\n",
    "    \n",
    "plt.show()"
   ]
  },
  {
   "cell_type": "code",
   "execution_count": 17,
   "metadata": {
    "execution": {
     "iopub.execute_input": "2020-12-13T23:45:06.567874Z",
     "iopub.status.busy": "2020-12-13T23:45:06.567211Z",
     "iopub.status.idle": "2020-12-13T23:45:10.526905Z",
     "shell.execute_reply": "2020-12-13T23:45:10.525900Z"
    },
    "papermill": {
     "duration": 4.042543,
     "end_time": "2020-12-13T23:45:10.527108",
     "exception": false,
     "start_time": "2020-12-13T23:45:06.484565",
     "status": "completed"
    },
    "tags": []
   },
   "outputs": [],
   "source": [
    "#import week 1 data\n",
    "week1 = pd.read_csv('/kaggle/input/nfl-big-data-bowl-2021/week1.csv')"
   ]
  },
  {
   "cell_type": "code",
   "execution_count": 18,
   "metadata": {
    "execution": {
     "iopub.execute_input": "2020-12-13T23:45:10.702319Z",
     "iopub.status.busy": "2020-12-13T23:45:10.701638Z",
     "iopub.status.idle": "2020-12-13T23:45:10.705867Z",
     "shell.execute_reply": "2020-12-13T23:45:10.706399Z"
    },
    "papermill": {
     "duration": 0.103738,
     "end_time": "2020-12-13T23:45:10.706571",
     "exception": false,
     "start_time": "2020-12-13T23:45:10.602833",
     "status": "completed"
    },
    "tags": []
   },
   "outputs": [
    {
     "data": {
      "text/html": [
       "<div>\n",
       "<style scoped>\n",
       "    .dataframe tbody tr th:only-of-type {\n",
       "        vertical-align: middle;\n",
       "    }\n",
       "\n",
       "    .dataframe tbody tr th {\n",
       "        vertical-align: top;\n",
       "    }\n",
       "\n",
       "    .dataframe thead th {\n",
       "        text-align: right;\n",
       "    }\n",
       "</style>\n",
       "<table border=\"1\" class=\"dataframe\">\n",
       "  <thead>\n",
       "    <tr style=\"text-align: right;\">\n",
       "      <th></th>\n",
       "      <th>time</th>\n",
       "      <th>x</th>\n",
       "      <th>y</th>\n",
       "      <th>s</th>\n",
       "      <th>a</th>\n",
       "      <th>dis</th>\n",
       "      <th>o</th>\n",
       "      <th>dir</th>\n",
       "      <th>event</th>\n",
       "      <th>nflId</th>\n",
       "      <th>displayName</th>\n",
       "      <th>jerseyNumber</th>\n",
       "      <th>position</th>\n",
       "      <th>frameId</th>\n",
       "      <th>team</th>\n",
       "      <th>gameId</th>\n",
       "      <th>playId</th>\n",
       "      <th>playDirection</th>\n",
       "      <th>route</th>\n",
       "    </tr>\n",
       "  </thead>\n",
       "  <tbody>\n",
       "    <tr>\n",
       "      <th>0</th>\n",
       "      <td>2018-09-07T01:07:14.599Z</td>\n",
       "      <td>91.73</td>\n",
       "      <td>26.67</td>\n",
       "      <td>0.00</td>\n",
       "      <td>0.01</td>\n",
       "      <td>0.02</td>\n",
       "      <td>289.57</td>\n",
       "      <td>240.93</td>\n",
       "      <td>None</td>\n",
       "      <td>310.0</td>\n",
       "      <td>Matt Ryan</td>\n",
       "      <td>2.0</td>\n",
       "      <td>QB</td>\n",
       "      <td>1</td>\n",
       "      <td>away</td>\n",
       "      <td>2018090600</td>\n",
       "      <td>75</td>\n",
       "      <td>left</td>\n",
       "      <td>NaN</td>\n",
       "    </tr>\n",
       "    <tr>\n",
       "      <th>1</th>\n",
       "      <td>2018-09-07T01:07:14.599Z</td>\n",
       "      <td>88.89</td>\n",
       "      <td>36.47</td>\n",
       "      <td>0.01</td>\n",
       "      <td>0.01</td>\n",
       "      <td>0.01</td>\n",
       "      <td>105.63</td>\n",
       "      <td>66.66</td>\n",
       "      <td>None</td>\n",
       "      <td>79848.0</td>\n",
       "      <td>Malcolm Jenkins</td>\n",
       "      <td>27.0</td>\n",
       "      <td>SS</td>\n",
       "      <td>1</td>\n",
       "      <td>home</td>\n",
       "      <td>2018090600</td>\n",
       "      <td>75</td>\n",
       "      <td>left</td>\n",
       "      <td>NaN</td>\n",
       "    </tr>\n",
       "    <tr>\n",
       "      <th>2</th>\n",
       "      <td>2018-09-07T01:07:14.599Z</td>\n",
       "      <td>91.35</td>\n",
       "      <td>44.16</td>\n",
       "      <td>0.02</td>\n",
       "      <td>0.03</td>\n",
       "      <td>0.01</td>\n",
       "      <td>290.45</td>\n",
       "      <td>16.86</td>\n",
       "      <td>None</td>\n",
       "      <td>2495454.0</td>\n",
       "      <td>Julio Jones</td>\n",
       "      <td>11.0</td>\n",
       "      <td>WR</td>\n",
       "      <td>1</td>\n",
       "      <td>away</td>\n",
       "      <td>2018090600</td>\n",
       "      <td>75</td>\n",
       "      <td>left</td>\n",
       "      <td>HITCH</td>\n",
       "    </tr>\n",
       "    <tr>\n",
       "      <th>3</th>\n",
       "      <td>2018-09-07T01:07:14.599Z</td>\n",
       "      <td>86.31</td>\n",
       "      <td>22.01</td>\n",
       "      <td>0.09</td>\n",
       "      <td>0.42</td>\n",
       "      <td>0.01</td>\n",
       "      <td>70.12</td>\n",
       "      <td>168.91</td>\n",
       "      <td>None</td>\n",
       "      <td>2495613.0</td>\n",
       "      <td>Corey Graham</td>\n",
       "      <td>24.0</td>\n",
       "      <td>FS</td>\n",
       "      <td>1</td>\n",
       "      <td>home</td>\n",
       "      <td>2018090600</td>\n",
       "      <td>75</td>\n",
       "      <td>left</td>\n",
       "      <td>NaN</td>\n",
       "    </tr>\n",
       "    <tr>\n",
       "      <th>4</th>\n",
       "      <td>2018-09-07T01:07:14.599Z</td>\n",
       "      <td>90.78</td>\n",
       "      <td>36.15</td>\n",
       "      <td>0.00</td>\n",
       "      <td>0.00</td>\n",
       "      <td>0.00</td>\n",
       "      <td>257.61</td>\n",
       "      <td>193.97</td>\n",
       "      <td>None</td>\n",
       "      <td>2533040.0</td>\n",
       "      <td>Mohamed Sanu</td>\n",
       "      <td>12.0</td>\n",
       "      <td>WR</td>\n",
       "      <td>1</td>\n",
       "      <td>away</td>\n",
       "      <td>2018090600</td>\n",
       "      <td>75</td>\n",
       "      <td>left</td>\n",
       "      <td>HITCH</td>\n",
       "    </tr>\n",
       "  </tbody>\n",
       "</table>\n",
       "</div>"
      ],
      "text/plain": [
       "                       time      x      y     s     a   dis       o     dir  \\\n",
       "0  2018-09-07T01:07:14.599Z  91.73  26.67  0.00  0.01  0.02  289.57  240.93   \n",
       "1  2018-09-07T01:07:14.599Z  88.89  36.47  0.01  0.01  0.01  105.63   66.66   \n",
       "2  2018-09-07T01:07:14.599Z  91.35  44.16  0.02  0.03  0.01  290.45   16.86   \n",
       "3  2018-09-07T01:07:14.599Z  86.31  22.01  0.09  0.42  0.01   70.12  168.91   \n",
       "4  2018-09-07T01:07:14.599Z  90.78  36.15  0.00  0.00  0.00  257.61  193.97   \n",
       "\n",
       "  event      nflId      displayName  jerseyNumber position  frameId  team  \\\n",
       "0  None      310.0        Matt Ryan           2.0       QB        1  away   \n",
       "1  None    79848.0  Malcolm Jenkins          27.0       SS        1  home   \n",
       "2  None  2495454.0      Julio Jones          11.0       WR        1  away   \n",
       "3  None  2495613.0     Corey Graham          24.0       FS        1  home   \n",
       "4  None  2533040.0     Mohamed Sanu          12.0       WR        1  away   \n",
       "\n",
       "       gameId  playId playDirection  route  \n",
       "0  2018090600      75          left    NaN  \n",
       "1  2018090600      75          left    NaN  \n",
       "2  2018090600      75          left  HITCH  \n",
       "3  2018090600      75          left    NaN  \n",
       "4  2018090600      75          left  HITCH  "
      ]
     },
     "execution_count": 18,
     "metadata": {},
     "output_type": "execute_result"
    }
   ],
   "source": [
    "week1.head()"
   ]
  },
  {
   "cell_type": "code",
   "execution_count": 19,
   "metadata": {
    "execution": {
     "iopub.execute_input": "2020-12-13T23:45:10.867267Z",
     "iopub.status.busy": "2020-12-13T23:45:10.866542Z",
     "iopub.status.idle": "2020-12-13T23:45:11.591780Z",
     "shell.execute_reply": "2020-12-13T23:45:11.591212Z"
    },
    "papermill": {
     "duration": 0.808158,
     "end_time": "2020-12-13T23:45:11.591894",
     "exception": false,
     "start_time": "2020-12-13T23:45:10.783736",
     "status": "completed"
    },
    "tags": []
   },
   "outputs": [
    {
     "data": {
      "text/plain": [
       "time                  0\n",
       "x                     0\n",
       "y                     0\n",
       "s                     0\n",
       "a                     0\n",
       "dis                   0\n",
       "o                 66913\n",
       "dir               66913\n",
       "event                 0\n",
       "nflId             66913\n",
       "displayName           0\n",
       "jerseyNumber      66913\n",
       "position          66913\n",
       "frameId               0\n",
       "team                  0\n",
       "gameId                0\n",
       "playId                0\n",
       "playDirection         0\n",
       "route            712708\n",
       "dtype: int64"
      ]
     },
     "execution_count": 19,
     "metadata": {},
     "output_type": "execute_result"
    }
   ],
   "source": [
    "week1.isnull().sum()"
   ]
  },
  {
   "cell_type": "code",
   "execution_count": 20,
   "metadata": {
    "execution": {
     "iopub.execute_input": "2020-12-13T23:45:11.765502Z",
     "iopub.status.busy": "2020-12-13T23:45:11.764715Z",
     "iopub.status.idle": "2020-12-13T23:45:11.816017Z",
     "shell.execute_reply": "2020-12-13T23:45:11.815334Z"
    },
    "papermill": {
     "duration": 0.146764,
     "end_time": "2020-12-13T23:45:11.816148",
     "exception": false,
     "start_time": "2020-12-13T23:45:11.669384",
     "status": "completed"
    },
    "tags": []
   },
   "outputs": [
    {
     "data": {
      "text/html": [
       "<div>\n",
       "<style scoped>\n",
       "    .dataframe tbody tr th:only-of-type {\n",
       "        vertical-align: middle;\n",
       "    }\n",
       "\n",
       "    .dataframe tbody tr th {\n",
       "        vertical-align: top;\n",
       "    }\n",
       "\n",
       "    .dataframe thead th {\n",
       "        text-align: right;\n",
       "    }\n",
       "</style>\n",
       "<table border=\"1\" class=\"dataframe\">\n",
       "  <thead>\n",
       "    <tr style=\"text-align: right;\">\n",
       "      <th></th>\n",
       "      <th>s</th>\n",
       "      <th>a</th>\n",
       "      <th>dis</th>\n",
       "      <th>displayName</th>\n",
       "      <th>position</th>\n",
       "    </tr>\n",
       "  </thead>\n",
       "  <tbody>\n",
       "    <tr>\n",
       "      <th>0</th>\n",
       "      <td>0.00</td>\n",
       "      <td>0.01</td>\n",
       "      <td>0.02</td>\n",
       "      <td>Matt Ryan</td>\n",
       "      <td>QB</td>\n",
       "    </tr>\n",
       "    <tr>\n",
       "      <th>1</th>\n",
       "      <td>0.01</td>\n",
       "      <td>0.01</td>\n",
       "      <td>0.01</td>\n",
       "      <td>Malcolm Jenkins</td>\n",
       "      <td>SS</td>\n",
       "    </tr>\n",
       "    <tr>\n",
       "      <th>2</th>\n",
       "      <td>0.02</td>\n",
       "      <td>0.03</td>\n",
       "      <td>0.01</td>\n",
       "      <td>Julio Jones</td>\n",
       "      <td>WR</td>\n",
       "    </tr>\n",
       "    <tr>\n",
       "      <th>3</th>\n",
       "      <td>0.09</td>\n",
       "      <td>0.42</td>\n",
       "      <td>0.01</td>\n",
       "      <td>Corey Graham</td>\n",
       "      <td>FS</td>\n",
       "    </tr>\n",
       "    <tr>\n",
       "      <th>4</th>\n",
       "      <td>0.00</td>\n",
       "      <td>0.00</td>\n",
       "      <td>0.00</td>\n",
       "      <td>Mohamed Sanu</td>\n",
       "      <td>WR</td>\n",
       "    </tr>\n",
       "    <tr>\n",
       "      <th>...</th>\n",
       "      <td>...</td>\n",
       "      <td>...</td>\n",
       "      <td>...</td>\n",
       "      <td>...</td>\n",
       "      <td>...</td>\n",
       "    </tr>\n",
       "    <tr>\n",
       "      <th>986017</th>\n",
       "      <td>1.96</td>\n",
       "      <td>3.79</td>\n",
       "      <td>0.22</td>\n",
       "      <td>Marqui Christian</td>\n",
       "      <td>SS</td>\n",
       "    </tr>\n",
       "    <tr>\n",
       "      <th>986018</th>\n",
       "      <td>0.81</td>\n",
       "      <td>1.52</td>\n",
       "      <td>0.09</td>\n",
       "      <td>Cory Littleton</td>\n",
       "      <td>ILB</td>\n",
       "    </tr>\n",
       "    <tr>\n",
       "      <th>986019</th>\n",
       "      <td>2.63</td>\n",
       "      <td>4.57</td>\n",
       "      <td>0.27</td>\n",
       "      <td>Jalen Richard</td>\n",
       "      <td>RB</td>\n",
       "    </tr>\n",
       "    <tr>\n",
       "      <th>986020</th>\n",
       "      <td>0.15</td>\n",
       "      <td>0.72</td>\n",
       "      <td>0.02</td>\n",
       "      <td>John Johnson</td>\n",
       "      <td>SS</td>\n",
       "    </tr>\n",
       "    <tr>\n",
       "      <th>986021</th>\n",
       "      <td>1.81</td>\n",
       "      <td>4.24</td>\n",
       "      <td>0.20</td>\n",
       "      <td>Football</td>\n",
       "      <td>NaN</td>\n",
       "    </tr>\n",
       "  </tbody>\n",
       "</table>\n",
       "<p>986022 rows × 5 columns</p>\n",
       "</div>"
      ],
      "text/plain": [
       "           s     a   dis       displayName position\n",
       "0       0.00  0.01  0.02         Matt Ryan       QB\n",
       "1       0.01  0.01  0.01   Malcolm Jenkins       SS\n",
       "2       0.02  0.03  0.01       Julio Jones       WR\n",
       "3       0.09  0.42  0.01      Corey Graham       FS\n",
       "4       0.00  0.00  0.00      Mohamed Sanu       WR\n",
       "...      ...   ...   ...               ...      ...\n",
       "986017  1.96  3.79  0.22  Marqui Christian       SS\n",
       "986018  0.81  1.52  0.09    Cory Littleton      ILB\n",
       "986019  2.63  4.57  0.27     Jalen Richard       RB\n",
       "986020  0.15  0.72  0.02      John Johnson       SS\n",
       "986021  1.81  4.24  0.20          Football      NaN\n",
       "\n",
       "[986022 rows x 5 columns]"
      ]
     },
     "execution_count": 20,
     "metadata": {},
     "output_type": "execute_result"
    }
   ],
   "source": [
    "week1.drop(['dir','nflId','o','jerseyNumber','route','time','x','y','event','frameId','team','gameId','playId','playDirection'],axis=1)\n",
    "week1 = week1.drop(['dir','nflId','o','jerseyNumber','route','time','x','y','event','frameId','team','gameId','playId','playDirection'],axis=1)\n",
    "week1"
   ]
  },
  {
   "cell_type": "markdown",
   "metadata": {
    "papermill": {
     "duration": 0.077186,
     "end_time": "2020-12-13T23:45:11.970854",
     "exception": false,
     "start_time": "2020-12-13T23:45:11.893668",
     "status": "completed"
    },
    "tags": []
   },
   "source": []
  },
  {
   "cell_type": "code",
   "execution_count": 21,
   "metadata": {
    "execution": {
     "iopub.execute_input": "2020-12-13T23:45:12.134891Z",
     "iopub.status.busy": "2020-12-13T23:45:12.134233Z",
     "iopub.status.idle": "2020-12-13T23:45:12.413747Z",
     "shell.execute_reply": "2020-12-13T23:45:12.413176Z"
    },
    "papermill": {
     "duration": 0.36238,
     "end_time": "2020-12-13T23:45:12.413870",
     "exception": false,
     "start_time": "2020-12-13T23:45:12.051490",
     "status": "completed"
    },
    "tags": []
   },
   "outputs": [
    {
     "data": {
      "text/html": [
       "<div>\n",
       "<style scoped>\n",
       "    .dataframe tbody tr th:only-of-type {\n",
       "        vertical-align: middle;\n",
       "    }\n",
       "\n",
       "    .dataframe tbody tr th {\n",
       "        vertical-align: top;\n",
       "    }\n",
       "\n",
       "    .dataframe thead th {\n",
       "        text-align: right;\n",
       "    }\n",
       "</style>\n",
       "<table border=\"1\" class=\"dataframe\">\n",
       "  <thead>\n",
       "    <tr style=\"text-align: right;\">\n",
       "      <th></th>\n",
       "      <th>s</th>\n",
       "      <th>a</th>\n",
       "      <th>dis</th>\n",
       "      <th>displayName</th>\n",
       "      <th>position</th>\n",
       "    </tr>\n",
       "  </thead>\n",
       "  <tbody>\n",
       "    <tr>\n",
       "      <th>0</th>\n",
       "      <td>0.00</td>\n",
       "      <td>0.01</td>\n",
       "      <td>0.02</td>\n",
       "      <td>Matt Ryan</td>\n",
       "      <td>QB</td>\n",
       "    </tr>\n",
       "    <tr>\n",
       "      <th>1</th>\n",
       "      <td>0.01</td>\n",
       "      <td>0.01</td>\n",
       "      <td>0.01</td>\n",
       "      <td>Malcolm Jenkins</td>\n",
       "      <td>SS</td>\n",
       "    </tr>\n",
       "    <tr>\n",
       "      <th>2</th>\n",
       "      <td>0.02</td>\n",
       "      <td>0.03</td>\n",
       "      <td>0.01</td>\n",
       "      <td>Julio Jones</td>\n",
       "      <td>WR</td>\n",
       "    </tr>\n",
       "    <tr>\n",
       "      <th>3</th>\n",
       "      <td>0.09</td>\n",
       "      <td>0.42</td>\n",
       "      <td>0.01</td>\n",
       "      <td>Corey Graham</td>\n",
       "      <td>FS</td>\n",
       "    </tr>\n",
       "    <tr>\n",
       "      <th>4</th>\n",
       "      <td>0.00</td>\n",
       "      <td>0.00</td>\n",
       "      <td>0.00</td>\n",
       "      <td>Mohamed Sanu</td>\n",
       "      <td>WR</td>\n",
       "    </tr>\n",
       "    <tr>\n",
       "      <th>...</th>\n",
       "      <td>...</td>\n",
       "      <td>...</td>\n",
       "      <td>...</td>\n",
       "      <td>...</td>\n",
       "      <td>...</td>\n",
       "    </tr>\n",
       "    <tr>\n",
       "      <th>986016</th>\n",
       "      <td>2.63</td>\n",
       "      <td>2.49</td>\n",
       "      <td>0.27</td>\n",
       "      <td>Marcus Peters</td>\n",
       "      <td>CB</td>\n",
       "    </tr>\n",
       "    <tr>\n",
       "      <th>986017</th>\n",
       "      <td>1.96</td>\n",
       "      <td>3.79</td>\n",
       "      <td>0.22</td>\n",
       "      <td>Marqui Christian</td>\n",
       "      <td>SS</td>\n",
       "    </tr>\n",
       "    <tr>\n",
       "      <th>986018</th>\n",
       "      <td>0.81</td>\n",
       "      <td>1.52</td>\n",
       "      <td>0.09</td>\n",
       "      <td>Cory Littleton</td>\n",
       "      <td>ILB</td>\n",
       "    </tr>\n",
       "    <tr>\n",
       "      <th>986019</th>\n",
       "      <td>2.63</td>\n",
       "      <td>4.57</td>\n",
       "      <td>0.27</td>\n",
       "      <td>Jalen Richard</td>\n",
       "      <td>RB</td>\n",
       "    </tr>\n",
       "    <tr>\n",
       "      <th>986020</th>\n",
       "      <td>0.15</td>\n",
       "      <td>0.72</td>\n",
       "      <td>0.02</td>\n",
       "      <td>John Johnson</td>\n",
       "      <td>SS</td>\n",
       "    </tr>\n",
       "  </tbody>\n",
       "</table>\n",
       "<p>919109 rows × 5 columns</p>\n",
       "</div>"
      ],
      "text/plain": [
       "           s     a   dis       displayName position\n",
       "0       0.00  0.01  0.02         Matt Ryan       QB\n",
       "1       0.01  0.01  0.01   Malcolm Jenkins       SS\n",
       "2       0.02  0.03  0.01       Julio Jones       WR\n",
       "3       0.09  0.42  0.01      Corey Graham       FS\n",
       "4       0.00  0.00  0.00      Mohamed Sanu       WR\n",
       "...      ...   ...   ...               ...      ...\n",
       "986016  2.63  2.49  0.27     Marcus Peters       CB\n",
       "986017  1.96  3.79  0.22  Marqui Christian       SS\n",
       "986018  0.81  1.52  0.09    Cory Littleton      ILB\n",
       "986019  2.63  4.57  0.27     Jalen Richard       RB\n",
       "986020  0.15  0.72  0.02      John Johnson       SS\n",
       "\n",
       "[919109 rows x 5 columns]"
      ]
     },
     "execution_count": 21,
     "metadata": {},
     "output_type": "execute_result"
    }
   ],
   "source": [
    "#drop all NAN\n",
    "week1.dropna()"
   ]
  },
  {
   "cell_type": "code",
   "execution_count": 22,
   "metadata": {
    "execution": {
     "iopub.execute_input": "2020-12-13T23:45:12.587498Z",
     "iopub.status.busy": "2020-12-13T23:45:12.586566Z",
     "iopub.status.idle": "2020-12-13T23:45:12.591245Z",
     "shell.execute_reply": "2020-12-13T23:45:12.591685Z"
    },
    "papermill": {
     "duration": 0.099617,
     "end_time": "2020-12-13T23:45:12.591827",
     "exception": false,
     "start_time": "2020-12-13T23:45:12.492210",
     "status": "completed"
    },
    "tags": []
   },
   "outputs": [
    {
     "data": {
      "text/html": [
       "<div>\n",
       "<style scoped>\n",
       "    .dataframe tbody tr th:only-of-type {\n",
       "        vertical-align: middle;\n",
       "    }\n",
       "\n",
       "    .dataframe tbody tr th {\n",
       "        vertical-align: top;\n",
       "    }\n",
       "\n",
       "    .dataframe thead th {\n",
       "        text-align: right;\n",
       "    }\n",
       "</style>\n",
       "<table border=\"1\" class=\"dataframe\">\n",
       "  <thead>\n",
       "    <tr style=\"text-align: right;\">\n",
       "      <th></th>\n",
       "      <th>s</th>\n",
       "      <th>a</th>\n",
       "      <th>dis</th>\n",
       "      <th>displayName</th>\n",
       "      <th>position</th>\n",
       "    </tr>\n",
       "  </thead>\n",
       "  <tbody>\n",
       "    <tr>\n",
       "      <th>0</th>\n",
       "      <td>0.00</td>\n",
       "      <td>0.01</td>\n",
       "      <td>0.02</td>\n",
       "      <td>Matt Ryan</td>\n",
       "      <td>QB</td>\n",
       "    </tr>\n",
       "    <tr>\n",
       "      <th>1</th>\n",
       "      <td>0.01</td>\n",
       "      <td>0.01</td>\n",
       "      <td>0.01</td>\n",
       "      <td>Malcolm Jenkins</td>\n",
       "      <td>SS</td>\n",
       "    </tr>\n",
       "    <tr>\n",
       "      <th>2</th>\n",
       "      <td>0.02</td>\n",
       "      <td>0.03</td>\n",
       "      <td>0.01</td>\n",
       "      <td>Julio Jones</td>\n",
       "      <td>WR</td>\n",
       "    </tr>\n",
       "    <tr>\n",
       "      <th>3</th>\n",
       "      <td>0.09</td>\n",
       "      <td>0.42</td>\n",
       "      <td>0.01</td>\n",
       "      <td>Corey Graham</td>\n",
       "      <td>FS</td>\n",
       "    </tr>\n",
       "    <tr>\n",
       "      <th>4</th>\n",
       "      <td>0.00</td>\n",
       "      <td>0.00</td>\n",
       "      <td>0.00</td>\n",
       "      <td>Mohamed Sanu</td>\n",
       "      <td>WR</td>\n",
       "    </tr>\n",
       "    <tr>\n",
       "      <th>...</th>\n",
       "      <td>...</td>\n",
       "      <td>...</td>\n",
       "      <td>...</td>\n",
       "      <td>...</td>\n",
       "      <td>...</td>\n",
       "    </tr>\n",
       "    <tr>\n",
       "      <th>986017</th>\n",
       "      <td>1.96</td>\n",
       "      <td>3.79</td>\n",
       "      <td>0.22</td>\n",
       "      <td>Marqui Christian</td>\n",
       "      <td>SS</td>\n",
       "    </tr>\n",
       "    <tr>\n",
       "      <th>986018</th>\n",
       "      <td>0.81</td>\n",
       "      <td>1.52</td>\n",
       "      <td>0.09</td>\n",
       "      <td>Cory Littleton</td>\n",
       "      <td>ILB</td>\n",
       "    </tr>\n",
       "    <tr>\n",
       "      <th>986019</th>\n",
       "      <td>2.63</td>\n",
       "      <td>4.57</td>\n",
       "      <td>0.27</td>\n",
       "      <td>Jalen Richard</td>\n",
       "      <td>RB</td>\n",
       "    </tr>\n",
       "    <tr>\n",
       "      <th>986020</th>\n",
       "      <td>0.15</td>\n",
       "      <td>0.72</td>\n",
       "      <td>0.02</td>\n",
       "      <td>John Johnson</td>\n",
       "      <td>SS</td>\n",
       "    </tr>\n",
       "    <tr>\n",
       "      <th>986021</th>\n",
       "      <td>1.81</td>\n",
       "      <td>4.24</td>\n",
       "      <td>0.20</td>\n",
       "      <td>Football</td>\n",
       "      <td>NaN</td>\n",
       "    </tr>\n",
       "  </tbody>\n",
       "</table>\n",
       "<p>986022 rows × 5 columns</p>\n",
       "</div>"
      ],
      "text/plain": [
       "           s     a   dis       displayName position\n",
       "0       0.00  0.01  0.02         Matt Ryan       QB\n",
       "1       0.01  0.01  0.01   Malcolm Jenkins       SS\n",
       "2       0.02  0.03  0.01       Julio Jones       WR\n",
       "3       0.09  0.42  0.01      Corey Graham       FS\n",
       "4       0.00  0.00  0.00      Mohamed Sanu       WR\n",
       "...      ...   ...   ...               ...      ...\n",
       "986017  1.96  3.79  0.22  Marqui Christian       SS\n",
       "986018  0.81  1.52  0.09    Cory Littleton      ILB\n",
       "986019  2.63  4.57  0.27     Jalen Richard       RB\n",
       "986020  0.15  0.72  0.02      John Johnson       SS\n",
       "986021  1.81  4.24  0.20          Football      NaN\n",
       "\n",
       "[986022 rows x 5 columns]"
      ]
     },
     "execution_count": 22,
     "metadata": {},
     "output_type": "execute_result"
    }
   ],
   "source": [
    "df1 = pd.DataFrame(week1)\n",
    "df1"
   ]
  },
  {
   "cell_type": "code",
   "execution_count": 23,
   "metadata": {
    "execution": {
     "iopub.execute_input": "2020-12-13T23:45:12.807136Z",
     "iopub.status.busy": "2020-12-13T23:45:12.806157Z",
     "iopub.status.idle": "2020-12-13T23:45:12.896561Z",
     "shell.execute_reply": "2020-12-13T23:45:12.896019Z"
    },
    "papermill": {
     "duration": 0.225762,
     "end_time": "2020-12-13T23:45:12.896675",
     "exception": false,
     "start_time": "2020-12-13T23:45:12.670913",
     "status": "completed"
    },
    "tags": []
   },
   "outputs": [
    {
     "data": {
      "text/html": [
       "<div>\n",
       "<style scoped>\n",
       "    .dataframe tbody tr th:only-of-type {\n",
       "        vertical-align: middle;\n",
       "    }\n",
       "\n",
       "    .dataframe tbody tr th {\n",
       "        vertical-align: top;\n",
       "    }\n",
       "\n",
       "    .dataframe thead th {\n",
       "        text-align: right;\n",
       "    }\n",
       "</style>\n",
       "<table border=\"1\" class=\"dataframe\">\n",
       "  <thead>\n",
       "    <tr style=\"text-align: right;\">\n",
       "      <th></th>\n",
       "      <th>s</th>\n",
       "      <th>a</th>\n",
       "      <th>dis</th>\n",
       "      <th>displayName</th>\n",
       "      <th>position</th>\n",
       "    </tr>\n",
       "  </thead>\n",
       "  <tbody>\n",
       "    <tr>\n",
       "      <th>1</th>\n",
       "      <td>0.01</td>\n",
       "      <td>0.01</td>\n",
       "      <td>0.01</td>\n",
       "      <td>Malcolm Jenkins</td>\n",
       "      <td>SS</td>\n",
       "    </tr>\n",
       "    <tr>\n",
       "      <th>3</th>\n",
       "      <td>0.09</td>\n",
       "      <td>0.42</td>\n",
       "      <td>0.01</td>\n",
       "      <td>Corey Graham</td>\n",
       "      <td>FS</td>\n",
       "    </tr>\n",
       "    <tr>\n",
       "      <th>5</th>\n",
       "      <td>0.03</td>\n",
       "      <td>0.02</td>\n",
       "      <td>0.01</td>\n",
       "      <td>Rodney McLeod</td>\n",
       "      <td>FS</td>\n",
       "    </tr>\n",
       "    <tr>\n",
       "      <th>8</th>\n",
       "      <td>0.03</td>\n",
       "      <td>0.07</td>\n",
       "      <td>0.01</td>\n",
       "      <td>Ronald Darby</td>\n",
       "      <td>CB</td>\n",
       "    </tr>\n",
       "    <tr>\n",
       "      <th>9</th>\n",
       "      <td>0.14</td>\n",
       "      <td>0.05</td>\n",
       "      <td>0.01</td>\n",
       "      <td>Jalen Mills</td>\n",
       "      <td>CB</td>\n",
       "    </tr>\n",
       "    <tr>\n",
       "      <th>...</th>\n",
       "      <td>...</td>\n",
       "      <td>...</td>\n",
       "      <td>...</td>\n",
       "      <td>...</td>\n",
       "      <td>...</td>\n",
       "    </tr>\n",
       "    <tr>\n",
       "      <th>986010</th>\n",
       "      <td>4.15</td>\n",
       "      <td>1.62</td>\n",
       "      <td>0.42</td>\n",
       "      <td>Nickell Robey-Coleman</td>\n",
       "      <td>CB</td>\n",
       "    </tr>\n",
       "    <tr>\n",
       "      <th>986012</th>\n",
       "      <td>4.65</td>\n",
       "      <td>1.28</td>\n",
       "      <td>0.47</td>\n",
       "      <td>Lamarcus Joyner</td>\n",
       "      <td>FS</td>\n",
       "    </tr>\n",
       "    <tr>\n",
       "      <th>986016</th>\n",
       "      <td>2.63</td>\n",
       "      <td>2.49</td>\n",
       "      <td>0.27</td>\n",
       "      <td>Marcus Peters</td>\n",
       "      <td>CB</td>\n",
       "    </tr>\n",
       "    <tr>\n",
       "      <th>986017</th>\n",
       "      <td>1.96</td>\n",
       "      <td>3.79</td>\n",
       "      <td>0.22</td>\n",
       "      <td>Marqui Christian</td>\n",
       "      <td>SS</td>\n",
       "    </tr>\n",
       "    <tr>\n",
       "      <th>986020</th>\n",
       "      <td>0.15</td>\n",
       "      <td>0.72</td>\n",
       "      <td>0.02</td>\n",
       "      <td>John Johnson</td>\n",
       "      <td>SS</td>\n",
       "    </tr>\n",
       "  </tbody>\n",
       "</table>\n",
       "<p>331049 rows × 5 columns</p>\n",
       "</div>"
      ],
      "text/plain": [
       "           s     a   dis            displayName position\n",
       "1       0.01  0.01  0.01        Malcolm Jenkins       SS\n",
       "3       0.09  0.42  0.01           Corey Graham       FS\n",
       "5       0.03  0.02  0.01          Rodney McLeod       FS\n",
       "8       0.03  0.07  0.01           Ronald Darby       CB\n",
       "9       0.14  0.05  0.01            Jalen Mills       CB\n",
       "...      ...   ...   ...                    ...      ...\n",
       "986010  4.15  1.62  0.42  Nickell Robey-Coleman       CB\n",
       "986012  4.65  1.28  0.47        Lamarcus Joyner       FS\n",
       "986016  2.63  2.49  0.27          Marcus Peters       CB\n",
       "986017  1.96  3.79  0.22       Marqui Christian       SS\n",
       "986020  0.15  0.72  0.02           John Johnson       SS\n",
       "\n",
       "[331049 rows x 5 columns]"
      ]
     },
     "execution_count": 23,
     "metadata": {},
     "output_type": "execute_result"
    }
   ],
   "source": [
    "#filtering so only DB's are captured\n",
    "DB_Pos = ['CB','SS','FS','DB']\n",
    "df1.loc[df1['position'].isin(DB_Pos)]\n",
    "df1 = df1.loc[df1['position'].isin(DB_Pos)]\n",
    "df1"
   ]
  },
  {
   "cell_type": "code",
   "execution_count": 24,
   "metadata": {
    "execution": {
     "iopub.execute_input": "2020-12-13T23:45:13.070226Z",
     "iopub.status.busy": "2020-12-13T23:45:13.068373Z",
     "iopub.status.idle": "2020-12-13T23:45:13.162806Z",
     "shell.execute_reply": "2020-12-13T23:45:13.162294Z"
    },
    "papermill": {
     "duration": 0.18585,
     "end_time": "2020-12-13T23:45:13.162922",
     "exception": false,
     "start_time": "2020-12-13T23:45:12.977072",
     "status": "completed"
    },
    "tags": []
   },
   "outputs": [
    {
     "data": {
      "text/html": [
       "<div>\n",
       "<style scoped>\n",
       "    .dataframe tbody tr th:only-of-type {\n",
       "        vertical-align: middle;\n",
       "    }\n",
       "\n",
       "    .dataframe tbody tr th {\n",
       "        vertical-align: top;\n",
       "    }\n",
       "\n",
       "    .dataframe thead th {\n",
       "        text-align: right;\n",
       "    }\n",
       "</style>\n",
       "<table border=\"1\" class=\"dataframe\">\n",
       "  <thead>\n",
       "    <tr style=\"text-align: right;\">\n",
       "      <th></th>\n",
       "      <th>s</th>\n",
       "      <th>a</th>\n",
       "      <th>dis</th>\n",
       "    </tr>\n",
       "    <tr>\n",
       "      <th>displayName</th>\n",
       "      <th></th>\n",
       "      <th></th>\n",
       "      <th></th>\n",
       "    </tr>\n",
       "  </thead>\n",
       "  <tbody>\n",
       "    <tr>\n",
       "      <th>A.J. Bouye</th>\n",
       "      <td>3.150369</td>\n",
       "      <td>1.918001</td>\n",
       "      <td>0.314957</td>\n",
       "    </tr>\n",
       "    <tr>\n",
       "      <th>Aaron Colvin</th>\n",
       "      <td>3.223784</td>\n",
       "      <td>1.931932</td>\n",
       "      <td>0.321142</td>\n",
       "    </tr>\n",
       "    <tr>\n",
       "      <th>Adoree' Jackson</th>\n",
       "      <td>3.341275</td>\n",
       "      <td>2.141751</td>\n",
       "      <td>0.332601</td>\n",
       "    </tr>\n",
       "    <tr>\n",
       "      <th>Adrian Amos</th>\n",
       "      <td>3.142551</td>\n",
       "      <td>1.855312</td>\n",
       "      <td>0.315051</td>\n",
       "    </tr>\n",
       "    <tr>\n",
       "      <th>Anthony Averett</th>\n",
       "      <td>3.542443</td>\n",
       "      <td>1.913790</td>\n",
       "      <td>0.355251</td>\n",
       "    </tr>\n",
       "    <tr>\n",
       "      <th>...</th>\n",
       "      <td>...</td>\n",
       "      <td>...</td>\n",
       "      <td>...</td>\n",
       "    </tr>\n",
       "    <tr>\n",
       "      <th>Tyrann Mathieu</th>\n",
       "      <td>3.019799</td>\n",
       "      <td>1.984012</td>\n",
       "      <td>0.300460</td>\n",
       "    </tr>\n",
       "    <tr>\n",
       "      <th>Vernon Hargreaves</th>\n",
       "      <td>3.213617</td>\n",
       "      <td>1.966934</td>\n",
       "      <td>0.320336</td>\n",
       "    </tr>\n",
       "    <tr>\n",
       "      <th>Vonn Bell</th>\n",
       "      <td>3.357417</td>\n",
       "      <td>1.722926</td>\n",
       "      <td>0.334544</td>\n",
       "    </tr>\n",
       "    <tr>\n",
       "      <th>William Jackson</th>\n",
       "      <td>2.858990</td>\n",
       "      <td>1.749015</td>\n",
       "      <td>0.285553</td>\n",
       "    </tr>\n",
       "    <tr>\n",
       "      <th>Xavien Howard</th>\n",
       "      <td>3.179640</td>\n",
       "      <td>1.955028</td>\n",
       "      <td>0.316772</td>\n",
       "    </tr>\n",
       "  </tbody>\n",
       "</table>\n",
       "<p>171 rows × 3 columns</p>\n",
       "</div>"
      ],
      "text/plain": [
       "                          s         a       dis\n",
       "displayName                                    \n",
       "A.J. Bouye         3.150369  1.918001  0.314957\n",
       "Aaron Colvin       3.223784  1.931932  0.321142\n",
       "Adoree' Jackson    3.341275  2.141751  0.332601\n",
       "Adrian Amos        3.142551  1.855312  0.315051\n",
       "Anthony Averett    3.542443  1.913790  0.355251\n",
       "...                     ...       ...       ...\n",
       "Tyrann Mathieu     3.019799  1.984012  0.300460\n",
       "Vernon Hargreaves  3.213617  1.966934  0.320336\n",
       "Vonn Bell          3.357417  1.722926  0.334544\n",
       "William Jackson    2.858990  1.749015  0.285553\n",
       "Xavien Howard      3.179640  1.955028  0.316772\n",
       "\n",
       "[171 rows x 3 columns]"
      ]
     },
     "execution_count": 24,
     "metadata": {},
     "output_type": "execute_result"
    }
   ],
   "source": [
    "#average speed and acceleration for all DB's\n",
    "df1.groupby('displayName').mean('s')\n",
    "df1 = df1.groupby('displayName').mean('s')\n",
    "df1\n"
   ]
  },
  {
   "cell_type": "code",
   "execution_count": 25,
   "metadata": {
    "execution": {
     "iopub.execute_input": "2020-12-13T23:45:13.329988Z",
     "iopub.status.busy": "2020-12-13T23:45:13.329365Z",
     "iopub.status.idle": "2020-12-13T23:45:13.523423Z",
     "shell.execute_reply": "2020-12-13T23:45:13.522692Z"
    },
    "papermill": {
     "duration": 0.279291,
     "end_time": "2020-12-13T23:45:13.523546",
     "exception": false,
     "start_time": "2020-12-13T23:45:13.244255",
     "status": "completed"
    },
    "tags": []
   },
   "outputs": [
    {
     "data": {
      "image/png": "[encoded data removed]",
      "text/plain": [
       "<Figure size 432x288 with 1 Axes>"
      ]
     },
     "metadata": {
      "needs_background": "light"
     },
     "output_type": "display_data"
    }
   ],
   "source": [
    "#scatter of speed and acceleration\n",
    "ax1 = df1.plot.scatter(x='s', y='a', c='DarkBlue')"
   ]
  },
  {
   "cell_type": "code",
   "execution_count": 26,
   "metadata": {
    "execution": {
     "iopub.execute_input": "2020-12-13T23:45:13.696706Z",
     "iopub.status.busy": "2020-12-13T23:45:13.695963Z",
     "iopub.status.idle": "2020-12-13T23:45:13.915267Z",
     "shell.execute_reply": "2020-12-13T23:45:13.915812Z"
    },
    "papermill": {
     "duration": 0.311055,
     "end_time": "2020-12-13T23:45:13.915967",
     "exception": false,
     "start_time": "2020-12-13T23:45:13.604912",
     "status": "completed"
    },
    "tags": []
   },
   "outputs": [
    {
     "data": {
      "text/plain": [
       "<matplotlib.axes._subplots.AxesSubplot at 0x7f2288f3ea90>"
      ]
     },
     "execution_count": 26,
     "metadata": {},
     "output_type": "execute_result"
    },
    {
     "data": {
      "image/png": "[encoded data removed]",
      "text/plain": [
       "<Figure size 432x288 with 1 Axes>"
      ]
     },
     "metadata": {
      "needs_background": "light"
     },
     "output_type": "display_data"
    }
   ],
   "source": [
    "#3 variable scatter plot\n",
    "sns.scatterplot(x= df1['s'], y = df1['a'], hue = df1['dis'])"
   ]
  },
  {
   "cell_type": "code",
   "execution_count": 27,
   "metadata": {
    "execution": {
     "iopub.execute_input": "2020-12-13T23:45:14.091466Z",
     "iopub.status.busy": "2020-12-13T23:45:14.090682Z",
     "iopub.status.idle": "2020-12-13T23:45:14.231085Z",
     "shell.execute_reply": "2020-12-13T23:45:14.231623Z"
    },
    "papermill": {
     "duration": 0.230146,
     "end_time": "2020-12-13T23:45:14.231764",
     "exception": false,
     "start_time": "2020-12-13T23:45:14.001618",
     "status": "completed"
    },
    "tags": []
   },
   "outputs": [
    {
     "data": {
      "image/png": "[encoded data removed]",
      "text/plain": [
       "<Figure size 432x288 with 1 Axes>"
      ]
     },
     "metadata": {
      "needs_background": "light"
     },
     "output_type": "display_data"
    }
   ],
   "source": [
    "#3d variable scatter plot\n",
    "x5 = df1['s']\n",
    "y5 = df1['a']\n",
    "z5 = df1['dis']\n",
    "\n",
    "fig = plt.figure()\n",
    "my3dplot = fig.add_subplot(111, projection = '3d')\n",
    "\n",
    "my3dplot.scatter(x5,y5,z5, c='r', marker='o', s=10)\n",
    "my3dplot.set_xlabel('Speed')\n",
    "my3dplot.set_ylabel('Acceleration')\n",
    "my3dplot.set_zlabel('Distance')\n",
    "#Changed the azimuth angle in the x,y plane to make it more visible\n",
    "#Changed the elevation level in the z plane\n",
    "my3dplot.view_init(azim=150, elev=5)\n",
    "plt.show()"
   ]
  },
  {
   "cell_type": "code",
   "execution_count": 28,
   "metadata": {
    "execution": {
     "iopub.execute_input": "2020-12-13T23:45:14.409187Z",
     "iopub.status.busy": "2020-12-13T23:45:14.408481Z",
     "iopub.status.idle": "2020-12-13T23:45:14.434758Z",
     "shell.execute_reply": "2020-12-13T23:45:14.434145Z"
    },
    "papermill": {
     "duration": 0.117216,
     "end_time": "2020-12-13T23:45:14.434882",
     "exception": false,
     "start_time": "2020-12-13T23:45:14.317666",
     "status": "completed"
    },
    "tags": []
   },
   "outputs": [
    {
     "data": {
      "text/html": [
       "<div>\n",
       "<style scoped>\n",
       "    .dataframe tbody tr th:only-of-type {\n",
       "        vertical-align: middle;\n",
       "    }\n",
       "\n",
       "    .dataframe tbody tr th {\n",
       "        vertical-align: top;\n",
       "    }\n",
       "\n",
       "    .dataframe thead th {\n",
       "        text-align: right;\n",
       "    }\n",
       "</style>\n",
       "<table border=\"1\" class=\"dataframe\">\n",
       "  <thead>\n",
       "    <tr style=\"text-align: right;\">\n",
       "      <th></th>\n",
       "      <th>s</th>\n",
       "      <th>a</th>\n",
       "      <th>dis</th>\n",
       "    </tr>\n",
       "  </thead>\n",
       "  <tbody>\n",
       "    <tr>\n",
       "      <th>count</th>\n",
       "      <td>171.000000</td>\n",
       "      <td>171.000000</td>\n",
       "      <td>171.000000</td>\n",
       "    </tr>\n",
       "    <tr>\n",
       "      <th>mean</th>\n",
       "      <td>3.100514</td>\n",
       "      <td>1.871719</td>\n",
       "      <td>0.310050</td>\n",
       "    </tr>\n",
       "    <tr>\n",
       "      <th>std</th>\n",
       "      <td>0.345950</td>\n",
       "      <td>0.158165</td>\n",
       "      <td>0.034971</td>\n",
       "    </tr>\n",
       "    <tr>\n",
       "      <th>min</th>\n",
       "      <td>1.989140</td>\n",
       "      <td>1.203835</td>\n",
       "      <td>0.198495</td>\n",
       "    </tr>\n",
       "    <tr>\n",
       "      <th>25%</th>\n",
       "      <td>2.868912</td>\n",
       "      <td>1.783171</td>\n",
       "      <td>0.286003</td>\n",
       "    </tr>\n",
       "    <tr>\n",
       "      <th>50%</th>\n",
       "      <td>3.064116</td>\n",
       "      <td>1.886930</td>\n",
       "      <td>0.307531</td>\n",
       "    </tr>\n",
       "    <tr>\n",
       "      <th>75%</th>\n",
       "      <td>3.333519</td>\n",
       "      <td>1.972372</td>\n",
       "      <td>0.332483</td>\n",
       "    </tr>\n",
       "    <tr>\n",
       "      <th>max</th>\n",
       "      <td>4.456355</td>\n",
       "      <td>2.334089</td>\n",
       "      <td>0.447290</td>\n",
       "    </tr>\n",
       "  </tbody>\n",
       "</table>\n",
       "</div>"
      ],
      "text/plain": [
       "                s           a         dis\n",
       "count  171.000000  171.000000  171.000000\n",
       "mean     3.100514    1.871719    0.310050\n",
       "std      0.345950    0.158165    0.034971\n",
       "min      1.989140    1.203835    0.198495\n",
       "25%      2.868912    1.783171    0.286003\n",
       "50%      3.064116    1.886930    0.307531\n",
       "75%      3.333519    1.972372    0.332483\n",
       "max      4.456355    2.334089    0.447290"
      ]
     },
     "execution_count": 28,
     "metadata": {},
     "output_type": "execute_result"
    }
   ],
   "source": [
    "#Average speed 3.1 yards/sec\n",
    "#Average acceleration 1.87 yards/sec^2\n",
    "df1.describe()"
   ]
  },
  {
   "cell_type": "code",
   "execution_count": 29,
   "metadata": {
    "execution": {
     "iopub.execute_input": "2020-12-13T23:45:14.626839Z",
     "iopub.status.busy": "2020-12-13T23:45:14.625813Z",
     "iopub.status.idle": "2020-12-13T23:45:14.639577Z",
     "shell.execute_reply": "2020-12-13T23:45:14.640207Z"
    },
    "papermill": {
     "duration": 0.118617,
     "end_time": "2020-12-13T23:45:14.640349",
     "exception": false,
     "start_time": "2020-12-13T23:45:14.521732",
     "status": "completed"
    },
    "tags": []
   },
   "outputs": [
    {
     "data": {
      "text/html": [
       "<div>\n",
       "<style scoped>\n",
       "    .dataframe tbody tr th:only-of-type {\n",
       "        vertical-align: middle;\n",
       "    }\n",
       "\n",
       "    .dataframe tbody tr th {\n",
       "        vertical-align: top;\n",
       "    }\n",
       "\n",
       "    .dataframe thead th {\n",
       "        text-align: right;\n",
       "    }\n",
       "</style>\n",
       "<table border=\"1\" class=\"dataframe\">\n",
       "  <thead>\n",
       "    <tr style=\"text-align: right;\">\n",
       "      <th></th>\n",
       "      <th>height</th>\n",
       "      <th>weight</th>\n",
       "      <th>birthDate</th>\n",
       "      <th>collegeName</th>\n",
       "      <th>position</th>\n",
       "      <th>displayName</th>\n",
       "      <th>birthYear</th>\n",
       "      <th>age</th>\n",
       "    </tr>\n",
       "  </thead>\n",
       "  <tbody>\n",
       "    <tr>\n",
       "      <th>0</th>\n",
       "      <td>72</td>\n",
       "      <td>190</td>\n",
       "      <td>1990-09-10</td>\n",
       "      <td>Washington</td>\n",
       "      <td>CB</td>\n",
       "      <td>Desmond Trufant</td>\n",
       "      <td>1990</td>\n",
       "      <td>28</td>\n",
       "    </tr>\n",
       "    <tr>\n",
       "      <th>1</th>\n",
       "      <td>70</td>\n",
       "      <td>186</td>\n",
       "      <td>1988-11-01</td>\n",
       "      <td>Southeastern Louisiana</td>\n",
       "      <td>CB</td>\n",
       "      <td>Robert Alford</td>\n",
       "      <td>1988</td>\n",
       "      <td>30</td>\n",
       "    </tr>\n",
       "    <tr>\n",
       "      <th>2</th>\n",
       "      <td>69</td>\n",
       "      <td>186</td>\n",
       "      <td>1991-12-18</td>\n",
       "      <td>Purdue</td>\n",
       "      <td>SS</td>\n",
       "      <td>Ricardo Allen</td>\n",
       "      <td>1991</td>\n",
       "      <td>27</td>\n",
       "    </tr>\n",
       "    <tr>\n",
       "      <th>5</th>\n",
       "      <td>73</td>\n",
       "      <td>216</td>\n",
       "      <td>1995-07-26</td>\n",
       "      <td>Florida</td>\n",
       "      <td>FS</td>\n",
       "      <td>Keanu Neal</td>\n",
       "      <td>1995</td>\n",
       "      <td>23</td>\n",
       "    </tr>\n",
       "    <tr>\n",
       "      <th>6</th>\n",
       "      <td>70</td>\n",
       "      <td>211</td>\n",
       "      <td>1992-10-20</td>\n",
       "      <td>Florida</td>\n",
       "      <td>CB</td>\n",
       "      <td>Brian Poole</td>\n",
       "      <td>1992</td>\n",
       "      <td>26</td>\n",
       "    </tr>\n",
       "    <tr>\n",
       "      <th>...</th>\n",
       "      <td>...</td>\n",
       "      <td>...</td>\n",
       "      <td>...</td>\n",
       "      <td>...</td>\n",
       "      <td>...</td>\n",
       "      <td>...</td>\n",
       "      <td>...</td>\n",
       "      <td>...</td>\n",
       "    </tr>\n",
       "    <tr>\n",
       "      <th>1250</th>\n",
       "      <td>74</td>\n",
       "      <td>203</td>\n",
       "      <td>1989-06-06</td>\n",
       "      <td>Texas Tech</td>\n",
       "      <td>FS</td>\n",
       "      <td>Cody Davis</td>\n",
       "      <td>1989</td>\n",
       "      <td>29</td>\n",
       "    </tr>\n",
       "    <tr>\n",
       "      <th>1276</th>\n",
       "      <td>70</td>\n",
       "      <td>195</td>\n",
       "      <td>1994-08-08</td>\n",
       "      <td>Utah State</td>\n",
       "      <td>DB</td>\n",
       "      <td>Dallin Leavitt</td>\n",
       "      <td>1994</td>\n",
       "      <td>24</td>\n",
       "    </tr>\n",
       "    <tr>\n",
       "      <th>1278</th>\n",
       "      <td>74</td>\n",
       "      <td>188</td>\n",
       "      <td>1994-12-04</td>\n",
       "      <td>Mississippi</td>\n",
       "      <td>CB</td>\n",
       "      <td>Derrick Jones</td>\n",
       "      <td>1994</td>\n",
       "      <td>24</td>\n",
       "    </tr>\n",
       "    <tr>\n",
       "      <th>1295</th>\n",
       "      <td>71</td>\n",
       "      <td>205</td>\n",
       "      <td>1996-08-29</td>\n",
       "      <td>South Alabama</td>\n",
       "      <td>DB</td>\n",
       "      <td>Jeremy Reaves</td>\n",
       "      <td>1996</td>\n",
       "      <td>22</td>\n",
       "    </tr>\n",
       "    <tr>\n",
       "      <th>1301</th>\n",
       "      <td>69</td>\n",
       "      <td>187</td>\n",
       "      <td>1993-03-15</td>\n",
       "      <td>Alabama-Birmingham</td>\n",
       "      <td>CB</td>\n",
       "      <td>Darious Williams</td>\n",
       "      <td>1993</td>\n",
       "      <td>25</td>\n",
       "    </tr>\n",
       "  </tbody>\n",
       "</table>\n",
       "<p>351 rows × 8 columns</p>\n",
       "</div>"
      ],
      "text/plain": [
       "      height  weight   birthDate             collegeName position  \\\n",
       "0         72     190  1990-09-10              Washington       CB   \n",
       "1         70     186  1988-11-01  Southeastern Louisiana       CB   \n",
       "2         69     186  1991-12-18                  Purdue       SS   \n",
       "5         73     216  1995-07-26                 Florida       FS   \n",
       "6         70     211  1992-10-20                 Florida       CB   \n",
       "...      ...     ...         ...                     ...      ...   \n",
       "1250      74     203  1989-06-06              Texas Tech       FS   \n",
       "1276      70     195  1994-08-08              Utah State       DB   \n",
       "1278      74     188  1994-12-04             Mississippi       CB   \n",
       "1295      71     205  1996-08-29           South Alabama       DB   \n",
       "1301      69     187  1993-03-15      Alabama-Birmingham       CB   \n",
       "\n",
       "           displayName  birthYear  age  \n",
       "0      Desmond Trufant       1990   28  \n",
       "1        Robert Alford       1988   30  \n",
       "2        Ricardo Allen       1991   27  \n",
       "5           Keanu Neal       1995   23  \n",
       "6          Brian Poole       1992   26  \n",
       "...                ...        ...  ...  \n",
       "1250        Cody Davis       1989   29  \n",
       "1276    Dallin Leavitt       1994   24  \n",
       "1278     Derrick Jones       1994   24  \n",
       "1295     Jeremy Reaves       1996   22  \n",
       "1301  Darious Williams       1993   25  \n",
       "\n",
       "[351 rows x 8 columns]"
      ]
     },
     "metadata": {},
     "output_type": "display_data"
    },
    {
     "data": {
      "text/html": [
       "<div>\n",
       "<style scoped>\n",
       "    .dataframe tbody tr th:only-of-type {\n",
       "        vertical-align: middle;\n",
       "    }\n",
       "\n",
       "    .dataframe tbody tr th {\n",
       "        vertical-align: top;\n",
       "    }\n",
       "\n",
       "    .dataframe thead th {\n",
       "        text-align: right;\n",
       "    }\n",
       "</style>\n",
       "<table border=\"1\" class=\"dataframe\">\n",
       "  <thead>\n",
       "    <tr style=\"text-align: right;\">\n",
       "      <th></th>\n",
       "      <th>s</th>\n",
       "      <th>a</th>\n",
       "      <th>dis</th>\n",
       "    </tr>\n",
       "    <tr>\n",
       "      <th>displayName</th>\n",
       "      <th></th>\n",
       "      <th></th>\n",
       "      <th></th>\n",
       "    </tr>\n",
       "  </thead>\n",
       "  <tbody>\n",
       "    <tr>\n",
       "      <th>A.J. Bouye</th>\n",
       "      <td>3.150369</td>\n",
       "      <td>1.918001</td>\n",
       "      <td>0.314957</td>\n",
       "    </tr>\n",
       "    <tr>\n",
       "      <th>Aaron Colvin</th>\n",
       "      <td>3.223784</td>\n",
       "      <td>1.931932</td>\n",
       "      <td>0.321142</td>\n",
       "    </tr>\n",
       "    <tr>\n",
       "      <th>Adoree' Jackson</th>\n",
       "      <td>3.341275</td>\n",
       "      <td>2.141751</td>\n",
       "      <td>0.332601</td>\n",
       "    </tr>\n",
       "    <tr>\n",
       "      <th>Adrian Amos</th>\n",
       "      <td>3.142551</td>\n",
       "      <td>1.855312</td>\n",
       "      <td>0.315051</td>\n",
       "    </tr>\n",
       "    <tr>\n",
       "      <th>Anthony Averett</th>\n",
       "      <td>3.542443</td>\n",
       "      <td>1.913790</td>\n",
       "      <td>0.355251</td>\n",
       "    </tr>\n",
       "    <tr>\n",
       "      <th>...</th>\n",
       "      <td>...</td>\n",
       "      <td>...</td>\n",
       "      <td>...</td>\n",
       "    </tr>\n",
       "    <tr>\n",
       "      <th>Tyrann Mathieu</th>\n",
       "      <td>3.019799</td>\n",
       "      <td>1.984012</td>\n",
       "      <td>0.300460</td>\n",
       "    </tr>\n",
       "    <tr>\n",
       "      <th>Vernon Hargreaves</th>\n",
       "      <td>3.213617</td>\n",
       "      <td>1.966934</td>\n",
       "      <td>0.320336</td>\n",
       "    </tr>\n",
       "    <tr>\n",
       "      <th>Vonn Bell</th>\n",
       "      <td>3.357417</td>\n",
       "      <td>1.722926</td>\n",
       "      <td>0.334544</td>\n",
       "    </tr>\n",
       "    <tr>\n",
       "      <th>William Jackson</th>\n",
       "      <td>2.858990</td>\n",
       "      <td>1.749015</td>\n",
       "      <td>0.285553</td>\n",
       "    </tr>\n",
       "    <tr>\n",
       "      <th>Xavien Howard</th>\n",
       "      <td>3.179640</td>\n",
       "      <td>1.955028</td>\n",
       "      <td>0.316772</td>\n",
       "    </tr>\n",
       "  </tbody>\n",
       "</table>\n",
       "<p>171 rows × 3 columns</p>\n",
       "</div>"
      ],
      "text/plain": [
       "                          s         a       dis\n",
       "displayName                                    \n",
       "A.J. Bouye         3.150369  1.918001  0.314957\n",
       "Aaron Colvin       3.223784  1.931932  0.321142\n",
       "Adoree' Jackson    3.341275  2.141751  0.332601\n",
       "Adrian Amos        3.142551  1.855312  0.315051\n",
       "Anthony Averett    3.542443  1.913790  0.355251\n",
       "...                     ...       ...       ...\n",
       "Tyrann Mathieu     3.019799  1.984012  0.300460\n",
       "Vernon Hargreaves  3.213617  1.966934  0.320336\n",
       "Vonn Bell          3.357417  1.722926  0.334544\n",
       "William Jackson    2.858990  1.749015  0.285553\n",
       "Xavien Howard      3.179640  1.955028  0.316772\n",
       "\n",
       "[171 rows x 3 columns]"
      ]
     },
     "metadata": {},
     "output_type": "display_data"
    }
   ],
   "source": [
    "display(df,df1)"
   ]
  },
  {
   "cell_type": "code",
   "execution_count": 30,
   "metadata": {
    "execution": {
     "iopub.execute_input": "2020-12-13T23:45:14.819376Z",
     "iopub.status.busy": "2020-12-13T23:45:14.818704Z",
     "iopub.status.idle": "2020-12-13T23:45:14.839762Z",
     "shell.execute_reply": "2020-12-13T23:45:14.839080Z"
    },
    "papermill": {
     "duration": 0.110923,
     "end_time": "2020-12-13T23:45:14.839871",
     "exception": false,
     "start_time": "2020-12-13T23:45:14.728948",
     "status": "completed"
    },
    "tags": []
   },
   "outputs": [
    {
     "data": {
      "text/html": [
       "<div>\n",
       "<style scoped>\n",
       "    .dataframe tbody tr th:only-of-type {\n",
       "        vertical-align: middle;\n",
       "    }\n",
       "\n",
       "    .dataframe tbody tr th {\n",
       "        vertical-align: top;\n",
       "    }\n",
       "\n",
       "    .dataframe thead th {\n",
       "        text-align: right;\n",
       "    }\n",
       "</style>\n",
       "<table border=\"1\" class=\"dataframe\">\n",
       "  <thead>\n",
       "    <tr style=\"text-align: right;\">\n",
       "      <th></th>\n",
       "      <th>height</th>\n",
       "      <th>weight</th>\n",
       "      <th>birthDate</th>\n",
       "      <th>collegeName</th>\n",
       "      <th>position</th>\n",
       "      <th>displayName</th>\n",
       "      <th>birthYear</th>\n",
       "      <th>age</th>\n",
       "    </tr>\n",
       "  </thead>\n",
       "  <tbody>\n",
       "    <tr>\n",
       "      <th>0</th>\n",
       "      <td>72</td>\n",
       "      <td>190</td>\n",
       "      <td>1990-09-10</td>\n",
       "      <td>Washington</td>\n",
       "      <td>CB</td>\n",
       "      <td>Desmond Trufant</td>\n",
       "      <td>1990</td>\n",
       "      <td>28</td>\n",
       "    </tr>\n",
       "    <tr>\n",
       "      <th>1</th>\n",
       "      <td>70</td>\n",
       "      <td>186</td>\n",
       "      <td>1988-11-01</td>\n",
       "      <td>Southeastern Louisiana</td>\n",
       "      <td>CB</td>\n",
       "      <td>Robert Alford</td>\n",
       "      <td>1988</td>\n",
       "      <td>30</td>\n",
       "    </tr>\n",
       "    <tr>\n",
       "      <th>2</th>\n",
       "      <td>69</td>\n",
       "      <td>186</td>\n",
       "      <td>1991-12-18</td>\n",
       "      <td>Purdue</td>\n",
       "      <td>SS</td>\n",
       "      <td>Ricardo Allen</td>\n",
       "      <td>1991</td>\n",
       "      <td>27</td>\n",
       "    </tr>\n",
       "    <tr>\n",
       "      <th>5</th>\n",
       "      <td>73</td>\n",
       "      <td>216</td>\n",
       "      <td>1995-07-26</td>\n",
       "      <td>Florida</td>\n",
       "      <td>FS</td>\n",
       "      <td>Keanu Neal</td>\n",
       "      <td>1995</td>\n",
       "      <td>23</td>\n",
       "    </tr>\n",
       "    <tr>\n",
       "      <th>6</th>\n",
       "      <td>70</td>\n",
       "      <td>211</td>\n",
       "      <td>1992-10-20</td>\n",
       "      <td>Florida</td>\n",
       "      <td>CB</td>\n",
       "      <td>Brian Poole</td>\n",
       "      <td>1992</td>\n",
       "      <td>26</td>\n",
       "    </tr>\n",
       "    <tr>\n",
       "      <th>...</th>\n",
       "      <td>...</td>\n",
       "      <td>...</td>\n",
       "      <td>...</td>\n",
       "      <td>...</td>\n",
       "      <td>...</td>\n",
       "      <td>...</td>\n",
       "      <td>...</td>\n",
       "      <td>...</td>\n",
       "    </tr>\n",
       "    <tr>\n",
       "      <th>1250</th>\n",
       "      <td>74</td>\n",
       "      <td>203</td>\n",
       "      <td>1989-06-06</td>\n",
       "      <td>Texas Tech</td>\n",
       "      <td>FS</td>\n",
       "      <td>Cody Davis</td>\n",
       "      <td>1989</td>\n",
       "      <td>29</td>\n",
       "    </tr>\n",
       "    <tr>\n",
       "      <th>1276</th>\n",
       "      <td>70</td>\n",
       "      <td>195</td>\n",
       "      <td>1994-08-08</td>\n",
       "      <td>Utah State</td>\n",
       "      <td>DB</td>\n",
       "      <td>Dallin Leavitt</td>\n",
       "      <td>1994</td>\n",
       "      <td>24</td>\n",
       "    </tr>\n",
       "    <tr>\n",
       "      <th>1278</th>\n",
       "      <td>74</td>\n",
       "      <td>188</td>\n",
       "      <td>1994-12-04</td>\n",
       "      <td>Mississippi</td>\n",
       "      <td>CB</td>\n",
       "      <td>Derrick Jones</td>\n",
       "      <td>1994</td>\n",
       "      <td>24</td>\n",
       "    </tr>\n",
       "    <tr>\n",
       "      <th>1295</th>\n",
       "      <td>71</td>\n",
       "      <td>205</td>\n",
       "      <td>1996-08-29</td>\n",
       "      <td>South Alabama</td>\n",
       "      <td>DB</td>\n",
       "      <td>Jeremy Reaves</td>\n",
       "      <td>1996</td>\n",
       "      <td>22</td>\n",
       "    </tr>\n",
       "    <tr>\n",
       "      <th>1301</th>\n",
       "      <td>69</td>\n",
       "      <td>187</td>\n",
       "      <td>1993-03-15</td>\n",
       "      <td>Alabama-Birmingham</td>\n",
       "      <td>CB</td>\n",
       "      <td>Darious Williams</td>\n",
       "      <td>1993</td>\n",
       "      <td>25</td>\n",
       "    </tr>\n",
       "  </tbody>\n",
       "</table>\n",
       "<p>351 rows × 8 columns</p>\n",
       "</div>"
      ],
      "text/plain": [
       "      height  weight   birthDate             collegeName position  \\\n",
       "0         72     190  1990-09-10              Washington       CB   \n",
       "1         70     186  1988-11-01  Southeastern Louisiana       CB   \n",
       "2         69     186  1991-12-18                  Purdue       SS   \n",
       "5         73     216  1995-07-26                 Florida       FS   \n",
       "6         70     211  1992-10-20                 Florida       CB   \n",
       "...      ...     ...         ...                     ...      ...   \n",
       "1250      74     203  1989-06-06              Texas Tech       FS   \n",
       "1276      70     195  1994-08-08              Utah State       DB   \n",
       "1278      74     188  1994-12-04             Mississippi       CB   \n",
       "1295      71     205  1996-08-29           South Alabama       DB   \n",
       "1301      69     187  1993-03-15      Alabama-Birmingham       CB   \n",
       "\n",
       "           displayName  birthYear  age  \n",
       "0      Desmond Trufant       1990   28  \n",
       "1        Robert Alford       1988   30  \n",
       "2        Ricardo Allen       1991   27  \n",
       "5           Keanu Neal       1995   23  \n",
       "6          Brian Poole       1992   26  \n",
       "...                ...        ...  ...  \n",
       "1250        Cody Davis       1989   29  \n",
       "1276    Dallin Leavitt       1994   24  \n",
       "1278     Derrick Jones       1994   24  \n",
       "1295     Jeremy Reaves       1996   22  \n",
       "1301  Darious Williams       1993   25  \n",
       "\n",
       "[351 rows x 8 columns]"
      ]
     },
     "execution_count": 30,
     "metadata": {},
     "output_type": "execute_result"
    }
   ],
   "source": [
    "#renaming columns so I can merge\n",
    "df.rename(columns={'displayName' : 'displayName'})\n",
    "df= df.rename(columns={'displayName' : 'displayName'})\n",
    "df"
   ]
  },
  {
   "cell_type": "code",
   "execution_count": 31,
   "metadata": {
    "execution": {
     "iopub.execute_input": "2020-12-13T23:45:15.040271Z",
     "iopub.status.busy": "2020-12-13T23:45:15.039198Z",
     "iopub.status.idle": "2020-12-13T23:45:15.052228Z",
     "shell.execute_reply": "2020-12-13T23:45:15.052800Z"
    },
    "papermill": {
     "duration": 0.122182,
     "end_time": "2020-12-13T23:45:15.052933",
     "exception": false,
     "start_time": "2020-12-13T23:45:14.930751",
     "status": "completed"
    },
    "tags": []
   },
   "outputs": [
    {
     "data": {
      "text/html": [
       "<div>\n",
       "<style scoped>\n",
       "    .dataframe tbody tr th:only-of-type {\n",
       "        vertical-align: middle;\n",
       "    }\n",
       "\n",
       "    .dataframe tbody tr th {\n",
       "        vertical-align: top;\n",
       "    }\n",
       "\n",
       "    .dataframe thead th {\n",
       "        text-align: right;\n",
       "    }\n",
       "</style>\n",
       "<table border=\"1\" class=\"dataframe\">\n",
       "  <thead>\n",
       "    <tr style=\"text-align: right;\">\n",
       "      <th></th>\n",
       "      <th>height</th>\n",
       "      <th>weight</th>\n",
       "      <th>birthDate</th>\n",
       "      <th>collegeName</th>\n",
       "      <th>position</th>\n",
       "      <th>displayName</th>\n",
       "      <th>birthYear</th>\n",
       "      <th>age</th>\n",
       "    </tr>\n",
       "  </thead>\n",
       "  <tbody>\n",
       "    <tr>\n",
       "      <th>0</th>\n",
       "      <td>72</td>\n",
       "      <td>190</td>\n",
       "      <td>1990-09-10</td>\n",
       "      <td>Washington</td>\n",
       "      <td>CB</td>\n",
       "      <td>Desmond Trufant</td>\n",
       "      <td>1990</td>\n",
       "      <td>28</td>\n",
       "    </tr>\n",
       "    <tr>\n",
       "      <th>1</th>\n",
       "      <td>70</td>\n",
       "      <td>186</td>\n",
       "      <td>1988-11-01</td>\n",
       "      <td>Southeastern Louisiana</td>\n",
       "      <td>CB</td>\n",
       "      <td>Robert Alford</td>\n",
       "      <td>1988</td>\n",
       "      <td>30</td>\n",
       "    </tr>\n",
       "    <tr>\n",
       "      <th>2</th>\n",
       "      <td>69</td>\n",
       "      <td>186</td>\n",
       "      <td>1991-12-18</td>\n",
       "      <td>Purdue</td>\n",
       "      <td>SS</td>\n",
       "      <td>Ricardo Allen</td>\n",
       "      <td>1991</td>\n",
       "      <td>27</td>\n",
       "    </tr>\n",
       "    <tr>\n",
       "      <th>5</th>\n",
       "      <td>73</td>\n",
       "      <td>216</td>\n",
       "      <td>1995-07-26</td>\n",
       "      <td>Florida</td>\n",
       "      <td>FS</td>\n",
       "      <td>Keanu Neal</td>\n",
       "      <td>1995</td>\n",
       "      <td>23</td>\n",
       "    </tr>\n",
       "    <tr>\n",
       "      <th>6</th>\n",
       "      <td>70</td>\n",
       "      <td>211</td>\n",
       "      <td>1992-10-20</td>\n",
       "      <td>Florida</td>\n",
       "      <td>CB</td>\n",
       "      <td>Brian Poole</td>\n",
       "      <td>1992</td>\n",
       "      <td>26</td>\n",
       "    </tr>\n",
       "    <tr>\n",
       "      <th>...</th>\n",
       "      <td>...</td>\n",
       "      <td>...</td>\n",
       "      <td>...</td>\n",
       "      <td>...</td>\n",
       "      <td>...</td>\n",
       "      <td>...</td>\n",
       "      <td>...</td>\n",
       "      <td>...</td>\n",
       "    </tr>\n",
       "    <tr>\n",
       "      <th>1250</th>\n",
       "      <td>74</td>\n",
       "      <td>203</td>\n",
       "      <td>1989-06-06</td>\n",
       "      <td>Texas Tech</td>\n",
       "      <td>FS</td>\n",
       "      <td>Cody Davis</td>\n",
       "      <td>1989</td>\n",
       "      <td>29</td>\n",
       "    </tr>\n",
       "    <tr>\n",
       "      <th>1276</th>\n",
       "      <td>70</td>\n",
       "      <td>195</td>\n",
       "      <td>1994-08-08</td>\n",
       "      <td>Utah State</td>\n",
       "      <td>DB</td>\n",
       "      <td>Dallin Leavitt</td>\n",
       "      <td>1994</td>\n",
       "      <td>24</td>\n",
       "    </tr>\n",
       "    <tr>\n",
       "      <th>1278</th>\n",
       "      <td>74</td>\n",
       "      <td>188</td>\n",
       "      <td>1994-12-04</td>\n",
       "      <td>Mississippi</td>\n",
       "      <td>CB</td>\n",
       "      <td>Derrick Jones</td>\n",
       "      <td>1994</td>\n",
       "      <td>24</td>\n",
       "    </tr>\n",
       "    <tr>\n",
       "      <th>1295</th>\n",
       "      <td>71</td>\n",
       "      <td>205</td>\n",
       "      <td>1996-08-29</td>\n",
       "      <td>South Alabama</td>\n",
       "      <td>DB</td>\n",
       "      <td>Jeremy Reaves</td>\n",
       "      <td>1996</td>\n",
       "      <td>22</td>\n",
       "    </tr>\n",
       "    <tr>\n",
       "      <th>1301</th>\n",
       "      <td>69</td>\n",
       "      <td>187</td>\n",
       "      <td>1993-03-15</td>\n",
       "      <td>Alabama-Birmingham</td>\n",
       "      <td>CB</td>\n",
       "      <td>Darious Williams</td>\n",
       "      <td>1993</td>\n",
       "      <td>25</td>\n",
       "    </tr>\n",
       "  </tbody>\n",
       "</table>\n",
       "<p>351 rows × 8 columns</p>\n",
       "</div>"
      ],
      "text/plain": [
       "      height  weight   birthDate             collegeName position  \\\n",
       "0         72     190  1990-09-10              Washington       CB   \n",
       "1         70     186  1988-11-01  Southeastern Louisiana       CB   \n",
       "2         69     186  1991-12-18                  Purdue       SS   \n",
       "5         73     216  1995-07-26                 Florida       FS   \n",
       "6         70     211  1992-10-20                 Florida       CB   \n",
       "...      ...     ...         ...                     ...      ...   \n",
       "1250      74     203  1989-06-06              Texas Tech       FS   \n",
       "1276      70     195  1994-08-08              Utah State       DB   \n",
       "1278      74     188  1994-12-04             Mississippi       CB   \n",
       "1295      71     205  1996-08-29           South Alabama       DB   \n",
       "1301      69     187  1993-03-15      Alabama-Birmingham       CB   \n",
       "\n",
       "           displayName  birthYear  age  \n",
       "0      Desmond Trufant       1990   28  \n",
       "1        Robert Alford       1988   30  \n",
       "2        Ricardo Allen       1991   27  \n",
       "5           Keanu Neal       1995   23  \n",
       "6          Brian Poole       1992   26  \n",
       "...                ...        ...  ...  \n",
       "1250        Cody Davis       1989   29  \n",
       "1276    Dallin Leavitt       1994   24  \n",
       "1278     Derrick Jones       1994   24  \n",
       "1295     Jeremy Reaves       1996   22  \n",
       "1301  Darious Williams       1993   25  \n",
       "\n",
       "[351 rows x 8 columns]"
      ]
     },
     "metadata": {},
     "output_type": "display_data"
    },
    {
     "data": {
      "text/html": [
       "<div>\n",
       "<style scoped>\n",
       "    .dataframe tbody tr th:only-of-type {\n",
       "        vertical-align: middle;\n",
       "    }\n",
       "\n",
       "    .dataframe tbody tr th {\n",
       "        vertical-align: top;\n",
       "    }\n",
       "\n",
       "    .dataframe thead th {\n",
       "        text-align: right;\n",
       "    }\n",
       "</style>\n",
       "<table border=\"1\" class=\"dataframe\">\n",
       "  <thead>\n",
       "    <tr style=\"text-align: right;\">\n",
       "      <th></th>\n",
       "      <th>s</th>\n",
       "      <th>a</th>\n",
       "      <th>dis</th>\n",
       "    </tr>\n",
       "    <tr>\n",
       "      <th>displayName</th>\n",
       "      <th></th>\n",
       "      <th></th>\n",
       "      <th></th>\n",
       "    </tr>\n",
       "  </thead>\n",
       "  <tbody>\n",
       "    <tr>\n",
       "      <th>A.J. Bouye</th>\n",
       "      <td>3.150369</td>\n",
       "      <td>1.918001</td>\n",
       "      <td>0.314957</td>\n",
       "    </tr>\n",
       "    <tr>\n",
       "      <th>Aaron Colvin</th>\n",
       "      <td>3.223784</td>\n",
       "      <td>1.931932</td>\n",
       "      <td>0.321142</td>\n",
       "    </tr>\n",
       "    <tr>\n",
       "      <th>Adoree' Jackson</th>\n",
       "      <td>3.341275</td>\n",
       "      <td>2.141751</td>\n",
       "      <td>0.332601</td>\n",
       "    </tr>\n",
       "    <tr>\n",
       "      <th>Adrian Amos</th>\n",
       "      <td>3.142551</td>\n",
       "      <td>1.855312</td>\n",
       "      <td>0.315051</td>\n",
       "    </tr>\n",
       "    <tr>\n",
       "      <th>Anthony Averett</th>\n",
       "      <td>3.542443</td>\n",
       "      <td>1.913790</td>\n",
       "      <td>0.355251</td>\n",
       "    </tr>\n",
       "    <tr>\n",
       "      <th>...</th>\n",
       "      <td>...</td>\n",
       "      <td>...</td>\n",
       "      <td>...</td>\n",
       "    </tr>\n",
       "    <tr>\n",
       "      <th>Tyrann Mathieu</th>\n",
       "      <td>3.019799</td>\n",
       "      <td>1.984012</td>\n",
       "      <td>0.300460</td>\n",
       "    </tr>\n",
       "    <tr>\n",
       "      <th>Vernon Hargreaves</th>\n",
       "      <td>3.213617</td>\n",
       "      <td>1.966934</td>\n",
       "      <td>0.320336</td>\n",
       "    </tr>\n",
       "    <tr>\n",
       "      <th>Vonn Bell</th>\n",
       "      <td>3.357417</td>\n",
       "      <td>1.722926</td>\n",
       "      <td>0.334544</td>\n",
       "    </tr>\n",
       "    <tr>\n",
       "      <th>William Jackson</th>\n",
       "      <td>2.858990</td>\n",
       "      <td>1.749015</td>\n",
       "      <td>0.285553</td>\n",
       "    </tr>\n",
       "    <tr>\n",
       "      <th>Xavien Howard</th>\n",
       "      <td>3.179640</td>\n",
       "      <td>1.955028</td>\n",
       "      <td>0.316772</td>\n",
       "    </tr>\n",
       "  </tbody>\n",
       "</table>\n",
       "<p>171 rows × 3 columns</p>\n",
       "</div>"
      ],
      "text/plain": [
       "                          s         a       dis\n",
       "displayName                                    \n",
       "A.J. Bouye         3.150369  1.918001  0.314957\n",
       "Aaron Colvin       3.223784  1.931932  0.321142\n",
       "Adoree' Jackson    3.341275  2.141751  0.332601\n",
       "Adrian Amos        3.142551  1.855312  0.315051\n",
       "Anthony Averett    3.542443  1.913790  0.355251\n",
       "...                     ...       ...       ...\n",
       "Tyrann Mathieu     3.019799  1.984012  0.300460\n",
       "Vernon Hargreaves  3.213617  1.966934  0.320336\n",
       "Vonn Bell          3.357417  1.722926  0.334544\n",
       "William Jackson    2.858990  1.749015  0.285553\n",
       "Xavien Howard      3.179640  1.955028  0.316772\n",
       "\n",
       "[171 rows x 3 columns]"
      ]
     },
     "metadata": {},
     "output_type": "display_data"
    }
   ],
   "source": [
    "#merge datasets\n",
    "display(df,df1)"
   ]
  },
  {
   "cell_type": "code",
   "execution_count": 32,
   "metadata": {
    "execution": {
     "iopub.execute_input": "2020-12-13T23:45:15.235129Z",
     "iopub.status.busy": "2020-12-13T23:45:15.234440Z",
     "iopub.status.idle": "2020-12-13T23:45:15.248884Z",
     "shell.execute_reply": "2020-12-13T23:45:15.249490Z"
    },
    "papermill": {
     "duration": 0.10671,
     "end_time": "2020-12-13T23:45:15.249633",
     "exception": false,
     "start_time": "2020-12-13T23:45:15.142923",
     "status": "completed"
    },
    "tags": []
   },
   "outputs": [
    {
     "data": {
      "text/html": [
       "<div>\n",
       "<style scoped>\n",
       "    .dataframe tbody tr th:only-of-type {\n",
       "        vertical-align: middle;\n",
       "    }\n",
       "\n",
       "    .dataframe tbody tr th {\n",
       "        vertical-align: top;\n",
       "    }\n",
       "\n",
       "    .dataframe thead th {\n",
       "        text-align: right;\n",
       "    }\n",
       "</style>\n",
       "<table border=\"1\" class=\"dataframe\">\n",
       "  <thead>\n",
       "    <tr style=\"text-align: right;\">\n",
       "      <th></th>\n",
       "      <th>displayName</th>\n",
       "      <th>s</th>\n",
       "      <th>a</th>\n",
       "      <th>dis</th>\n",
       "    </tr>\n",
       "  </thead>\n",
       "  <tbody>\n",
       "    <tr>\n",
       "      <th>0</th>\n",
       "      <td>A.J. Bouye</td>\n",
       "      <td>3.150369</td>\n",
       "      <td>1.918001</td>\n",
       "      <td>0.314957</td>\n",
       "    </tr>\n",
       "    <tr>\n",
       "      <th>1</th>\n",
       "      <td>Aaron Colvin</td>\n",
       "      <td>3.223784</td>\n",
       "      <td>1.931932</td>\n",
       "      <td>0.321142</td>\n",
       "    </tr>\n",
       "    <tr>\n",
       "      <th>2</th>\n",
       "      <td>Adoree' Jackson</td>\n",
       "      <td>3.341275</td>\n",
       "      <td>2.141751</td>\n",
       "      <td>0.332601</td>\n",
       "    </tr>\n",
       "    <tr>\n",
       "      <th>3</th>\n",
       "      <td>Adrian Amos</td>\n",
       "      <td>3.142551</td>\n",
       "      <td>1.855312</td>\n",
       "      <td>0.315051</td>\n",
       "    </tr>\n",
       "    <tr>\n",
       "      <th>4</th>\n",
       "      <td>Anthony Averett</td>\n",
       "      <td>3.542443</td>\n",
       "      <td>1.913790</td>\n",
       "      <td>0.355251</td>\n",
       "    </tr>\n",
       "    <tr>\n",
       "      <th>...</th>\n",
       "      <td>...</td>\n",
       "      <td>...</td>\n",
       "      <td>...</td>\n",
       "      <td>...</td>\n",
       "    </tr>\n",
       "    <tr>\n",
       "      <th>166</th>\n",
       "      <td>Tyrann Mathieu</td>\n",
       "      <td>3.019799</td>\n",
       "      <td>1.984012</td>\n",
       "      <td>0.300460</td>\n",
       "    </tr>\n",
       "    <tr>\n",
       "      <th>167</th>\n",
       "      <td>Vernon Hargreaves</td>\n",
       "      <td>3.213617</td>\n",
       "      <td>1.966934</td>\n",
       "      <td>0.320336</td>\n",
       "    </tr>\n",
       "    <tr>\n",
       "      <th>168</th>\n",
       "      <td>Vonn Bell</td>\n",
       "      <td>3.357417</td>\n",
       "      <td>1.722926</td>\n",
       "      <td>0.334544</td>\n",
       "    </tr>\n",
       "    <tr>\n",
       "      <th>169</th>\n",
       "      <td>William Jackson</td>\n",
       "      <td>2.858990</td>\n",
       "      <td>1.749015</td>\n",
       "      <td>0.285553</td>\n",
       "    </tr>\n",
       "    <tr>\n",
       "      <th>170</th>\n",
       "      <td>Xavien Howard</td>\n",
       "      <td>3.179640</td>\n",
       "      <td>1.955028</td>\n",
       "      <td>0.316772</td>\n",
       "    </tr>\n",
       "  </tbody>\n",
       "</table>\n",
       "<p>171 rows × 4 columns</p>\n",
       "</div>"
      ],
      "text/plain": [
       "           displayName         s         a       dis\n",
       "0           A.J. Bouye  3.150369  1.918001  0.314957\n",
       "1         Aaron Colvin  3.223784  1.931932  0.321142\n",
       "2      Adoree' Jackson  3.341275  2.141751  0.332601\n",
       "3          Adrian Amos  3.142551  1.855312  0.315051\n",
       "4      Anthony Averett  3.542443  1.913790  0.355251\n",
       "..                 ...       ...       ...       ...\n",
       "166     Tyrann Mathieu  3.019799  1.984012  0.300460\n",
       "167  Vernon Hargreaves  3.213617  1.966934  0.320336\n",
       "168          Vonn Bell  3.357417  1.722926  0.334544\n",
       "169    William Jackson  2.858990  1.749015  0.285553\n",
       "170      Xavien Howard  3.179640  1.955028  0.316772\n",
       "\n",
       "[171 rows x 4 columns]"
      ]
     },
     "execution_count": 32,
     "metadata": {},
     "output_type": "execute_result"
    }
   ],
   "source": [
    "#resetting index so I can merge\n",
    "df1.reset_index(inplace = True)\n",
    "df1"
   ]
  },
  {
   "cell_type": "code",
   "execution_count": 33,
   "metadata": {
    "execution": {
     "iopub.execute_input": "2020-12-13T23:45:15.433202Z",
     "iopub.status.busy": "2020-12-13T23:45:15.432530Z",
     "iopub.status.idle": "2020-12-13T23:45:15.463058Z",
     "shell.execute_reply": "2020-12-13T23:45:15.462440Z"
    },
    "papermill": {
     "duration": 0.123205,
     "end_time": "2020-12-13T23:45:15.463181",
     "exception": false,
     "start_time": "2020-12-13T23:45:15.339976",
     "status": "completed"
    },
    "tags": []
   },
   "outputs": [
    {
     "data": {
      "text/html": [
       "<div>\n",
       "<style scoped>\n",
       "    .dataframe tbody tr th:only-of-type {\n",
       "        vertical-align: middle;\n",
       "    }\n",
       "\n",
       "    .dataframe tbody tr th {\n",
       "        vertical-align: top;\n",
       "    }\n",
       "\n",
       "    .dataframe thead th {\n",
       "        text-align: right;\n",
       "    }\n",
       "</style>\n",
       "<table border=\"1\" class=\"dataframe\">\n",
       "  <thead>\n",
       "    <tr style=\"text-align: right;\">\n",
       "      <th></th>\n",
       "      <th>height</th>\n",
       "      <th>weight</th>\n",
       "      <th>birthDate</th>\n",
       "      <th>collegeName</th>\n",
       "      <th>position</th>\n",
       "      <th>displayName</th>\n",
       "      <th>birthYear</th>\n",
       "      <th>age</th>\n",
       "    </tr>\n",
       "  </thead>\n",
       "  <tbody>\n",
       "    <tr>\n",
       "      <th>0</th>\n",
       "      <td>72</td>\n",
       "      <td>190</td>\n",
       "      <td>1990-09-10</td>\n",
       "      <td>Washington</td>\n",
       "      <td>CB</td>\n",
       "      <td>Desmond Trufant</td>\n",
       "      <td>1990</td>\n",
       "      <td>28</td>\n",
       "    </tr>\n",
       "    <tr>\n",
       "      <th>1</th>\n",
       "      <td>70</td>\n",
       "      <td>186</td>\n",
       "      <td>1988-11-01</td>\n",
       "      <td>Southeastern Louisiana</td>\n",
       "      <td>CB</td>\n",
       "      <td>Robert Alford</td>\n",
       "      <td>1988</td>\n",
       "      <td>30</td>\n",
       "    </tr>\n",
       "    <tr>\n",
       "      <th>2</th>\n",
       "      <td>69</td>\n",
       "      <td>186</td>\n",
       "      <td>1991-12-18</td>\n",
       "      <td>Purdue</td>\n",
       "      <td>SS</td>\n",
       "      <td>Ricardo Allen</td>\n",
       "      <td>1991</td>\n",
       "      <td>27</td>\n",
       "    </tr>\n",
       "    <tr>\n",
       "      <th>5</th>\n",
       "      <td>73</td>\n",
       "      <td>216</td>\n",
       "      <td>1995-07-26</td>\n",
       "      <td>Florida</td>\n",
       "      <td>FS</td>\n",
       "      <td>Keanu Neal</td>\n",
       "      <td>1995</td>\n",
       "      <td>23</td>\n",
       "    </tr>\n",
       "    <tr>\n",
       "      <th>6</th>\n",
       "      <td>70</td>\n",
       "      <td>211</td>\n",
       "      <td>1992-10-20</td>\n",
       "      <td>Florida</td>\n",
       "      <td>CB</td>\n",
       "      <td>Brian Poole</td>\n",
       "      <td>1992</td>\n",
       "      <td>26</td>\n",
       "    </tr>\n",
       "    <tr>\n",
       "      <th>...</th>\n",
       "      <td>...</td>\n",
       "      <td>...</td>\n",
       "      <td>...</td>\n",
       "      <td>...</td>\n",
       "      <td>...</td>\n",
       "      <td>...</td>\n",
       "      <td>...</td>\n",
       "      <td>...</td>\n",
       "    </tr>\n",
       "    <tr>\n",
       "      <th>1250</th>\n",
       "      <td>74</td>\n",
       "      <td>203</td>\n",
       "      <td>1989-06-06</td>\n",
       "      <td>Texas Tech</td>\n",
       "      <td>FS</td>\n",
       "      <td>Cody Davis</td>\n",
       "      <td>1989</td>\n",
       "      <td>29</td>\n",
       "    </tr>\n",
       "    <tr>\n",
       "      <th>1276</th>\n",
       "      <td>70</td>\n",
       "      <td>195</td>\n",
       "      <td>1994-08-08</td>\n",
       "      <td>Utah State</td>\n",
       "      <td>DB</td>\n",
       "      <td>Dallin Leavitt</td>\n",
       "      <td>1994</td>\n",
       "      <td>24</td>\n",
       "    </tr>\n",
       "    <tr>\n",
       "      <th>1278</th>\n",
       "      <td>74</td>\n",
       "      <td>188</td>\n",
       "      <td>1994-12-04</td>\n",
       "      <td>Mississippi</td>\n",
       "      <td>CB</td>\n",
       "      <td>Derrick Jones</td>\n",
       "      <td>1994</td>\n",
       "      <td>24</td>\n",
       "    </tr>\n",
       "    <tr>\n",
       "      <th>1295</th>\n",
       "      <td>71</td>\n",
       "      <td>205</td>\n",
       "      <td>1996-08-29</td>\n",
       "      <td>South Alabama</td>\n",
       "      <td>DB</td>\n",
       "      <td>Jeremy Reaves</td>\n",
       "      <td>1996</td>\n",
       "      <td>22</td>\n",
       "    </tr>\n",
       "    <tr>\n",
       "      <th>1301</th>\n",
       "      <td>69</td>\n",
       "      <td>187</td>\n",
       "      <td>1993-03-15</td>\n",
       "      <td>Alabama-Birmingham</td>\n",
       "      <td>CB</td>\n",
       "      <td>Darious Williams</td>\n",
       "      <td>1993</td>\n",
       "      <td>25</td>\n",
       "    </tr>\n",
       "  </tbody>\n",
       "</table>\n",
       "<p>351 rows × 8 columns</p>\n",
       "</div>"
      ],
      "text/plain": [
       "      height  weight   birthDate             collegeName position  \\\n",
       "0         72     190  1990-09-10              Washington       CB   \n",
       "1         70     186  1988-11-01  Southeastern Louisiana       CB   \n",
       "2         69     186  1991-12-18                  Purdue       SS   \n",
       "5         73     216  1995-07-26                 Florida       FS   \n",
       "6         70     211  1992-10-20                 Florida       CB   \n",
       "...      ...     ...         ...                     ...      ...   \n",
       "1250      74     203  1989-06-06              Texas Tech       FS   \n",
       "1276      70     195  1994-08-08              Utah State       DB   \n",
       "1278      74     188  1994-12-04             Mississippi       CB   \n",
       "1295      71     205  1996-08-29           South Alabama       DB   \n",
       "1301      69     187  1993-03-15      Alabama-Birmingham       CB   \n",
       "\n",
       "           displayName  birthYear  age  \n",
       "0      Desmond Trufant       1990   28  \n",
       "1        Robert Alford       1988   30  \n",
       "2        Ricardo Allen       1991   27  \n",
       "5           Keanu Neal       1995   23  \n",
       "6          Brian Poole       1992   26  \n",
       "...                ...        ...  ...  \n",
       "1250        Cody Davis       1989   29  \n",
       "1276    Dallin Leavitt       1994   24  \n",
       "1278     Derrick Jones       1994   24  \n",
       "1295     Jeremy Reaves       1996   22  \n",
       "1301  Darious Williams       1993   25  \n",
       "\n",
       "[351 rows x 8 columns]"
      ]
     },
     "metadata": {},
     "output_type": "display_data"
    },
    {
     "data": {
      "text/html": [
       "<div>\n",
       "<style scoped>\n",
       "    .dataframe tbody tr th:only-of-type {\n",
       "        vertical-align: middle;\n",
       "    }\n",
       "\n",
       "    .dataframe tbody tr th {\n",
       "        vertical-align: top;\n",
       "    }\n",
       "\n",
       "    .dataframe thead th {\n",
       "        text-align: right;\n",
       "    }\n",
       "</style>\n",
       "<table border=\"1\" class=\"dataframe\">\n",
       "  <thead>\n",
       "    <tr style=\"text-align: right;\">\n",
       "      <th></th>\n",
       "      <th>displayName</th>\n",
       "      <th>s</th>\n",
       "      <th>a</th>\n",
       "      <th>dis</th>\n",
       "    </tr>\n",
       "  </thead>\n",
       "  <tbody>\n",
       "    <tr>\n",
       "      <th>0</th>\n",
       "      <td>A.J. Bouye</td>\n",
       "      <td>3.150369</td>\n",
       "      <td>1.918001</td>\n",
       "      <td>0.314957</td>\n",
       "    </tr>\n",
       "    <tr>\n",
       "      <th>1</th>\n",
       "      <td>Aaron Colvin</td>\n",
       "      <td>3.223784</td>\n",
       "      <td>1.931932</td>\n",
       "      <td>0.321142</td>\n",
       "    </tr>\n",
       "    <tr>\n",
       "      <th>2</th>\n",
       "      <td>Adoree' Jackson</td>\n",
       "      <td>3.341275</td>\n",
       "      <td>2.141751</td>\n",
       "      <td>0.332601</td>\n",
       "    </tr>\n",
       "    <tr>\n",
       "      <th>3</th>\n",
       "      <td>Adrian Amos</td>\n",
       "      <td>3.142551</td>\n",
       "      <td>1.855312</td>\n",
       "      <td>0.315051</td>\n",
       "    </tr>\n",
       "    <tr>\n",
       "      <th>4</th>\n",
       "      <td>Anthony Averett</td>\n",
       "      <td>3.542443</td>\n",
       "      <td>1.913790</td>\n",
       "      <td>0.355251</td>\n",
       "    </tr>\n",
       "    <tr>\n",
       "      <th>...</th>\n",
       "      <td>...</td>\n",
       "      <td>...</td>\n",
       "      <td>...</td>\n",
       "      <td>...</td>\n",
       "    </tr>\n",
       "    <tr>\n",
       "      <th>166</th>\n",
       "      <td>Tyrann Mathieu</td>\n",
       "      <td>3.019799</td>\n",
       "      <td>1.984012</td>\n",
       "      <td>0.300460</td>\n",
       "    </tr>\n",
       "    <tr>\n",
       "      <th>167</th>\n",
       "      <td>Vernon Hargreaves</td>\n",
       "      <td>3.213617</td>\n",
       "      <td>1.966934</td>\n",
       "      <td>0.320336</td>\n",
       "    </tr>\n",
       "    <tr>\n",
       "      <th>168</th>\n",
       "      <td>Vonn Bell</td>\n",
       "      <td>3.357417</td>\n",
       "      <td>1.722926</td>\n",
       "      <td>0.334544</td>\n",
       "    </tr>\n",
       "    <tr>\n",
       "      <th>169</th>\n",
       "      <td>William Jackson</td>\n",
       "      <td>2.858990</td>\n",
       "      <td>1.749015</td>\n",
       "      <td>0.285553</td>\n",
       "    </tr>\n",
       "    <tr>\n",
       "      <th>170</th>\n",
       "      <td>Xavien Howard</td>\n",
       "      <td>3.179640</td>\n",
       "      <td>1.955028</td>\n",
       "      <td>0.316772</td>\n",
       "    </tr>\n",
       "  </tbody>\n",
       "</table>\n",
       "<p>171 rows × 4 columns</p>\n",
       "</div>"
      ],
      "text/plain": [
       "           displayName         s         a       dis\n",
       "0           A.J. Bouye  3.150369  1.918001  0.314957\n",
       "1         Aaron Colvin  3.223784  1.931932  0.321142\n",
       "2      Adoree' Jackson  3.341275  2.141751  0.332601\n",
       "3          Adrian Amos  3.142551  1.855312  0.315051\n",
       "4      Anthony Averett  3.542443  1.913790  0.355251\n",
       "..                 ...       ...       ...       ...\n",
       "166     Tyrann Mathieu  3.019799  1.984012  0.300460\n",
       "167  Vernon Hargreaves  3.213617  1.966934  0.320336\n",
       "168          Vonn Bell  3.357417  1.722926  0.334544\n",
       "169    William Jackson  2.858990  1.749015  0.285553\n",
       "170      Xavien Howard  3.179640  1.955028  0.316772\n",
       "\n",
       "[171 rows x 4 columns]"
      ]
     },
     "metadata": {},
     "output_type": "display_data"
    }
   ],
   "source": [
    "display(df,df1)"
   ]
  },
  {
   "cell_type": "code",
   "execution_count": 34,
   "metadata": {
    "execution": {
     "iopub.execute_input": "2020-12-13T23:45:15.660232Z",
     "iopub.status.busy": "2020-12-13T23:45:15.659215Z",
     "iopub.status.idle": "2020-12-13T23:45:15.684296Z",
     "shell.execute_reply": "2020-12-13T23:45:15.684761Z"
    },
    "papermill": {
     "duration": 0.1301,
     "end_time": "2020-12-13T23:45:15.684909",
     "exception": false,
     "start_time": "2020-12-13T23:45:15.554809",
     "status": "completed"
    },
    "tags": []
   },
   "outputs": [
    {
     "data": {
      "text/html": [
       "<div>\n",
       "<style scoped>\n",
       "    .dataframe tbody tr th:only-of-type {\n",
       "        vertical-align: middle;\n",
       "    }\n",
       "\n",
       "    .dataframe tbody tr th {\n",
       "        vertical-align: top;\n",
       "    }\n",
       "\n",
       "    .dataframe thead th {\n",
       "        text-align: right;\n",
       "    }\n",
       "</style>\n",
       "<table border=\"1\" class=\"dataframe\">\n",
       "  <thead>\n",
       "    <tr style=\"text-align: right;\">\n",
       "      <th></th>\n",
       "      <th>height</th>\n",
       "      <th>weight</th>\n",
       "      <th>birthDate</th>\n",
       "      <th>collegeName</th>\n",
       "      <th>position</th>\n",
       "      <th>displayName</th>\n",
       "      <th>birthYear</th>\n",
       "      <th>age</th>\n",
       "      <th>s</th>\n",
       "      <th>a</th>\n",
       "      <th>dis</th>\n",
       "    </tr>\n",
       "  </thead>\n",
       "  <tbody>\n",
       "    <tr>\n",
       "      <th>0</th>\n",
       "      <td>72</td>\n",
       "      <td>190</td>\n",
       "      <td>1990-09-10</td>\n",
       "      <td>Washington</td>\n",
       "      <td>CB</td>\n",
       "      <td>Desmond Trufant</td>\n",
       "      <td>1990</td>\n",
       "      <td>28</td>\n",
       "      <td>3.393040</td>\n",
       "      <td>1.951001</td>\n",
       "      <td>0.339571</td>\n",
       "    </tr>\n",
       "    <tr>\n",
       "      <th>1</th>\n",
       "      <td>70</td>\n",
       "      <td>186</td>\n",
       "      <td>1988-11-01</td>\n",
       "      <td>Southeastern Louisiana</td>\n",
       "      <td>CB</td>\n",
       "      <td>Robert Alford</td>\n",
       "      <td>1988</td>\n",
       "      <td>30</td>\n",
       "      <td>3.415141</td>\n",
       "      <td>1.894274</td>\n",
       "      <td>0.341635</td>\n",
       "    </tr>\n",
       "    <tr>\n",
       "      <th>2</th>\n",
       "      <td>69</td>\n",
       "      <td>186</td>\n",
       "      <td>1991-12-18</td>\n",
       "      <td>Purdue</td>\n",
       "      <td>SS</td>\n",
       "      <td>Ricardo Allen</td>\n",
       "      <td>1991</td>\n",
       "      <td>27</td>\n",
       "      <td>3.023297</td>\n",
       "      <td>1.960050</td>\n",
       "      <td>0.301325</td>\n",
       "    </tr>\n",
       "    <tr>\n",
       "      <th>3</th>\n",
       "      <td>73</td>\n",
       "      <td>216</td>\n",
       "      <td>1995-07-26</td>\n",
       "      <td>Florida</td>\n",
       "      <td>FS</td>\n",
       "      <td>Keanu Neal</td>\n",
       "      <td>1995</td>\n",
       "      <td>23</td>\n",
       "      <td>2.774608</td>\n",
       "      <td>1.935349</td>\n",
       "      <td>0.276380</td>\n",
       "    </tr>\n",
       "    <tr>\n",
       "      <th>4</th>\n",
       "      <td>70</td>\n",
       "      <td>211</td>\n",
       "      <td>1992-10-20</td>\n",
       "      <td>Florida</td>\n",
       "      <td>CB</td>\n",
       "      <td>Brian Poole</td>\n",
       "      <td>1992</td>\n",
       "      <td>26</td>\n",
       "      <td>2.957079</td>\n",
       "      <td>1.964550</td>\n",
       "      <td>0.294630</td>\n",
       "    </tr>\n",
       "    <tr>\n",
       "      <th>...</th>\n",
       "      <td>...</td>\n",
       "      <td>...</td>\n",
       "      <td>...</td>\n",
       "      <td>...</td>\n",
       "      <td>...</td>\n",
       "      <td>...</td>\n",
       "      <td>...</td>\n",
       "      <td>...</td>\n",
       "      <td>...</td>\n",
       "      <td>...</td>\n",
       "      <td>...</td>\n",
       "    </tr>\n",
       "    <tr>\n",
       "      <th>161</th>\n",
       "      <td>72</td>\n",
       "      <td>190</td>\n",
       "      <td>1995-06-29</td>\n",
       "      <td>Ohio State</td>\n",
       "      <td>CB</td>\n",
       "      <td>Gareon Conley</td>\n",
       "      <td>1995</td>\n",
       "      <td>23</td>\n",
       "      <td>3.532509</td>\n",
       "      <td>1.883339</td>\n",
       "      <td>0.352674</td>\n",
       "    </tr>\n",
       "    <tr>\n",
       "      <th>162</th>\n",
       "      <td>74</td>\n",
       "      <td>205</td>\n",
       "      <td>1986-04-07</td>\n",
       "      <td>Tennessee State</td>\n",
       "      <td>CB</td>\n",
       "      <td>Dominique Rodgers-Cromartie</td>\n",
       "      <td>1986</td>\n",
       "      <td>32</td>\n",
       "      <td>3.492974</td>\n",
       "      <td>1.763256</td>\n",
       "      <td>0.350771</td>\n",
       "    </tr>\n",
       "    <tr>\n",
       "      <th>163</th>\n",
       "      <td>70</td>\n",
       "      <td>200</td>\n",
       "      <td>1993-09-08</td>\n",
       "      <td>West Virginia</td>\n",
       "      <td>SS</td>\n",
       "      <td>Karl Joseph</td>\n",
       "      <td>1993</td>\n",
       "      <td>25</td>\n",
       "      <td>2.524000</td>\n",
       "      <td>2.228686</td>\n",
       "      <td>0.249829</td>\n",
       "    </tr>\n",
       "    <tr>\n",
       "      <th>164</th>\n",
       "      <td>70</td>\n",
       "      <td>198</td>\n",
       "      <td>1997-03-18</td>\n",
       "      <td>Pittsburgh</td>\n",
       "      <td>DB</td>\n",
       "      <td>Jordan Whitehead</td>\n",
       "      <td>1997</td>\n",
       "      <td>21</td>\n",
       "      <td>2.418704</td>\n",
       "      <td>2.198148</td>\n",
       "      <td>0.243519</td>\n",
       "    </tr>\n",
       "    <tr>\n",
       "      <th>165</th>\n",
       "      <td>72</td>\n",
       "      <td>195</td>\n",
       "      <td>1991-09-03</td>\n",
       "      <td>San Jose State</td>\n",
       "      <td>CB</td>\n",
       "      <td>Bene' Benwikere</td>\n",
       "      <td>1991</td>\n",
       "      <td>27</td>\n",
       "      <td>3.770128</td>\n",
       "      <td>2.107564</td>\n",
       "      <td>0.375256</td>\n",
       "    </tr>\n",
       "  </tbody>\n",
       "</table>\n",
       "<p>166 rows × 11 columns</p>\n",
       "</div>"
      ],
      "text/plain": [
       "     height  weight   birthDate             collegeName position  \\\n",
       "0        72     190  1990-09-10              Washington       CB   \n",
       "1        70     186  1988-11-01  Southeastern Louisiana       CB   \n",
       "2        69     186  1991-12-18                  Purdue       SS   \n",
       "3        73     216  1995-07-26                 Florida       FS   \n",
       "4        70     211  1992-10-20                 Florida       CB   \n",
       "..      ...     ...         ...                     ...      ...   \n",
       "161      72     190  1995-06-29              Ohio State       CB   \n",
       "162      74     205  1986-04-07         Tennessee State       CB   \n",
       "163      70     200  1993-09-08           West Virginia       SS   \n",
       "164      70     198  1997-03-18              Pittsburgh       DB   \n",
       "165      72     195  1991-09-03          San Jose State       CB   \n",
       "\n",
       "                     displayName  birthYear  age         s         a       dis  \n",
       "0                Desmond Trufant       1990   28  3.393040  1.951001  0.339571  \n",
       "1                  Robert Alford       1988   30  3.415141  1.894274  0.341635  \n",
       "2                  Ricardo Allen       1991   27  3.023297  1.960050  0.301325  \n",
       "3                     Keanu Neal       1995   23  2.774608  1.935349  0.276380  \n",
       "4                    Brian Poole       1992   26  2.957079  1.964550  0.294630  \n",
       "..                           ...        ...  ...       ...       ...       ...  \n",
       "161                Gareon Conley       1995   23  3.532509  1.883339  0.352674  \n",
       "162  Dominique Rodgers-Cromartie       1986   32  3.492974  1.763256  0.350771  \n",
       "163                  Karl Joseph       1993   25  2.524000  2.228686  0.249829  \n",
       "164             Jordan Whitehead       1997   21  2.418704  2.198148  0.243519  \n",
       "165              Bene' Benwikere       1991   27  3.770128  2.107564  0.375256  \n",
       "\n",
       "[166 rows x 11 columns]"
      ]
     },
     "execution_count": 34,
     "metadata": {},
     "output_type": "execute_result"
    }
   ],
   "source": [
    "#merging both data sets together\n",
    "df2 = pd.merge(df,df1)\n",
    "df2"
   ]
  },
  {
   "cell_type": "code",
   "execution_count": 35,
   "metadata": {
    "execution": {
     "iopub.execute_input": "2020-12-13T23:45:15.874483Z",
     "iopub.status.busy": "2020-12-13T23:45:15.873465Z",
     "iopub.status.idle": "2020-12-13T23:45:15.906139Z",
     "shell.execute_reply": "2020-12-13T23:45:15.905492Z"
    },
    "papermill": {
     "duration": 0.128909,
     "end_time": "2020-12-13T23:45:15.906274",
     "exception": false,
     "start_time": "2020-12-13T23:45:15.777365",
     "status": "completed"
    },
    "tags": []
   },
   "outputs": [
    {
     "data": {
      "text/html": [
       "<div>\n",
       "<style scoped>\n",
       "    .dataframe tbody tr th:only-of-type {\n",
       "        vertical-align: middle;\n",
       "    }\n",
       "\n",
       "    .dataframe tbody tr th {\n",
       "        vertical-align: top;\n",
       "    }\n",
       "\n",
       "    .dataframe thead th {\n",
       "        text-align: right;\n",
       "    }\n",
       "</style>\n",
       "<table border=\"1\" class=\"dataframe\">\n",
       "  <thead>\n",
       "    <tr style=\"text-align: right;\">\n",
       "      <th></th>\n",
       "      <th>height</th>\n",
       "      <th>weight</th>\n",
       "      <th>birthYear</th>\n",
       "      <th>age</th>\n",
       "      <th>s</th>\n",
       "      <th>a</th>\n",
       "      <th>dis</th>\n",
       "    </tr>\n",
       "  </thead>\n",
       "  <tbody>\n",
       "    <tr>\n",
       "      <th>count</th>\n",
       "      <td>166.000000</td>\n",
       "      <td>166.000000</td>\n",
       "      <td>166.000000</td>\n",
       "      <td>166.000000</td>\n",
       "      <td>166.000000</td>\n",
       "      <td>166.000000</td>\n",
       "      <td>166.000000</td>\n",
       "    </tr>\n",
       "    <tr>\n",
       "      <th>mean</th>\n",
       "      <td>71.096386</td>\n",
       "      <td>198.813253</td>\n",
       "      <td>1991.596386</td>\n",
       "      <td>26.403614</td>\n",
       "      <td>3.102532</td>\n",
       "      <td>1.869019</td>\n",
       "      <td>0.310310</td>\n",
       "    </tr>\n",
       "    <tr>\n",
       "      <th>std</th>\n",
       "      <td>2.787915</td>\n",
       "      <td>9.801426</td>\n",
       "      <td>3.317500</td>\n",
       "      <td>3.317500</td>\n",
       "      <td>0.350245</td>\n",
       "      <td>0.157772</td>\n",
       "      <td>0.035386</td>\n",
       "    </tr>\n",
       "    <tr>\n",
       "      <th>min</th>\n",
       "      <td>61.000000</td>\n",
       "      <td>178.000000</td>\n",
       "      <td>1981.000000</td>\n",
       "      <td>21.000000</td>\n",
       "      <td>1.989140</td>\n",
       "      <td>1.203835</td>\n",
       "      <td>0.198495</td>\n",
       "    </tr>\n",
       "    <tr>\n",
       "      <th>25%</th>\n",
       "      <td>71.000000</td>\n",
       "      <td>191.000000</td>\n",
       "      <td>1990.000000</td>\n",
       "      <td>24.000000</td>\n",
       "      <td>2.860485</td>\n",
       "      <td>1.781270</td>\n",
       "      <td>0.285678</td>\n",
       "    </tr>\n",
       "    <tr>\n",
       "      <th>50%</th>\n",
       "      <td>72.000000</td>\n",
       "      <td>197.000000</td>\n",
       "      <td>1992.000000</td>\n",
       "      <td>26.000000</td>\n",
       "      <td>3.065543</td>\n",
       "      <td>1.881883</td>\n",
       "      <td>0.307623</td>\n",
       "    </tr>\n",
       "    <tr>\n",
       "      <th>75%</th>\n",
       "      <td>72.000000</td>\n",
       "      <td>205.000000</td>\n",
       "      <td>1994.000000</td>\n",
       "      <td>28.000000</td>\n",
       "      <td>3.334548</td>\n",
       "      <td>1.970440</td>\n",
       "      <td>0.332574</td>\n",
       "    </tr>\n",
       "    <tr>\n",
       "      <th>max</th>\n",
       "      <td>75.000000</td>\n",
       "      <td>220.000000</td>\n",
       "      <td>1997.000000</td>\n",
       "      <td>37.000000</td>\n",
       "      <td>4.456355</td>\n",
       "      <td>2.334089</td>\n",
       "      <td>0.447290</td>\n",
       "    </tr>\n",
       "  </tbody>\n",
       "</table>\n",
       "</div>"
      ],
      "text/plain": [
       "           height      weight    birthYear         age           s  \\\n",
       "count  166.000000  166.000000   166.000000  166.000000  166.000000   \n",
       "mean    71.096386  198.813253  1991.596386   26.403614    3.102532   \n",
       "std      2.787915    9.801426     3.317500    3.317500    0.350245   \n",
       "min     61.000000  178.000000  1981.000000   21.000000    1.989140   \n",
       "25%     71.000000  191.000000  1990.000000   24.000000    2.860485   \n",
       "50%     72.000000  197.000000  1992.000000   26.000000    3.065543   \n",
       "75%     72.000000  205.000000  1994.000000   28.000000    3.334548   \n",
       "max     75.000000  220.000000  1997.000000   37.000000    4.456355   \n",
       "\n",
       "                a         dis  \n",
       "count  166.000000  166.000000  \n",
       "mean     1.869019    0.310310  \n",
       "std      0.157772    0.035386  \n",
       "min      1.203835    0.198495  \n",
       "25%      1.781270    0.285678  \n",
       "50%      1.881883    0.307623  \n",
       "75%      1.970440    0.332574  \n",
       "max      2.334089    0.447290  "
      ]
     },
     "execution_count": 35,
     "metadata": {},
     "output_type": "execute_result"
    }
   ],
   "source": [
    "#Average Speed 3.10\n",
    "#Average Acceleration 1.87\n",
    "#This is benchmark speed and acceleration for all DB's\n",
    "df2.describe()"
   ]
  },
  {
   "cell_type": "code",
   "execution_count": 36,
   "metadata": {
    "execution": {
     "iopub.execute_input": "2020-12-13T23:45:16.106943Z",
     "iopub.status.busy": "2020-12-13T23:45:16.105755Z",
     "iopub.status.idle": "2020-12-13T23:45:16.248610Z",
     "shell.execute_reply": "2020-12-13T23:45:16.247936Z"
    },
    "papermill": {
     "duration": 0.249113,
     "end_time": "2020-12-13T23:45:16.248720",
     "exception": false,
     "start_time": "2020-12-13T23:45:15.999607",
     "status": "completed"
    },
    "tags": []
   },
   "outputs": [
    {
     "data": {
      "text/plain": [
       "Text(0, 0.5, 'Speed')"
      ]
     },
     "execution_count": 36,
     "metadata": {},
     "output_type": "execute_result"
    },
    {
     "data": {
      "image/png": "[encoded data removed]",
      "text/plain": [
       "<Figure size 432x288 with 1 Axes>"
      ]
     },
     "metadata": {
      "needs_background": "light"
     },
     "output_type": "display_data"
    }
   ],
   "source": [
    "#modeling\n",
    "#All code below will be linear regression modelling with weight, height, and age as independent variables speed is dependent variable\n",
    "plt.scatter(df2['weight'],df2['s'])\n",
    "plt.xlabel('Weight')\n",
    "plt.ylabel('Speed')"
   ]
  },
  {
   "cell_type": "code",
   "execution_count": 37,
   "metadata": {
    "execution": {
     "iopub.execute_input": "2020-12-13T23:45:16.456999Z",
     "iopub.status.busy": "2020-12-13T23:45:16.443834Z",
     "iopub.status.idle": "2020-12-13T23:45:16.595029Z",
     "shell.execute_reply": "2020-12-13T23:45:16.594025Z"
    },
    "papermill": {
     "duration": 0.251744,
     "end_time": "2020-12-13T23:45:16.595234",
     "exception": false,
     "start_time": "2020-12-13T23:45:16.343490",
     "status": "completed"
    },
    "tags": []
   },
   "outputs": [
    {
     "data": {
      "text/plain": [
       "Text(0, 0.5, 'Speed')"
      ]
     },
     "execution_count": 37,
     "metadata": {},
     "output_type": "execute_result"
    },
    {
     "data": {
      "image/png": "[encoded data removed]",
      "text/plain": [
       "<Figure size 432x288 with 1 Axes>"
      ]
     },
     "metadata": {
      "needs_background": "light"
     },
     "output_type": "display_data"
    }
   ],
   "source": [
    "plt.scatter(df2['height'],df2['s'])\n",
    "plt.xlabel('Height')\n",
    "plt.ylabel('Speed')"
   ]
  },
  {
   "cell_type": "code",
   "execution_count": 38,
   "metadata": {
    "execution": {
     "iopub.execute_input": "2020-12-13T23:45:16.840310Z",
     "iopub.status.busy": "2020-12-13T23:45:16.839234Z",
     "iopub.status.idle": "2020-12-13T23:45:17.004522Z",
     "shell.execute_reply": "2020-12-13T23:45:17.005485Z"
    },
    "papermill": {
     "duration": 0.283379,
     "end_time": "2020-12-13T23:45:17.005720",
     "exception": false,
     "start_time": "2020-12-13T23:45:16.722341",
     "status": "completed"
    },
    "tags": []
   },
   "outputs": [
    {
     "data": {
      "text/plain": [
       "Text(0, 0.5, 'Speed')"
      ]
     },
     "execution_count": 38,
     "metadata": {},
     "output_type": "execute_result"
    },
    {
     "data": {
      "image/png": "[encoded data removed]",
      "text/plain": [
       "<Figure size 432x288 with 1 Axes>"
      ]
     },
     "metadata": {
      "needs_background": "light"
     },
     "output_type": "display_data"
    }
   ],
   "source": [
    "plt.scatter(df2['age'],df2['s'])\n",
    "plt.xlabel('Age')\n",
    "plt.ylabel('Speed')"
   ]
  },
  {
   "cell_type": "code",
   "execution_count": 39,
   "metadata": {
    "execution": {
     "iopub.execute_input": "2020-12-13T23:45:17.235192Z",
     "iopub.status.busy": "2020-12-13T23:45:17.234097Z",
     "iopub.status.idle": "2020-12-13T23:45:17.239005Z",
     "shell.execute_reply": "2020-12-13T23:45:17.238480Z"
    },
    "papermill": {
     "duration": 0.129045,
     "end_time": "2020-12-13T23:45:17.239175",
     "exception": false,
     "start_time": "2020-12-13T23:45:17.110130",
     "status": "completed"
    },
    "tags": []
   },
   "outputs": [
    {
     "data": {
      "text/html": [
       "<div>\n",
       "<style scoped>\n",
       "    .dataframe tbody tr th:only-of-type {\n",
       "        vertical-align: middle;\n",
       "    }\n",
       "\n",
       "    .dataframe tbody tr th {\n",
       "        vertical-align: top;\n",
       "    }\n",
       "\n",
       "    .dataframe thead th {\n",
       "        text-align: right;\n",
       "    }\n",
       "</style>\n",
       "<table border=\"1\" class=\"dataframe\">\n",
       "  <thead>\n",
       "    <tr style=\"text-align: right;\">\n",
       "      <th></th>\n",
       "      <th>height</th>\n",
       "      <th>weight</th>\n",
       "    </tr>\n",
       "  </thead>\n",
       "  <tbody>\n",
       "    <tr>\n",
       "      <th>0</th>\n",
       "      <td>72</td>\n",
       "      <td>190</td>\n",
       "    </tr>\n",
       "    <tr>\n",
       "      <th>1</th>\n",
       "      <td>70</td>\n",
       "      <td>186</td>\n",
       "    </tr>\n",
       "    <tr>\n",
       "      <th>2</th>\n",
       "      <td>69</td>\n",
       "      <td>186</td>\n",
       "    </tr>\n",
       "    <tr>\n",
       "      <th>3</th>\n",
       "      <td>73</td>\n",
       "      <td>216</td>\n",
       "    </tr>\n",
       "    <tr>\n",
       "      <th>4</th>\n",
       "      <td>70</td>\n",
       "      <td>211</td>\n",
       "    </tr>\n",
       "    <tr>\n",
       "      <th>...</th>\n",
       "      <td>...</td>\n",
       "      <td>...</td>\n",
       "    </tr>\n",
       "    <tr>\n",
       "      <th>161</th>\n",
       "      <td>72</td>\n",
       "      <td>190</td>\n",
       "    </tr>\n",
       "    <tr>\n",
       "      <th>162</th>\n",
       "      <td>74</td>\n",
       "      <td>205</td>\n",
       "    </tr>\n",
       "    <tr>\n",
       "      <th>163</th>\n",
       "      <td>70</td>\n",
       "      <td>200</td>\n",
       "    </tr>\n",
       "    <tr>\n",
       "      <th>164</th>\n",
       "      <td>70</td>\n",
       "      <td>198</td>\n",
       "    </tr>\n",
       "    <tr>\n",
       "      <th>165</th>\n",
       "      <td>72</td>\n",
       "      <td>195</td>\n",
       "    </tr>\n",
       "  </tbody>\n",
       "</table>\n",
       "<p>166 rows × 2 columns</p>\n",
       "</div>"
      ],
      "text/plain": [
       "     height  weight\n",
       "0        72     190\n",
       "1        70     186\n",
       "2        69     186\n",
       "3        73     216\n",
       "4        70     211\n",
       "..      ...     ...\n",
       "161      72     190\n",
       "162      74     205\n",
       "163      70     200\n",
       "164      70     198\n",
       "165      72     195\n",
       "\n",
       "[166 rows x 2 columns]"
      ]
     },
     "execution_count": 39,
     "metadata": {},
     "output_type": "execute_result"
    }
   ],
   "source": [
    "X = df2[['height','weight']]\n",
    "Y = df2['s']\n",
    "X"
   ]
  },
  {
   "cell_type": "code",
   "execution_count": 40,
   "metadata": {
    "execution": {
     "iopub.execute_input": "2020-12-13T23:45:17.468821Z",
     "iopub.status.busy": "2020-12-13T23:45:17.468133Z",
     "iopub.status.idle": "2020-12-13T23:45:17.471718Z",
     "shell.execute_reply": "2020-12-13T23:45:17.471183Z"
    },
    "papermill": {
     "duration": 0.110348,
     "end_time": "2020-12-13T23:45:17.471837",
     "exception": false,
     "start_time": "2020-12-13T23:45:17.361489",
     "status": "completed"
    },
    "tags": []
   },
   "outputs": [],
   "source": [
    "from sklearn.linear_model import LinearRegression\n",
    "reg = LinearRegression()"
   ]
  },
  {
   "cell_type": "code",
   "execution_count": 41,
   "metadata": {
    "execution": {
     "iopub.execute_input": "2020-12-13T23:45:17.677960Z",
     "iopub.status.busy": "2020-12-13T23:45:17.677320Z",
     "iopub.status.idle": "2020-12-13T23:45:17.679248Z",
     "shell.execute_reply": "2020-12-13T23:45:17.679733Z"
    },
    "papermill": {
     "duration": 0.108687,
     "end_time": "2020-12-13T23:45:17.679867",
     "exception": false,
     "start_time": "2020-12-13T23:45:17.571180",
     "status": "completed"
    },
    "tags": []
   },
   "outputs": [],
   "source": [
    "#Split the data into 80% train and 20% test\n",
    "X_train, X_test, Y_train, Y_test = train_test_split(X,Y,test_size = 0.2)"
   ]
  },
  {
   "cell_type": "code",
   "execution_count": 42,
   "metadata": {
    "execution": {
     "iopub.execute_input": "2020-12-13T23:45:17.888289Z",
     "iopub.status.busy": "2020-12-13T23:45:17.887504Z",
     "iopub.status.idle": "2020-12-13T23:45:17.927219Z",
     "shell.execute_reply": "2020-12-13T23:45:17.927910Z"
    },
    "papermill": {
     "duration": 0.150306,
     "end_time": "2020-12-13T23:45:17.928107",
     "exception": false,
     "start_time": "2020-12-13T23:45:17.777801",
     "status": "completed"
    },
    "tags": []
   },
   "outputs": [
    {
     "data": {
      "text/plain": [
       "LinearRegression()"
      ]
     },
     "execution_count": 42,
     "metadata": {},
     "output_type": "execute_result"
    }
   ],
   "source": [
    "##train the model with training data\n",
    "reg.fit(X_train,Y_train)"
   ]
  },
  {
   "cell_type": "code",
   "execution_count": 43,
   "metadata": {
    "execution": {
     "iopub.execute_input": "2020-12-13T23:45:18.134590Z",
     "iopub.status.busy": "2020-12-13T23:45:18.133572Z",
     "iopub.status.idle": "2020-12-13T23:45:18.141148Z",
     "shell.execute_reply": "2020-12-13T23:45:18.140497Z"
    },
    "papermill": {
     "duration": 0.110054,
     "end_time": "2020-12-13T23:45:18.141275",
     "exception": false,
     "start_time": "2020-12-13T23:45:18.031221",
     "status": "completed"
    },
    "tags": []
   },
   "outputs": [
    {
     "name": "stdout",
     "output_type": "stream",
     "text": [
      "[ 0.01101952 -0.00101127]\n"
     ]
    }
   ],
   "source": [
    "#show both coefficients\n",
    "print(reg.coef_)"
   ]
  },
  {
   "cell_type": "code",
   "execution_count": 44,
   "metadata": {
    "execution": {
     "iopub.execute_input": "2020-12-13T23:45:18.343418Z",
     "iopub.status.busy": "2020-12-13T23:45:18.342698Z",
     "iopub.status.idle": "2020-12-13T23:45:18.351665Z",
     "shell.execute_reply": "2020-12-13T23:45:18.351066Z"
    },
    "papermill": {
     "duration": 0.111215,
     "end_time": "2020-12-13T23:45:18.351778",
     "exception": false,
     "start_time": "2020-12-13T23:45:18.240563",
     "status": "completed"
    },
    "tags": []
   },
   "outputs": [
    {
     "data": {
      "text/plain": [
       "array([3.11930613, 3.10211452, 3.10514834, 3.10727535, 3.08715439,\n",
       "       3.10009198, 3.11020469, 3.10717088, 3.11030916, 3.09503562,\n",
       "       3.1273963 , 3.08502738, 3.08209803, 3.09311755, 3.09109501,\n",
       "       3.10514834, 3.11424978, 3.10232346, 3.11627232, 3.10807768,\n",
       "       3.11808593, 3.11829486, 3.12819864, 3.10221899, 3.10828662,\n",
       "       3.11829486, 3.11222723, 3.11212277, 3.12729184, 3.08827013,\n",
       "       3.07916869, 3.11930613, 3.10626407, 3.11030916])"
      ]
     },
     "execution_count": 44,
     "metadata": {},
     "output_type": "execute_result"
    }
   ],
   "source": [
    "#print predictions on test data for y\n",
    "Y_pred = reg.predict(X_test)\n",
    "Y_pred"
   ]
  },
  {
   "cell_type": "code",
   "execution_count": 45,
   "metadata": {
    "execution": {
     "iopub.execute_input": "2020-12-13T23:45:18.557763Z",
     "iopub.status.busy": "2020-12-13T23:45:18.556693Z",
     "iopub.status.idle": "2020-12-13T23:45:18.560877Z",
     "shell.execute_reply": "2020-12-13T23:45:18.560378Z"
    },
    "papermill": {
     "duration": 0.109894,
     "end_time": "2020-12-13T23:45:18.560987",
     "exception": false,
     "start_time": "2020-12-13T23:45:18.451093",
     "status": "completed"
    },
    "tags": []
   },
   "outputs": [
    {
     "data": {
      "text/plain": [
       "145    3.524697\n",
       "143    2.848625\n",
       "110    2.689072\n",
       "82     2.515476\n",
       "163    2.524000\n",
       "156    2.957919\n",
       "84     3.082088\n",
       "121    3.136633\n",
       "40     3.450525\n",
       "52     3.487858\n",
       "141    3.018429\n",
       "39     3.196737\n",
       "107    2.653921\n",
       "85     2.666722\n",
       "24     3.144894\n",
       "123    3.202392\n",
       "165    3.770128\n",
       "63     3.326334\n",
       "21     3.525728\n",
       "117    3.194624\n",
       "138    2.984571\n",
       "20     3.085881\n",
       "83     2.975231\n",
       "119    2.671696\n",
       "86     2.860975\n",
       "97     3.150369\n",
       "36     3.106869\n",
       "98     3.179109\n",
       "28     3.503404\n",
       "126    3.060879\n",
       "147    3.227423\n",
       "161    3.532509\n",
       "59     3.239547\n",
       "62     3.469591\n",
       "Name: s, dtype: float64"
      ]
     },
     "execution_count": 45,
     "metadata": {},
     "output_type": "execute_result"
    }
   ],
   "source": [
    "#show output for actual observed\n",
    "Y_test"
   ]
  },
  {
   "cell_type": "code",
   "execution_count": 46,
   "metadata": {
    "execution": {
     "iopub.execute_input": "2020-12-13T23:45:18.770200Z",
     "iopub.status.busy": "2020-12-13T23:45:18.769250Z",
     "iopub.status.idle": "2020-12-13T23:45:18.772862Z",
     "shell.execute_reply": "2020-12-13T23:45:18.773376Z"
    },
    "papermill": {
     "duration": 0.111027,
     "end_time": "2020-12-13T23:45:18.773524",
     "exception": false,
     "start_time": "2020-12-13T23:45:18.662497",
     "status": "completed"
    },
    "tags": []
   },
   "outputs": [
    {
     "data": {
      "text/plain": [
       "0.09395521014431532"
      ]
     },
     "execution_count": 46,
     "metadata": {},
     "output_type": "execute_result"
    }
   ],
   "source": [
    "#check model performance/accuracy using Mean Squared Error\n",
    "(np.mean((Y_pred - Y_test)**2))"
   ]
  },
  {
   "cell_type": "code",
   "execution_count": 47,
   "metadata": {
    "execution": {
     "iopub.execute_input": "2020-12-13T23:45:18.979716Z",
     "iopub.status.busy": "2020-12-13T23:45:18.978675Z",
     "iopub.status.idle": "2020-12-13T23:45:18.985123Z",
     "shell.execute_reply": "2020-12-13T23:45:18.985573Z"
    },
    "papermill": {
     "duration": 0.111414,
     "end_time": "2020-12-13T23:45:18.985735",
     "exception": false,
     "start_time": "2020-12-13T23:45:18.874321",
     "status": "completed"
    },
    "tags": []
   },
   "outputs": [
    {
     "data": {
      "text/plain": [
       "0.0939552101443153"
      ]
     },
     "execution_count": 47,
     "metadata": {},
     "output_type": "execute_result"
    }
   ],
   "source": [
    "#check model performance/accuracy using Mean Squared Error function\n",
    "from sklearn.metrics import mean_squared_error\n",
    "mean_squared_error(Y_test, Y_pred)"
   ]
  },
  {
   "cell_type": "code",
   "execution_count": 48,
   "metadata": {
    "execution": {
     "iopub.execute_input": "2020-12-13T23:45:19.191795Z",
     "iopub.status.busy": "2020-12-13T23:45:19.190722Z",
     "iopub.status.idle": "2020-12-13T23:45:19.206505Z",
     "shell.execute_reply": "2020-12-13T23:45:19.206972Z"
    },
    "papermill": {
     "duration": 0.120504,
     "end_time": "2020-12-13T23:45:19.207136",
     "exception": false,
     "start_time": "2020-12-13T23:45:19.086632",
     "status": "completed"
    },
    "tags": []
   },
   "outputs": [
    {
     "data": {
      "text/html": [
       "<div>\n",
       "<style scoped>\n",
       "    .dataframe tbody tr th:only-of-type {\n",
       "        vertical-align: middle;\n",
       "    }\n",
       "\n",
       "    .dataframe tbody tr th {\n",
       "        vertical-align: top;\n",
       "    }\n",
       "\n",
       "    .dataframe thead th {\n",
       "        text-align: right;\n",
       "    }\n",
       "</style>\n",
       "<table border=\"1\" class=\"dataframe\">\n",
       "  <thead>\n",
       "    <tr style=\"text-align: right;\">\n",
       "      <th></th>\n",
       "      <th>height</th>\n",
       "      <th>weight</th>\n",
       "      <th>age</th>\n",
       "      <th>a</th>\n",
       "    </tr>\n",
       "  </thead>\n",
       "  <tbody>\n",
       "    <tr>\n",
       "      <th>0</th>\n",
       "      <td>72</td>\n",
       "      <td>190</td>\n",
       "      <td>28</td>\n",
       "      <td>1.951001</td>\n",
       "    </tr>\n",
       "    <tr>\n",
       "      <th>1</th>\n",
       "      <td>70</td>\n",
       "      <td>186</td>\n",
       "      <td>30</td>\n",
       "      <td>1.894274</td>\n",
       "    </tr>\n",
       "    <tr>\n",
       "      <th>2</th>\n",
       "      <td>69</td>\n",
       "      <td>186</td>\n",
       "      <td>27</td>\n",
       "      <td>1.960050</td>\n",
       "    </tr>\n",
       "    <tr>\n",
       "      <th>3</th>\n",
       "      <td>73</td>\n",
       "      <td>216</td>\n",
       "      <td>23</td>\n",
       "      <td>1.935349</td>\n",
       "    </tr>\n",
       "    <tr>\n",
       "      <th>4</th>\n",
       "      <td>70</td>\n",
       "      <td>211</td>\n",
       "      <td>26</td>\n",
       "      <td>1.964550</td>\n",
       "    </tr>\n",
       "    <tr>\n",
       "      <th>...</th>\n",
       "      <td>...</td>\n",
       "      <td>...</td>\n",
       "      <td>...</td>\n",
       "      <td>...</td>\n",
       "    </tr>\n",
       "    <tr>\n",
       "      <th>161</th>\n",
       "      <td>72</td>\n",
       "      <td>190</td>\n",
       "      <td>23</td>\n",
       "      <td>1.883339</td>\n",
       "    </tr>\n",
       "    <tr>\n",
       "      <th>162</th>\n",
       "      <td>74</td>\n",
       "      <td>205</td>\n",
       "      <td>32</td>\n",
       "      <td>1.763256</td>\n",
       "    </tr>\n",
       "    <tr>\n",
       "      <th>163</th>\n",
       "      <td>70</td>\n",
       "      <td>200</td>\n",
       "      <td>25</td>\n",
       "      <td>2.228686</td>\n",
       "    </tr>\n",
       "    <tr>\n",
       "      <th>164</th>\n",
       "      <td>70</td>\n",
       "      <td>198</td>\n",
       "      <td>21</td>\n",
       "      <td>2.198148</td>\n",
       "    </tr>\n",
       "    <tr>\n",
       "      <th>165</th>\n",
       "      <td>72</td>\n",
       "      <td>195</td>\n",
       "      <td>27</td>\n",
       "      <td>2.107564</td>\n",
       "    </tr>\n",
       "  </tbody>\n",
       "</table>\n",
       "<p>166 rows × 4 columns</p>\n",
       "</div>"
      ],
      "text/plain": [
       "     height  weight  age         a\n",
       "0        72     190   28  1.951001\n",
       "1        70     186   30  1.894274\n",
       "2        69     186   27  1.960050\n",
       "3        73     216   23  1.935349\n",
       "4        70     211   26  1.964550\n",
       "..      ...     ...  ...       ...\n",
       "161      72     190   23  1.883339\n",
       "162      74     205   32  1.763256\n",
       "163      70     200   25  2.228686\n",
       "164      70     198   21  2.198148\n",
       "165      72     195   27  2.107564\n",
       "\n",
       "[166 rows x 4 columns]"
      ]
     },
     "execution_count": 48,
     "metadata": {},
     "output_type": "execute_result"
    }
   ],
   "source": [
    "#Linear Regression Model while adding in 'AGE' and 'S' to independent variables for finding acceleration\n",
    "x = df2[['height','weight','age','a']]\n",
    "y = df2['s']\n",
    "x"
   ]
  },
  {
   "cell_type": "code",
   "execution_count": 49,
   "metadata": {
    "execution": {
     "iopub.execute_input": "2020-12-13T23:45:19.414367Z",
     "iopub.status.busy": "2020-12-13T23:45:19.413705Z",
     "iopub.status.idle": "2020-12-13T23:45:19.415694Z",
     "shell.execute_reply": "2020-12-13T23:45:19.416154Z"
    },
    "papermill": {
     "duration": 0.107937,
     "end_time": "2020-12-13T23:45:19.416294",
     "exception": false,
     "start_time": "2020-12-13T23:45:19.308357",
     "status": "completed"
    },
    "tags": []
   },
   "outputs": [],
   "source": [
    "#split data into 80% training 20% testing\n",
    "from sklearn.linear_model import LinearRegression\n",
    "Reg = LinearRegression()"
   ]
  },
  {
   "cell_type": "code",
   "execution_count": 50,
   "metadata": {
    "execution": {
     "iopub.execute_input": "2020-12-13T23:45:19.621680Z",
     "iopub.status.busy": "2020-12-13T23:45:19.621023Z",
     "iopub.status.idle": "2020-12-13T23:45:19.626635Z",
     "shell.execute_reply": "2020-12-13T23:45:19.627097Z"
    },
    "papermill": {
     "duration": 0.110313,
     "end_time": "2020-12-13T23:45:19.627237",
     "exception": false,
     "start_time": "2020-12-13T23:45:19.516924",
     "status": "completed"
    },
    "tags": []
   },
   "outputs": [],
   "source": [
    "#Split the data into 80% train and 20% test\n",
    "x_train, x_test, y_train,y_test = train_test_split(x,y,test_size = 0.2)"
   ]
  },
  {
   "cell_type": "code",
   "execution_count": 51,
   "metadata": {
    "execution": {
     "iopub.execute_input": "2020-12-13T23:45:19.835539Z",
     "iopub.status.busy": "2020-12-13T23:45:19.834741Z",
     "iopub.status.idle": "2020-12-13T23:45:19.848705Z",
     "shell.execute_reply": "2020-12-13T23:45:19.847874Z"
    },
    "papermill": {
     "duration": 0.120365,
     "end_time": "2020-12-13T23:45:19.848863",
     "exception": false,
     "start_time": "2020-12-13T23:45:19.728498",
     "status": "completed"
    },
    "tags": []
   },
   "outputs": [
    {
     "data": {
      "text/plain": [
       "LinearRegression()"
      ]
     },
     "execution_count": 51,
     "metadata": {},
     "output_type": "execute_result"
    }
   ],
   "source": [
    "#train the model with training data\n",
    "Reg.fit(x_train,y_train)"
   ]
  },
  {
   "cell_type": "code",
   "execution_count": 52,
   "metadata": {
    "execution": {
     "iopub.execute_input": "2020-12-13T23:45:20.062771Z",
     "iopub.status.busy": "2020-12-13T23:45:20.062129Z",
     "iopub.status.idle": "2020-12-13T23:45:20.067960Z",
     "shell.execute_reply": "2020-12-13T23:45:20.067389Z"
    },
    "papermill": {
     "duration": 0.112024,
     "end_time": "2020-12-13T23:45:20.068094",
     "exception": false,
     "start_time": "2020-12-13T23:45:19.956070",
     "status": "completed"
    },
    "tags": []
   },
   "outputs": [
    {
     "name": "stdout",
     "output_type": "stream",
     "text": [
      "[ 0.01886631 -0.00077933  0.00804634  0.56087299]\n"
     ]
    }
   ],
   "source": [
    "#print coefficients/weights for each feature/column of our model\n",
    "print(Reg.coef_)"
   ]
  },
  {
   "cell_type": "code",
   "execution_count": 53,
   "metadata": {
    "execution": {
     "iopub.execute_input": "2020-12-13T23:45:20.282660Z",
     "iopub.status.busy": "2020-12-13T23:45:20.281896Z",
     "iopub.status.idle": "2020-12-13T23:45:20.291491Z",
     "shell.execute_reply": "2020-12-13T23:45:20.290880Z"
    },
    "papermill": {
     "duration": 0.115914,
     "end_time": "2020-12-13T23:45:20.291605",
     "exception": false,
     "start_time": "2020-12-13T23:45:20.175691",
     "status": "completed"
    },
    "tags": []
   },
   "outputs": [
    {
     "data": {
      "text/plain": [
       "array([3.17494557, 3.22322952, 3.12455293, 3.10856827, 2.76721374,\n",
       "       3.1740958 , 3.01379578, 3.18184779, 3.07683594, 3.05679245,\n",
       "       3.18368782, 2.91755042, 3.10449379, 2.98859675, 3.20077463,\n",
       "       3.20350017, 3.20969761, 3.21459844, 3.19424125, 3.17269322,\n",
       "       3.25083925, 3.00193019, 2.98542912, 3.13953705, 3.14811759,\n",
       "       3.09222643, 3.06600149, 3.11657086, 2.86753003, 2.96774676,\n",
       "       3.04355656, 2.98687012, 3.22108217, 3.08184318])"
      ]
     },
     "execution_count": 53,
     "metadata": {},
     "output_type": "execute_result"
    }
   ],
   "source": [
    "#print predicitions on test data for y\n",
    "y_pred = Reg.predict(x_test)\n",
    "y_pred"
   ]
  },
  {
   "cell_type": "code",
   "execution_count": 54,
   "metadata": {
    "execution": {
     "iopub.execute_input": "2020-12-13T23:45:20.506023Z",
     "iopub.status.busy": "2020-12-13T23:45:20.505299Z",
     "iopub.status.idle": "2020-12-13T23:45:20.508077Z",
     "shell.execute_reply": "2020-12-13T23:45:20.508521Z"
    },
    "papermill": {
     "duration": 0.113136,
     "end_time": "2020-12-13T23:45:20.508665",
     "exception": false,
     "start_time": "2020-12-13T23:45:20.395529",
     "status": "completed"
    },
    "tags": []
   },
   "outputs": [
    {
     "data": {
      "text/plain": [
       "48     3.788125\n",
       "164    2.418704\n",
       "35     3.537409\n",
       "115    2.879890\n",
       "75     2.437640\n",
       "60     3.179640\n",
       "156    2.957919\n",
       "19     3.346623\n",
       "101    2.843910\n",
       "73     2.852163\n",
       "58     3.052727\n",
       "81     3.324496\n",
       "80     3.324496\n",
       "107    2.653921\n",
       "106    3.052854\n",
       "23     3.226982\n",
       "21     3.525728\n",
       "108    3.017234\n",
       "91     3.490328\n",
       "123    3.202392\n",
       "139    3.363093\n",
       "33     3.031642\n",
       "31     3.120190\n",
       "110    2.689072\n",
       "13     3.455593\n",
       "124    3.693813\n",
       "16     3.161018\n",
       "67     2.667218\n",
       "130    3.064116\n",
       "131    2.976626\n",
       "143    2.848625\n",
       "74     2.876849\n",
       "141    3.018429\n",
       "37     3.243269\n",
       "Name: s, dtype: float64"
      ]
     },
     "execution_count": 54,
     "metadata": {},
     "output_type": "execute_result"
    }
   ],
   "source": [
    "#print the actual values\n",
    "y_test"
   ]
  },
  {
   "cell_type": "code",
   "execution_count": 55,
   "metadata": {
    "execution": {
     "iopub.execute_input": "2020-12-13T23:45:20.719497Z",
     "iopub.status.busy": "2020-12-13T23:45:20.718742Z",
     "iopub.status.idle": "2020-12-13T23:45:20.724646Z",
     "shell.execute_reply": "2020-12-13T23:45:20.725163Z"
    },
    "papermill": {
     "duration": 0.113273,
     "end_time": "2020-12-13T23:45:20.725363",
     "exception": false,
     "start_time": "2020-12-13T23:45:20.612090",
     "status": "completed"
    },
    "tags": []
   },
   "outputs": [
    {
     "data": {
      "text/plain": [
       "0.0921155909512295"
      ]
     },
     "execution_count": 55,
     "metadata": {},
     "output_type": "execute_result"
    }
   ],
   "source": [
    "#check model performance/accuracy using Mean Squared Error\n",
    "(np.mean((y_pred - y_test)**2))"
   ]
  },
  {
   "cell_type": "code",
   "execution_count": 56,
   "metadata": {
    "execution": {
     "iopub.execute_input": "2020-12-13T23:45:20.940770Z",
     "iopub.status.busy": "2020-12-13T23:45:20.940061Z",
     "iopub.status.idle": "2020-12-13T23:45:20.947501Z",
     "shell.execute_reply": "2020-12-13T23:45:20.947988Z"
    },
    "papermill": {
     "duration": 0.116321,
     "end_time": "2020-12-13T23:45:20.948158",
     "exception": false,
     "start_time": "2020-12-13T23:45:20.831837",
     "status": "completed"
    },
    "tags": []
   },
   "outputs": [
    {
     "data": {
      "text/plain": [
       "0.09211559095122948"
      ]
     },
     "execution_count": 56,
     "metadata": {},
     "output_type": "execute_result"
    }
   ],
   "source": [
    "#MSE and SKlearn.metrics\n",
    "from sklearn.metrics import mean_squared_error\n",
    "mean_squared_error(y_test, y_pred)\n"
   ]
  },
  {
   "cell_type": "code",
   "execution_count": 57,
   "metadata": {
    "execution": {
     "iopub.execute_input": "2020-12-13T23:45:21.174838Z",
     "iopub.status.busy": "2020-12-13T23:45:21.174147Z",
     "iopub.status.idle": "2020-12-13T23:45:21.178057Z",
     "shell.execute_reply": "2020-12-13T23:45:21.178626Z"
    },
    "papermill": {
     "duration": 0.125855,
     "end_time": "2020-12-13T23:45:21.178774",
     "exception": false,
     "start_time": "2020-12-13T23:45:21.052919",
     "status": "completed"
    },
    "tags": []
   },
   "outputs": [
    {
     "data": {
      "text/html": [
       "<div>\n",
       "<style scoped>\n",
       "    .dataframe tbody tr th:only-of-type {\n",
       "        vertical-align: middle;\n",
       "    }\n",
       "\n",
       "    .dataframe tbody tr th {\n",
       "        vertical-align: top;\n",
       "    }\n",
       "\n",
       "    .dataframe thead th {\n",
       "        text-align: right;\n",
       "    }\n",
       "</style>\n",
       "<table border=\"1\" class=\"dataframe\">\n",
       "  <thead>\n",
       "    <tr style=\"text-align: right;\">\n",
       "      <th></th>\n",
       "      <th>height</th>\n",
       "      <th>weight</th>\n",
       "      <th>age</th>\n",
       "      <th>s</th>\n",
       "    </tr>\n",
       "  </thead>\n",
       "  <tbody>\n",
       "    <tr>\n",
       "      <th>0</th>\n",
       "      <td>72</td>\n",
       "      <td>190</td>\n",
       "      <td>28</td>\n",
       "      <td>3.393040</td>\n",
       "    </tr>\n",
       "    <tr>\n",
       "      <th>1</th>\n",
       "      <td>70</td>\n",
       "      <td>186</td>\n",
       "      <td>30</td>\n",
       "      <td>3.415141</td>\n",
       "    </tr>\n",
       "    <tr>\n",
       "      <th>2</th>\n",
       "      <td>69</td>\n",
       "      <td>186</td>\n",
       "      <td>27</td>\n",
       "      <td>3.023297</td>\n",
       "    </tr>\n",
       "    <tr>\n",
       "      <th>3</th>\n",
       "      <td>73</td>\n",
       "      <td>216</td>\n",
       "      <td>23</td>\n",
       "      <td>2.774608</td>\n",
       "    </tr>\n",
       "    <tr>\n",
       "      <th>4</th>\n",
       "      <td>70</td>\n",
       "      <td>211</td>\n",
       "      <td>26</td>\n",
       "      <td>2.957079</td>\n",
       "    </tr>\n",
       "    <tr>\n",
       "      <th>...</th>\n",
       "      <td>...</td>\n",
       "      <td>...</td>\n",
       "      <td>...</td>\n",
       "      <td>...</td>\n",
       "    </tr>\n",
       "    <tr>\n",
       "      <th>161</th>\n",
       "      <td>72</td>\n",
       "      <td>190</td>\n",
       "      <td>23</td>\n",
       "      <td>3.532509</td>\n",
       "    </tr>\n",
       "    <tr>\n",
       "      <th>162</th>\n",
       "      <td>74</td>\n",
       "      <td>205</td>\n",
       "      <td>32</td>\n",
       "      <td>3.492974</td>\n",
       "    </tr>\n",
       "    <tr>\n",
       "      <th>163</th>\n",
       "      <td>70</td>\n",
       "      <td>200</td>\n",
       "      <td>25</td>\n",
       "      <td>2.524000</td>\n",
       "    </tr>\n",
       "    <tr>\n",
       "      <th>164</th>\n",
       "      <td>70</td>\n",
       "      <td>198</td>\n",
       "      <td>21</td>\n",
       "      <td>2.418704</td>\n",
       "    </tr>\n",
       "    <tr>\n",
       "      <th>165</th>\n",
       "      <td>72</td>\n",
       "      <td>195</td>\n",
       "      <td>27</td>\n",
       "      <td>3.770128</td>\n",
       "    </tr>\n",
       "  </tbody>\n",
       "</table>\n",
       "<p>166 rows × 4 columns</p>\n",
       "</div>"
      ],
      "text/plain": [
       "     height  weight  age         s\n",
       "0        72     190   28  3.393040\n",
       "1        70     186   30  3.415141\n",
       "2        69     186   27  3.023297\n",
       "3        73     216   23  2.774608\n",
       "4        70     211   26  2.957079\n",
       "..      ...     ...  ...       ...\n",
       "161      72     190   23  3.532509\n",
       "162      74     205   32  3.492974\n",
       "163      70     200   25  2.524000\n",
       "164      70     198   21  2.418704\n",
       "165      72     195   27  3.770128\n",
       "\n",
       "[166 rows x 4 columns]"
      ]
     },
     "execution_count": 57,
     "metadata": {},
     "output_type": "execute_result"
    }
   ],
   "source": [
    "#Linear Regression using acceleration as dependent variable\n",
    "x0 = df2[['height','weight','age','s']]\n",
    "y0= df2['a']\n",
    "x0"
   ]
  },
  {
   "cell_type": "code",
   "execution_count": 58,
   "metadata": {
    "execution": {
     "iopub.execute_input": "2020-12-13T23:45:21.394542Z",
     "iopub.status.busy": "2020-12-13T23:45:21.393858Z",
     "iopub.status.idle": "2020-12-13T23:45:21.397893Z",
     "shell.execute_reply": "2020-12-13T23:45:21.398550Z"
    },
    "papermill": {
     "duration": 0.114111,
     "end_time": "2020-12-13T23:45:21.398685",
     "exception": false,
     "start_time": "2020-12-13T23:45:21.284574",
     "status": "completed"
    },
    "tags": []
   },
   "outputs": [],
   "source": [
    "Reg0 = LinearRegression()"
   ]
  },
  {
   "cell_type": "code",
   "execution_count": 59,
   "metadata": {
    "execution": {
     "iopub.execute_input": "2020-12-13T23:45:21.612427Z",
     "iopub.status.busy": "2020-12-13T23:45:21.611762Z",
     "iopub.status.idle": "2020-12-13T23:45:21.617405Z",
     "shell.execute_reply": "2020-12-13T23:45:21.617916Z"
    },
    "papermill": {
     "duration": 0.114258,
     "end_time": "2020-12-13T23:45:21.618078",
     "exception": false,
     "start_time": "2020-12-13T23:45:21.503820",
     "status": "completed"
    },
    "tags": []
   },
   "outputs": [],
   "source": [
    "#Split the data into 80% train and 20% test\n",
    "x0_train, x0_test, y0_train,y0_test = train_test_split(x0,y0,test_size = 0.2)"
   ]
  },
  {
   "cell_type": "code",
   "execution_count": 60,
   "metadata": {
    "execution": {
     "iopub.execute_input": "2020-12-13T23:45:21.833409Z",
     "iopub.status.busy": "2020-12-13T23:45:21.832645Z",
     "iopub.status.idle": "2020-12-13T23:45:21.841427Z",
     "shell.execute_reply": "2020-12-13T23:45:21.841945Z"
    },
    "papermill": {
     "duration": 0.117978,
     "end_time": "2020-12-13T23:45:21.842121",
     "exception": false,
     "start_time": "2020-12-13T23:45:21.724143",
     "status": "completed"
    },
    "tags": []
   },
   "outputs": [
    {
     "data": {
      "text/plain": [
       "LinearRegression()"
      ]
     },
     "execution_count": 60,
     "metadata": {},
     "output_type": "execute_result"
    }
   ],
   "source": [
    "#train the model with training data\n",
    "Reg0.fit(x0_train,y0_train)"
   ]
  },
  {
   "cell_type": "code",
   "execution_count": 61,
   "metadata": {
    "execution": {
     "iopub.execute_input": "2020-12-13T23:45:22.059966Z",
     "iopub.status.busy": "2020-12-13T23:45:22.058914Z",
     "iopub.status.idle": "2020-12-13T23:45:22.066005Z",
     "shell.execute_reply": "2020-12-13T23:45:22.065263Z"
    },
    "papermill": {
     "duration": 0.116852,
     "end_time": "2020-12-13T23:45:22.066161",
     "exception": false,
     "start_time": "2020-12-13T23:45:21.949309",
     "status": "completed"
    },
    "tags": []
   },
   "outputs": [
    {
     "name": "stdout",
     "output_type": "stream",
     "text": [
      "[ 0.00085559 -0.00271705 -0.01239156  0.08297359]\n"
     ]
    }
   ],
   "source": [
    "#show both coefficients\n",
    "print(Reg0.coef_)"
   ]
  },
  {
   "cell_type": "code",
   "execution_count": 62,
   "metadata": {
    "execution": {
     "iopub.execute_input": "2020-12-13T23:45:22.287213Z",
     "iopub.status.busy": "2020-12-13T23:45:22.286521Z",
     "iopub.status.idle": "2020-12-13T23:45:22.289158Z",
     "shell.execute_reply": "2020-12-13T23:45:22.289610Z"
    },
    "papermill": {
     "duration": 0.117376,
     "end_time": "2020-12-13T23:45:22.289750",
     "exception": false,
     "start_time": "2020-12-13T23:45:22.172374",
     "status": "completed"
    },
    "tags": []
   },
   "outputs": [
    {
     "data": {
      "text/plain": [
       "array([1.78963937, 1.80187736, 1.87259327, 1.88415848, 1.83536617,\n",
       "       1.84088871, 1.80410463, 1.83145784, 1.78697497, 1.86710964,\n",
       "       1.90958779, 1.91168439, 1.88735017, 1.82533931, 1.78004463,\n",
       "       1.83012638, 1.80829808, 1.84563065, 1.86653207, 1.90047284,\n",
       "       1.77852925, 1.89944819, 1.8900797 , 1.75579881, 1.7635605 ,\n",
       "       1.88398823, 1.92345377, 1.7517484 , 1.88760224, 1.87746366,\n",
       "       1.93246458, 1.92101165, 1.75848407, 1.82672876])"
      ]
     },
     "execution_count": 62,
     "metadata": {},
     "output_type": "execute_result"
    }
   ],
   "source": [
    "#print predicitions on test data for y\n",
    "y0_pred = Reg0.predict(x0_test)\n",
    "y0_pred"
   ]
  },
  {
   "cell_type": "code",
   "execution_count": 63,
   "metadata": {
    "execution": {
     "iopub.execute_input": "2020-12-13T23:45:22.505994Z",
     "iopub.status.busy": "2020-12-13T23:45:22.505365Z",
     "iopub.status.idle": "2020-12-13T23:45:22.512285Z",
     "shell.execute_reply": "2020-12-13T23:45:22.511603Z"
    },
    "papermill": {
     "duration": 0.11579,
     "end_time": "2020-12-13T23:45:22.512398",
     "exception": false,
     "start_time": "2020-12-13T23:45:22.396608",
     "status": "completed"
    },
    "tags": []
   },
   "outputs": [
    {
     "data": {
      "text/plain": [
       "24     2.032063\n",
       "106    1.950156\n",
       "67     1.850914\n",
       "118    1.988211\n",
       "144    2.000272\n",
       "137    1.754350\n",
       "15     1.974099\n",
       "117    1.835876\n",
       "64     1.768410\n",
       "109    2.005978\n",
       "54     2.065021\n",
       "13     1.916271\n",
       "133    1.729226\n",
       "7      1.958070\n",
       "11     1.794465\n",
       "115    1.854871\n",
       "51     1.886930\n",
       "125    1.855312\n",
       "12     1.592537\n",
       "25     1.789477\n",
       "26     2.092975\n",
       "77     1.722926\n",
       "66     1.931932\n",
       "102    1.923938\n",
       "75     1.203835\n",
       "97     1.918001\n",
       "38     1.849206\n",
       "158    1.842787\n",
       "60     1.955028\n",
       "96     1.906187\n",
       "124    1.853652\n",
       "5      1.990361\n",
       "94     1.833805\n",
       "71     1.701990\n",
       "Name: a, dtype: float64"
      ]
     },
     "execution_count": 63,
     "metadata": {},
     "output_type": "execute_result"
    }
   ],
   "source": [
    "y0_test"
   ]
  },
  {
   "cell_type": "code",
   "execution_count": 64,
   "metadata": {
    "execution": {
     "iopub.execute_input": "2020-12-13T23:45:22.734229Z",
     "iopub.status.busy": "2020-12-13T23:45:22.733227Z",
     "iopub.status.idle": "2020-12-13T23:45:22.737942Z",
     "shell.execute_reply": "2020-12-13T23:45:22.737350Z"
    },
    "papermill": {
     "duration": 0.118268,
     "end_time": "2020-12-13T23:45:22.738098",
     "exception": false,
     "start_time": "2020-12-13T23:45:22.619830",
     "status": "completed"
    },
    "tags": []
   },
   "outputs": [
    {
     "data": {
      "text/plain": [
       "0.02536788505956674"
      ]
     },
     "execution_count": 64,
     "metadata": {},
     "output_type": "execute_result"
    }
   ],
   "source": [
    "#MSE \n",
    "mean_squared_error(y0_test, y0_pred)"
   ]
  },
  {
   "cell_type": "code",
   "execution_count": 65,
   "metadata": {
    "execution": {
     "iopub.execute_input": "2020-12-13T23:45:22.962741Z",
     "iopub.status.busy": "2020-12-13T23:45:22.961993Z",
     "iopub.status.idle": "2020-12-13T23:45:22.965537Z",
     "shell.execute_reply": "2020-12-13T23:45:22.964934Z"
    },
    "papermill": {
     "duration": 0.117643,
     "end_time": "2020-12-13T23:45:22.965664",
     "exception": false,
     "start_time": "2020-12-13T23:45:22.848021",
     "status": "completed"
    },
    "tags": []
   },
   "outputs": [],
   "source": [
    "#Linear Regression model for the top 26 coverage players"
   ]
  },
  {
   "cell_type": "code",
   "execution_count": 66,
   "metadata": {
    "execution": {
     "iopub.execute_input": "2020-12-13T23:45:23.209346Z",
     "iopub.status.busy": "2020-12-13T23:45:23.207625Z",
     "iopub.status.idle": "2020-12-13T23:45:23.213613Z",
     "shell.execute_reply": "2020-12-13T23:45:23.212905Z"
    },
    "papermill": {
     "duration": 0.138031,
     "end_time": "2020-12-13T23:45:23.213725",
     "exception": false,
     "start_time": "2020-12-13T23:45:23.075694",
     "status": "completed"
    },
    "tags": []
   },
   "outputs": [
    {
     "data": {
      "text/html": [
       "<div>\n",
       "<style scoped>\n",
       "    .dataframe tbody tr th:only-of-type {\n",
       "        vertical-align: middle;\n",
       "    }\n",
       "\n",
       "    .dataframe tbody tr th {\n",
       "        vertical-align: top;\n",
       "    }\n",
       "\n",
       "    .dataframe thead th {\n",
       "        text-align: right;\n",
       "    }\n",
       "</style>\n",
       "<table border=\"1\" class=\"dataframe\">\n",
       "  <thead>\n",
       "    <tr style=\"text-align: right;\">\n",
       "      <th></th>\n",
       "      <th>height</th>\n",
       "      <th>weight</th>\n",
       "      <th>birthDate</th>\n",
       "      <th>collegeName</th>\n",
       "      <th>position</th>\n",
       "      <th>displayName</th>\n",
       "      <th>birthYear</th>\n",
       "      <th>age</th>\n",
       "      <th>s</th>\n",
       "      <th>a</th>\n",
       "      <th>dis</th>\n",
       "    </tr>\n",
       "  </thead>\n",
       "  <tbody>\n",
       "    <tr>\n",
       "      <th>5</th>\n",
       "      <td>71</td>\n",
       "      <td>190</td>\n",
       "      <td>1993-06-05</td>\n",
       "      <td>San Diego State</td>\n",
       "      <td>SS</td>\n",
       "      <td>Damontae Kazee</td>\n",
       "      <td>1993</td>\n",
       "      <td>25</td>\n",
       "      <td>3.275455</td>\n",
       "      <td>1.990361</td>\n",
       "      <td>0.326753</td>\n",
       "    </tr>\n",
       "    <tr>\n",
       "      <th>8</th>\n",
       "      <td>71</td>\n",
       "      <td>193</td>\n",
       "      <td>1994-01-02</td>\n",
       "      <td>Florida State</td>\n",
       "      <td>CB</td>\n",
       "      <td>Ronald Darby</td>\n",
       "      <td>1994</td>\n",
       "      <td>24</td>\n",
       "      <td>2.784252</td>\n",
       "      <td>1.786972</td>\n",
       "      <td>0.277529</td>\n",
       "    </tr>\n",
       "    <tr>\n",
       "      <th>15</th>\n",
       "      <td>61</td>\n",
       "      <td>195</td>\n",
       "      <td>1985-01-04</td>\n",
       "      <td>Utah</td>\n",
       "      <td>FS</td>\n",
       "      <td>Eric Weddle</td>\n",
       "      <td>1985</td>\n",
       "      <td>33</td>\n",
       "      <td>3.328082</td>\n",
       "      <td>1.974099</td>\n",
       "      <td>0.331907</td>\n",
       "    </tr>\n",
       "    <tr>\n",
       "      <th>18</th>\n",
       "      <td>72</td>\n",
       "      <td>197</td>\n",
       "      <td>1996-07-08</td>\n",
       "      <td>Alabama</td>\n",
       "      <td>CB</td>\n",
       "      <td>Marlon Humphrey</td>\n",
       "      <td>1996</td>\n",
       "      <td>22</td>\n",
       "      <td>3.247617</td>\n",
       "      <td>1.920805</td>\n",
       "      <td>0.324011</td>\n",
       "    </tr>\n",
       "    <tr>\n",
       "      <th>30</th>\n",
       "      <td>71</td>\n",
       "      <td>196</td>\n",
       "      <td>1992-08-29</td>\n",
       "      <td>Arizona State</td>\n",
       "      <td>CB</td>\n",
       "      <td>Damarious Randall</td>\n",
       "      <td>1992</td>\n",
       "      <td>26</td>\n",
       "      <td>3.133252</td>\n",
       "      <td>1.850416</td>\n",
       "      <td>0.316005</td>\n",
       "    </tr>\n",
       "    <tr>\n",
       "      <th>33</th>\n",
       "      <td>71</td>\n",
       "      <td>191</td>\n",
       "      <td>1997-04-28</td>\n",
       "      <td>Ohio State</td>\n",
       "      <td>CB</td>\n",
       "      <td>Denzel Ward</td>\n",
       "      <td>1997</td>\n",
       "      <td>21</td>\n",
       "      <td>3.031642</td>\n",
       "      <td>1.760222</td>\n",
       "      <td>0.305371</td>\n",
       "    </tr>\n",
       "    <tr>\n",
       "      <th>35</th>\n",
       "      <td>71</td>\n",
       "      <td>195</td>\n",
       "      <td>1989-04-14</td>\n",
       "      <td>Florida</td>\n",
       "      <td>CB</td>\n",
       "      <td>Joe Haden</td>\n",
       "      <td>1989</td>\n",
       "      <td>29</td>\n",
       "      <td>3.537409</td>\n",
       "      <td>1.869639</td>\n",
       "      <td>0.356526</td>\n",
       "    </tr>\n",
       "    <tr>\n",
       "      <th>41</th>\n",
       "      <td>72</td>\n",
       "      <td>204</td>\n",
       "      <td>1990-07-28</td>\n",
       "      <td>Ohio</td>\n",
       "      <td>CB</td>\n",
       "      <td>T.J. Carrie</td>\n",
       "      <td>1990</td>\n",
       "      <td>28</td>\n",
       "      <td>4.112812</td>\n",
       "      <td>1.489375</td>\n",
       "      <td>0.418984</td>\n",
       "    </tr>\n",
       "    <tr>\n",
       "      <th>44</th>\n",
       "      <td>72</td>\n",
       "      <td>196</td>\n",
       "      <td>1992-10-27</td>\n",
       "      <td>Houston</td>\n",
       "      <td>CB</td>\n",
       "      <td>William Jackson</td>\n",
       "      <td>1992</td>\n",
       "      <td>26</td>\n",
       "      <td>2.858990</td>\n",
       "      <td>1.749015</td>\n",
       "      <td>0.285553</td>\n",
       "    </tr>\n",
       "    <tr>\n",
       "      <th>71</th>\n",
       "      <td>73</td>\n",
       "      <td>202</td>\n",
       "      <td>1990-09-19</td>\n",
       "      <td>South Carolina</td>\n",
       "      <td>CB</td>\n",
       "      <td>Stephon Gilmore</td>\n",
       "      <td>1990</td>\n",
       "      <td>28</td>\n",
       "      <td>2.959513</td>\n",
       "      <td>1.701990</td>\n",
       "      <td>0.295969</td>\n",
       "    </tr>\n",
       "    <tr>\n",
       "      <th>79</th>\n",
       "      <td>72</td>\n",
       "      <td>192</td>\n",
       "      <td>1996-05-20</td>\n",
       "      <td>Ohio State</td>\n",
       "      <td>CB</td>\n",
       "      <td>Marshon Lattimore</td>\n",
       "      <td>1996</td>\n",
       "      <td>22</td>\n",
       "      <td>3.386610</td>\n",
       "      <td>1.954191</td>\n",
       "      <td>0.338491</td>\n",
       "    </tr>\n",
       "    <tr>\n",
       "      <th>80</th>\n",
       "      <td>73</td>\n",
       "      <td>195</td>\n",
       "      <td>1996-09-08</td>\n",
       "      <td>Utah</td>\n",
       "      <td>FS</td>\n",
       "      <td>Marcus Williams</td>\n",
       "      <td>1996</td>\n",
       "      <td>22</td>\n",
       "      <td>3.324496</td>\n",
       "      <td>1.867023</td>\n",
       "      <td>0.330961</td>\n",
       "    </tr>\n",
       "    <tr>\n",
       "      <th>81</th>\n",
       "      <td>61</td>\n",
       "      <td>196</td>\n",
       "      <td>1991-03-24</td>\n",
       "      <td>North Dakota State</td>\n",
       "      <td>CB</td>\n",
       "      <td>Marcus Williams</td>\n",
       "      <td>1991</td>\n",
       "      <td>27</td>\n",
       "      <td>3.324496</td>\n",
       "      <td>1.867023</td>\n",
       "      <td>0.330961</td>\n",
       "    </tr>\n",
       "    <tr>\n",
       "      <th>88</th>\n",
       "      <td>70</td>\n",
       "      <td>190</td>\n",
       "      <td>1988-10-29</td>\n",
       "      <td>North Alabama</td>\n",
       "      <td>CB</td>\n",
       "      <td>Janoris Jenkins</td>\n",
       "      <td>1988</td>\n",
       "      <td>30</td>\n",
       "      <td>3.536302</td>\n",
       "      <td>1.815980</td>\n",
       "      <td>0.353035</td>\n",
       "    </tr>\n",
       "    <tr>\n",
       "      <th>90</th>\n",
       "      <td>73</td>\n",
       "      <td>203</td>\n",
       "      <td>1995-08-09</td>\n",
       "      <td>Ohio State</td>\n",
       "      <td>CB</td>\n",
       "      <td>Eli Apple</td>\n",
       "      <td>1995</td>\n",
       "      <td>23</td>\n",
       "      <td>3.411931</td>\n",
       "      <td>2.073059</td>\n",
       "      <td>0.339821</td>\n",
       "    </tr>\n",
       "    <tr>\n",
       "      <th>98</th>\n",
       "      <td>73</td>\n",
       "      <td>208</td>\n",
       "      <td>1994-10-24</td>\n",
       "      <td>Florida State</td>\n",
       "      <td>CB</td>\n",
       "      <td>Jalen Ramsey</td>\n",
       "      <td>1994</td>\n",
       "      <td>24</td>\n",
       "      <td>3.179109</td>\n",
       "      <td>1.779370</td>\n",
       "      <td>0.317867</td>\n",
       "    </tr>\n",
       "    <tr>\n",
       "      <th>115</th>\n",
       "      <td>73</td>\n",
       "      <td>212</td>\n",
       "      <td>1993-08-04</td>\n",
       "      <td>Samford</td>\n",
       "      <td>CB</td>\n",
       "      <td>James Bradberry</td>\n",
       "      <td>1993</td>\n",
       "      <td>25</td>\n",
       "      <td>2.879890</td>\n",
       "      <td>1.854871</td>\n",
       "      <td>0.288097</td>\n",
       "    </tr>\n",
       "    <tr>\n",
       "      <th>118</th>\n",
       "      <td>72</td>\n",
       "      <td>205</td>\n",
       "      <td>1992-09-26</td>\n",
       "      <td>Connecticut</td>\n",
       "      <td>CB</td>\n",
       "      <td>Byron Jones</td>\n",
       "      <td>1992</td>\n",
       "      <td>26</td>\n",
       "      <td>3.461520</td>\n",
       "      <td>1.988211</td>\n",
       "      <td>0.346633</td>\n",
       "    </tr>\n",
       "    <tr>\n",
       "      <th>124</th>\n",
       "      <td>71</td>\n",
       "      <td>194</td>\n",
       "      <td>1992-02-16</td>\n",
       "      <td>Virginia Tech</td>\n",
       "      <td>CB</td>\n",
       "      <td>Kyle Fuller</td>\n",
       "      <td>1992</td>\n",
       "      <td>26</td>\n",
       "      <td>3.693813</td>\n",
       "      <td>1.853652</td>\n",
       "      <td>0.371101</td>\n",
       "    </tr>\n",
       "    <tr>\n",
       "      <th>134</th>\n",
       "      <td>70</td>\n",
       "      <td>196</td>\n",
       "      <td>1997-02-09</td>\n",
       "      <td>Louisville</td>\n",
       "      <td>CB</td>\n",
       "      <td>Jaire Alexander</td>\n",
       "      <td>1997</td>\n",
       "      <td>21</td>\n",
       "      <td>2.877879</td>\n",
       "      <td>1.766971</td>\n",
       "      <td>0.288792</td>\n",
       "    </tr>\n",
       "  </tbody>\n",
       "</table>\n",
       "</div>"
      ],
      "text/plain": [
       "     height  weight   birthDate         collegeName position  \\\n",
       "5        71     190  1993-06-05     San Diego State       SS   \n",
       "8        71     193  1994-01-02       Florida State       CB   \n",
       "15       61     195  1985-01-04                Utah       FS   \n",
       "18       72     197  1996-07-08             Alabama       CB   \n",
       "30       71     196  1992-08-29       Arizona State       CB   \n",
       "33       71     191  1997-04-28          Ohio State       CB   \n",
       "35       71     195  1989-04-14             Florida       CB   \n",
       "41       72     204  1990-07-28                Ohio       CB   \n",
       "44       72     196  1992-10-27             Houston       CB   \n",
       "71       73     202  1990-09-19      South Carolina       CB   \n",
       "79       72     192  1996-05-20          Ohio State       CB   \n",
       "80       73     195  1996-09-08                Utah       FS   \n",
       "81       61     196  1991-03-24  North Dakota State       CB   \n",
       "88       70     190  1988-10-29       North Alabama       CB   \n",
       "90       73     203  1995-08-09          Ohio State       CB   \n",
       "98       73     208  1994-10-24       Florida State       CB   \n",
       "115      73     212  1993-08-04             Samford       CB   \n",
       "118      72     205  1992-09-26         Connecticut       CB   \n",
       "124      71     194  1992-02-16       Virginia Tech       CB   \n",
       "134      70     196  1997-02-09          Louisville       CB   \n",
       "\n",
       "           displayName  birthYear  age         s         a       dis  \n",
       "5       Damontae Kazee       1993   25  3.275455  1.990361  0.326753  \n",
       "8         Ronald Darby       1994   24  2.784252  1.786972  0.277529  \n",
       "15         Eric Weddle       1985   33  3.328082  1.974099  0.331907  \n",
       "18     Marlon Humphrey       1996   22  3.247617  1.920805  0.324011  \n",
       "30   Damarious Randall       1992   26  3.133252  1.850416  0.316005  \n",
       "33         Denzel Ward       1997   21  3.031642  1.760222  0.305371  \n",
       "35           Joe Haden       1989   29  3.537409  1.869639  0.356526  \n",
       "41         T.J. Carrie       1990   28  4.112812  1.489375  0.418984  \n",
       "44     William Jackson       1992   26  2.858990  1.749015  0.285553  \n",
       "71     Stephon Gilmore       1990   28  2.959513  1.701990  0.295969  \n",
       "79   Marshon Lattimore       1996   22  3.386610  1.954191  0.338491  \n",
       "80     Marcus Williams       1996   22  3.324496  1.867023  0.330961  \n",
       "81     Marcus Williams       1991   27  3.324496  1.867023  0.330961  \n",
       "88     Janoris Jenkins       1988   30  3.536302  1.815980  0.353035  \n",
       "90           Eli Apple       1995   23  3.411931  2.073059  0.339821  \n",
       "98        Jalen Ramsey       1994   24  3.179109  1.779370  0.317867  \n",
       "115    James Bradberry       1993   25  2.879890  1.854871  0.288097  \n",
       "118        Byron Jones       1992   26  3.461520  1.988211  0.346633  \n",
       "124        Kyle Fuller       1992   26  3.693813  1.853652  0.371101  \n",
       "134    Jaire Alexander       1997   21  2.877879  1.766971  0.288792  "
      ]
     },
     "execution_count": 66,
     "metadata": {},
     "output_type": "execute_result"
    }
   ],
   "source": [
    "#filtering in top 26 coverage players based on incompletion rate\n",
    "top_20_inc = [\"James Bradberry\",\"Joe Haden\",\"Byron Jones\",\"Lavonte David\",\"Damarious Randall\",\"Eli Apple\",\"Ronald Darby\",\"Sean David\",\"Denzel Ward\",\"Jalen Ramsey\",\"Jaire Alexander\",\"Marshon Lattimore\",\"Kyle Fuller\",\"Orlando Scandrick\",\"Janoris Jenkins\",\"Stephon Gilmore\",\"Chris Harris\",\"Jimmy Smith\",\"William Jackson\",\"P.J. Williams\",\"T.J. Carrie\",\"Marcus Williams\",\"Minkah Fitzpatrick\",\"Damontae Kazee\",\"Eric Weddle\",\"Marlon Humphrey\"]\n",
    "df2.loc[df2['displayName'].isin(top_20_inc)]\n",
    "df_top = df2.loc[df2['displayName'].isin(top_20_inc)]\n",
    "df_top"
   ]
  },
  {
   "cell_type": "code",
   "execution_count": 67,
   "metadata": {
    "execution": {
     "iopub.execute_input": "2020-12-13T23:45:23.437017Z",
     "iopub.status.busy": "2020-12-13T23:45:23.436408Z",
     "iopub.status.idle": "2020-12-13T23:45:23.460444Z",
     "shell.execute_reply": "2020-12-13T23:45:23.461111Z"
    },
    "papermill": {
     "duration": 0.137648,
     "end_time": "2020-12-13T23:45:23.461281",
     "exception": false,
     "start_time": "2020-12-13T23:45:23.323633",
     "status": "completed"
    },
    "tags": []
   },
   "outputs": [
    {
     "data": {
      "text/html": [
       "<div>\n",
       "<style scoped>\n",
       "    .dataframe tbody tr th:only-of-type {\n",
       "        vertical-align: middle;\n",
       "    }\n",
       "\n",
       "    .dataframe tbody tr th {\n",
       "        vertical-align: top;\n",
       "    }\n",
       "\n",
       "    .dataframe thead th {\n",
       "        text-align: right;\n",
       "    }\n",
       "</style>\n",
       "<table border=\"1\" class=\"dataframe\">\n",
       "  <thead>\n",
       "    <tr style=\"text-align: right;\">\n",
       "      <th></th>\n",
       "      <th>height</th>\n",
       "      <th>weight</th>\n",
       "      <th>birthYear</th>\n",
       "      <th>age</th>\n",
       "      <th>s</th>\n",
       "      <th>a</th>\n",
       "      <th>dis</th>\n",
       "    </tr>\n",
       "    <tr>\n",
       "      <th>displayName</th>\n",
       "      <th></th>\n",
       "      <th></th>\n",
       "      <th></th>\n",
       "      <th></th>\n",
       "      <th></th>\n",
       "      <th></th>\n",
       "      <th></th>\n",
       "    </tr>\n",
       "  </thead>\n",
       "  <tbody>\n",
       "    <tr>\n",
       "      <th>Byron Jones</th>\n",
       "      <td>72.0</td>\n",
       "      <td>205.0</td>\n",
       "      <td>1992.0</td>\n",
       "      <td>26.0</td>\n",
       "      <td>3.461520</td>\n",
       "      <td>1.988211</td>\n",
       "      <td>0.346633</td>\n",
       "    </tr>\n",
       "    <tr>\n",
       "      <th>Damarious Randall</th>\n",
       "      <td>71.0</td>\n",
       "      <td>196.0</td>\n",
       "      <td>1992.0</td>\n",
       "      <td>26.0</td>\n",
       "      <td>3.133252</td>\n",
       "      <td>1.850416</td>\n",
       "      <td>0.316005</td>\n",
       "    </tr>\n",
       "    <tr>\n",
       "      <th>Damontae Kazee</th>\n",
       "      <td>71.0</td>\n",
       "      <td>190.0</td>\n",
       "      <td>1993.0</td>\n",
       "      <td>25.0</td>\n",
       "      <td>3.275455</td>\n",
       "      <td>1.990361</td>\n",
       "      <td>0.326753</td>\n",
       "    </tr>\n",
       "    <tr>\n",
       "      <th>Denzel Ward</th>\n",
       "      <td>71.0</td>\n",
       "      <td>191.0</td>\n",
       "      <td>1997.0</td>\n",
       "      <td>21.0</td>\n",
       "      <td>3.031642</td>\n",
       "      <td>1.760222</td>\n",
       "      <td>0.305371</td>\n",
       "    </tr>\n",
       "    <tr>\n",
       "      <th>Eli Apple</th>\n",
       "      <td>73.0</td>\n",
       "      <td>203.0</td>\n",
       "      <td>1995.0</td>\n",
       "      <td>23.0</td>\n",
       "      <td>3.411931</td>\n",
       "      <td>2.073059</td>\n",
       "      <td>0.339821</td>\n",
       "    </tr>\n",
       "    <tr>\n",
       "      <th>Eric Weddle</th>\n",
       "      <td>61.0</td>\n",
       "      <td>195.0</td>\n",
       "      <td>1985.0</td>\n",
       "      <td>33.0</td>\n",
       "      <td>3.328082</td>\n",
       "      <td>1.974099</td>\n",
       "      <td>0.331907</td>\n",
       "    </tr>\n",
       "    <tr>\n",
       "      <th>Jaire Alexander</th>\n",
       "      <td>70.0</td>\n",
       "      <td>196.0</td>\n",
       "      <td>1997.0</td>\n",
       "      <td>21.0</td>\n",
       "      <td>2.877879</td>\n",
       "      <td>1.766971</td>\n",
       "      <td>0.288792</td>\n",
       "    </tr>\n",
       "    <tr>\n",
       "      <th>Jalen Ramsey</th>\n",
       "      <td>73.0</td>\n",
       "      <td>208.0</td>\n",
       "      <td>1994.0</td>\n",
       "      <td>24.0</td>\n",
       "      <td>3.179109</td>\n",
       "      <td>1.779370</td>\n",
       "      <td>0.317867</td>\n",
       "    </tr>\n",
       "    <tr>\n",
       "      <th>James Bradberry</th>\n",
       "      <td>73.0</td>\n",
       "      <td>212.0</td>\n",
       "      <td>1993.0</td>\n",
       "      <td>25.0</td>\n",
       "      <td>2.879890</td>\n",
       "      <td>1.854871</td>\n",
       "      <td>0.288097</td>\n",
       "    </tr>\n",
       "    <tr>\n",
       "      <th>Janoris Jenkins</th>\n",
       "      <td>70.0</td>\n",
       "      <td>190.0</td>\n",
       "      <td>1988.0</td>\n",
       "      <td>30.0</td>\n",
       "      <td>3.536302</td>\n",
       "      <td>1.815980</td>\n",
       "      <td>0.353035</td>\n",
       "    </tr>\n",
       "    <tr>\n",
       "      <th>Joe Haden</th>\n",
       "      <td>71.0</td>\n",
       "      <td>195.0</td>\n",
       "      <td>1989.0</td>\n",
       "      <td>29.0</td>\n",
       "      <td>3.537409</td>\n",
       "      <td>1.869639</td>\n",
       "      <td>0.356526</td>\n",
       "    </tr>\n",
       "    <tr>\n",
       "      <th>Kyle Fuller</th>\n",
       "      <td>71.0</td>\n",
       "      <td>194.0</td>\n",
       "      <td>1992.0</td>\n",
       "      <td>26.0</td>\n",
       "      <td>3.693813</td>\n",
       "      <td>1.853652</td>\n",
       "      <td>0.371101</td>\n",
       "    </tr>\n",
       "    <tr>\n",
       "      <th>Marcus Williams</th>\n",
       "      <td>67.0</td>\n",
       "      <td>195.5</td>\n",
       "      <td>1993.5</td>\n",
       "      <td>24.5</td>\n",
       "      <td>3.324496</td>\n",
       "      <td>1.867023</td>\n",
       "      <td>0.330961</td>\n",
       "    </tr>\n",
       "    <tr>\n",
       "      <th>Marlon Humphrey</th>\n",
       "      <td>72.0</td>\n",
       "      <td>197.0</td>\n",
       "      <td>1996.0</td>\n",
       "      <td>22.0</td>\n",
       "      <td>3.247617</td>\n",
       "      <td>1.920805</td>\n",
       "      <td>0.324011</td>\n",
       "    </tr>\n",
       "    <tr>\n",
       "      <th>Marshon Lattimore</th>\n",
       "      <td>72.0</td>\n",
       "      <td>192.0</td>\n",
       "      <td>1996.0</td>\n",
       "      <td>22.0</td>\n",
       "      <td>3.386610</td>\n",
       "      <td>1.954191</td>\n",
       "      <td>0.338491</td>\n",
       "    </tr>\n",
       "    <tr>\n",
       "      <th>Ronald Darby</th>\n",
       "      <td>71.0</td>\n",
       "      <td>193.0</td>\n",
       "      <td>1994.0</td>\n",
       "      <td>24.0</td>\n",
       "      <td>2.784252</td>\n",
       "      <td>1.786972</td>\n",
       "      <td>0.277529</td>\n",
       "    </tr>\n",
       "    <tr>\n",
       "      <th>Stephon Gilmore</th>\n",
       "      <td>73.0</td>\n",
       "      <td>202.0</td>\n",
       "      <td>1990.0</td>\n",
       "      <td>28.0</td>\n",
       "      <td>2.959513</td>\n",
       "      <td>1.701990</td>\n",
       "      <td>0.295969</td>\n",
       "    </tr>\n",
       "    <tr>\n",
       "      <th>T.J. Carrie</th>\n",
       "      <td>72.0</td>\n",
       "      <td>204.0</td>\n",
       "      <td>1990.0</td>\n",
       "      <td>28.0</td>\n",
       "      <td>4.112812</td>\n",
       "      <td>1.489375</td>\n",
       "      <td>0.418984</td>\n",
       "    </tr>\n",
       "    <tr>\n",
       "      <th>William Jackson</th>\n",
       "      <td>72.0</td>\n",
       "      <td>196.0</td>\n",
       "      <td>1992.0</td>\n",
       "      <td>26.0</td>\n",
       "      <td>2.858990</td>\n",
       "      <td>1.749015</td>\n",
       "      <td>0.285553</td>\n",
       "    </tr>\n",
       "  </tbody>\n",
       "</table>\n",
       "</div>"
      ],
      "text/plain": [
       "                   height  weight  birthYear   age         s         a  \\\n",
       "displayName                                                              \n",
       "Byron Jones          72.0   205.0     1992.0  26.0  3.461520  1.988211   \n",
       "Damarious Randall    71.0   196.0     1992.0  26.0  3.133252  1.850416   \n",
       "Damontae Kazee       71.0   190.0     1993.0  25.0  3.275455  1.990361   \n",
       "Denzel Ward          71.0   191.0     1997.0  21.0  3.031642  1.760222   \n",
       "Eli Apple            73.0   203.0     1995.0  23.0  3.411931  2.073059   \n",
       "Eric Weddle          61.0   195.0     1985.0  33.0  3.328082  1.974099   \n",
       "Jaire Alexander      70.0   196.0     1997.0  21.0  2.877879  1.766971   \n",
       "Jalen Ramsey         73.0   208.0     1994.0  24.0  3.179109  1.779370   \n",
       "James Bradberry      73.0   212.0     1993.0  25.0  2.879890  1.854871   \n",
       "Janoris Jenkins      70.0   190.0     1988.0  30.0  3.536302  1.815980   \n",
       "Joe Haden            71.0   195.0     1989.0  29.0  3.537409  1.869639   \n",
       "Kyle Fuller          71.0   194.0     1992.0  26.0  3.693813  1.853652   \n",
       "Marcus Williams      67.0   195.5     1993.5  24.5  3.324496  1.867023   \n",
       "Marlon Humphrey      72.0   197.0     1996.0  22.0  3.247617  1.920805   \n",
       "Marshon Lattimore    72.0   192.0     1996.0  22.0  3.386610  1.954191   \n",
       "Ronald Darby         71.0   193.0     1994.0  24.0  2.784252  1.786972   \n",
       "Stephon Gilmore      73.0   202.0     1990.0  28.0  2.959513  1.701990   \n",
       "T.J. Carrie          72.0   204.0     1990.0  28.0  4.112812  1.489375   \n",
       "William Jackson      72.0   196.0     1992.0  26.0  2.858990  1.749015   \n",
       "\n",
       "                        dis  \n",
       "displayName                  \n",
       "Byron Jones        0.346633  \n",
       "Damarious Randall  0.316005  \n",
       "Damontae Kazee     0.326753  \n",
       "Denzel Ward        0.305371  \n",
       "Eli Apple          0.339821  \n",
       "Eric Weddle        0.331907  \n",
       "Jaire Alexander    0.288792  \n",
       "Jalen Ramsey       0.317867  \n",
       "James Bradberry    0.288097  \n",
       "Janoris Jenkins    0.353035  \n",
       "Joe Haden          0.356526  \n",
       "Kyle Fuller        0.371101  \n",
       "Marcus Williams    0.330961  \n",
       "Marlon Humphrey    0.324011  \n",
       "Marshon Lattimore  0.338491  \n",
       "Ronald Darby       0.277529  \n",
       "Stephon Gilmore    0.295969  \n",
       "T.J. Carrie        0.418984  \n",
       "William Jackson    0.285553  "
      ]
     },
     "execution_count": 67,
     "metadata": {},
     "output_type": "execute_result"
    }
   ],
   "source": [
    "#average speed and acceleration\n",
    "df_top.groupby('displayName').mean('s')\n",
    "df3 = df_top.groupby('displayName').mean('s')\n",
    "df3"
   ]
  },
  {
   "cell_type": "code",
   "execution_count": 68,
   "metadata": {
    "execution": {
     "iopub.execute_input": "2020-12-13T23:45:23.688551Z",
     "iopub.status.busy": "2020-12-13T23:45:23.687839Z",
     "iopub.status.idle": "2020-12-13T23:45:23.720839Z",
     "shell.execute_reply": "2020-12-13T23:45:23.720333Z"
    },
    "papermill": {
     "duration": 0.148127,
     "end_time": "2020-12-13T23:45:23.720951",
     "exception": false,
     "start_time": "2020-12-13T23:45:23.572824",
     "status": "completed"
    },
    "tags": []
   },
   "outputs": [
    {
     "data": {
      "text/html": [
       "<div>\n",
       "<style scoped>\n",
       "    .dataframe tbody tr th:only-of-type {\n",
       "        vertical-align: middle;\n",
       "    }\n",
       "\n",
       "    .dataframe tbody tr th {\n",
       "        vertical-align: top;\n",
       "    }\n",
       "\n",
       "    .dataframe thead th {\n",
       "        text-align: right;\n",
       "    }\n",
       "</style>\n",
       "<table border=\"1\" class=\"dataframe\">\n",
       "  <thead>\n",
       "    <tr style=\"text-align: right;\">\n",
       "      <th></th>\n",
       "      <th>height</th>\n",
       "      <th>weight</th>\n",
       "      <th>birthDate</th>\n",
       "      <th>collegeName</th>\n",
       "      <th>position</th>\n",
       "      <th>displayName</th>\n",
       "      <th>birthYear</th>\n",
       "      <th>age</th>\n",
       "    </tr>\n",
       "  </thead>\n",
       "  <tbody>\n",
       "    <tr>\n",
       "      <th>0</th>\n",
       "      <td>72</td>\n",
       "      <td>190</td>\n",
       "      <td>1990-09-10</td>\n",
       "      <td>Washington</td>\n",
       "      <td>CB</td>\n",
       "      <td>Desmond Trufant</td>\n",
       "      <td>1990</td>\n",
       "      <td>28</td>\n",
       "    </tr>\n",
       "    <tr>\n",
       "      <th>1</th>\n",
       "      <td>70</td>\n",
       "      <td>186</td>\n",
       "      <td>1988-11-01</td>\n",
       "      <td>Southeastern Louisiana</td>\n",
       "      <td>CB</td>\n",
       "      <td>Robert Alford</td>\n",
       "      <td>1988</td>\n",
       "      <td>30</td>\n",
       "    </tr>\n",
       "    <tr>\n",
       "      <th>2</th>\n",
       "      <td>69</td>\n",
       "      <td>186</td>\n",
       "      <td>1991-12-18</td>\n",
       "      <td>Purdue</td>\n",
       "      <td>SS</td>\n",
       "      <td>Ricardo Allen</td>\n",
       "      <td>1991</td>\n",
       "      <td>27</td>\n",
       "    </tr>\n",
       "    <tr>\n",
       "      <th>5</th>\n",
       "      <td>73</td>\n",
       "      <td>216</td>\n",
       "      <td>1995-07-26</td>\n",
       "      <td>Florida</td>\n",
       "      <td>FS</td>\n",
       "      <td>Keanu Neal</td>\n",
       "      <td>1995</td>\n",
       "      <td>23</td>\n",
       "    </tr>\n",
       "    <tr>\n",
       "      <th>6</th>\n",
       "      <td>70</td>\n",
       "      <td>211</td>\n",
       "      <td>1992-10-20</td>\n",
       "      <td>Florida</td>\n",
       "      <td>CB</td>\n",
       "      <td>Brian Poole</td>\n",
       "      <td>1992</td>\n",
       "      <td>26</td>\n",
       "    </tr>\n",
       "    <tr>\n",
       "      <th>...</th>\n",
       "      <td>...</td>\n",
       "      <td>...</td>\n",
       "      <td>...</td>\n",
       "      <td>...</td>\n",
       "      <td>...</td>\n",
       "      <td>...</td>\n",
       "      <td>...</td>\n",
       "      <td>...</td>\n",
       "    </tr>\n",
       "    <tr>\n",
       "      <th>1250</th>\n",
       "      <td>74</td>\n",
       "      <td>203</td>\n",
       "      <td>1989-06-06</td>\n",
       "      <td>Texas Tech</td>\n",
       "      <td>FS</td>\n",
       "      <td>Cody Davis</td>\n",
       "      <td>1989</td>\n",
       "      <td>29</td>\n",
       "    </tr>\n",
       "    <tr>\n",
       "      <th>1276</th>\n",
       "      <td>70</td>\n",
       "      <td>195</td>\n",
       "      <td>1994-08-08</td>\n",
       "      <td>Utah State</td>\n",
       "      <td>DB</td>\n",
       "      <td>Dallin Leavitt</td>\n",
       "      <td>1994</td>\n",
       "      <td>24</td>\n",
       "    </tr>\n",
       "    <tr>\n",
       "      <th>1278</th>\n",
       "      <td>74</td>\n",
       "      <td>188</td>\n",
       "      <td>1994-12-04</td>\n",
       "      <td>Mississippi</td>\n",
       "      <td>CB</td>\n",
       "      <td>Derrick Jones</td>\n",
       "      <td>1994</td>\n",
       "      <td>24</td>\n",
       "    </tr>\n",
       "    <tr>\n",
       "      <th>1295</th>\n",
       "      <td>71</td>\n",
       "      <td>205</td>\n",
       "      <td>1996-08-29</td>\n",
       "      <td>South Alabama</td>\n",
       "      <td>DB</td>\n",
       "      <td>Jeremy Reaves</td>\n",
       "      <td>1996</td>\n",
       "      <td>22</td>\n",
       "    </tr>\n",
       "    <tr>\n",
       "      <th>1301</th>\n",
       "      <td>69</td>\n",
       "      <td>187</td>\n",
       "      <td>1993-03-15</td>\n",
       "      <td>Alabama-Birmingham</td>\n",
       "      <td>CB</td>\n",
       "      <td>Darious Williams</td>\n",
       "      <td>1993</td>\n",
       "      <td>25</td>\n",
       "    </tr>\n",
       "  </tbody>\n",
       "</table>\n",
       "<p>351 rows × 8 columns</p>\n",
       "</div>"
      ],
      "text/plain": [
       "      height  weight   birthDate             collegeName position  \\\n",
       "0         72     190  1990-09-10              Washington       CB   \n",
       "1         70     186  1988-11-01  Southeastern Louisiana       CB   \n",
       "2         69     186  1991-12-18                  Purdue       SS   \n",
       "5         73     216  1995-07-26                 Florida       FS   \n",
       "6         70     211  1992-10-20                 Florida       CB   \n",
       "...      ...     ...         ...                     ...      ...   \n",
       "1250      74     203  1989-06-06              Texas Tech       FS   \n",
       "1276      70     195  1994-08-08              Utah State       DB   \n",
       "1278      74     188  1994-12-04             Mississippi       CB   \n",
       "1295      71     205  1996-08-29           South Alabama       DB   \n",
       "1301      69     187  1993-03-15      Alabama-Birmingham       CB   \n",
       "\n",
       "           displayName  birthYear  age  \n",
       "0      Desmond Trufant       1990   28  \n",
       "1        Robert Alford       1988   30  \n",
       "2        Ricardo Allen       1991   27  \n",
       "5           Keanu Neal       1995   23  \n",
       "6          Brian Poole       1992   26  \n",
       "...                ...        ...  ...  \n",
       "1250        Cody Davis       1989   29  \n",
       "1276    Dallin Leavitt       1994   24  \n",
       "1278     Derrick Jones       1994   24  \n",
       "1295     Jeremy Reaves       1996   22  \n",
       "1301  Darious Williams       1993   25  \n",
       "\n",
       "[351 rows x 8 columns]"
      ]
     },
     "metadata": {},
     "output_type": "display_data"
    },
    {
     "data": {
      "text/html": [
       "<div>\n",
       "<style scoped>\n",
       "    .dataframe tbody tr th:only-of-type {\n",
       "        vertical-align: middle;\n",
       "    }\n",
       "\n",
       "    .dataframe tbody tr th {\n",
       "        vertical-align: top;\n",
       "    }\n",
       "\n",
       "    .dataframe thead th {\n",
       "        text-align: right;\n",
       "    }\n",
       "</style>\n",
       "<table border=\"1\" class=\"dataframe\">\n",
       "  <thead>\n",
       "    <tr style=\"text-align: right;\">\n",
       "      <th></th>\n",
       "      <th>height</th>\n",
       "      <th>weight</th>\n",
       "      <th>birthYear</th>\n",
       "      <th>age</th>\n",
       "      <th>s</th>\n",
       "      <th>a</th>\n",
       "      <th>dis</th>\n",
       "    </tr>\n",
       "    <tr>\n",
       "      <th>displayName</th>\n",
       "      <th></th>\n",
       "      <th></th>\n",
       "      <th></th>\n",
       "      <th></th>\n",
       "      <th></th>\n",
       "      <th></th>\n",
       "      <th></th>\n",
       "    </tr>\n",
       "  </thead>\n",
       "  <tbody>\n",
       "    <tr>\n",
       "      <th>Byron Jones</th>\n",
       "      <td>72.0</td>\n",
       "      <td>205.0</td>\n",
       "      <td>1992.0</td>\n",
       "      <td>26.0</td>\n",
       "      <td>3.461520</td>\n",
       "      <td>1.988211</td>\n",
       "      <td>0.346633</td>\n",
       "    </tr>\n",
       "    <tr>\n",
       "      <th>Damarious Randall</th>\n",
       "      <td>71.0</td>\n",
       "      <td>196.0</td>\n",
       "      <td>1992.0</td>\n",
       "      <td>26.0</td>\n",
       "      <td>3.133252</td>\n",
       "      <td>1.850416</td>\n",
       "      <td>0.316005</td>\n",
       "    </tr>\n",
       "    <tr>\n",
       "      <th>Damontae Kazee</th>\n",
       "      <td>71.0</td>\n",
       "      <td>190.0</td>\n",
       "      <td>1993.0</td>\n",
       "      <td>25.0</td>\n",
       "      <td>3.275455</td>\n",
       "      <td>1.990361</td>\n",
       "      <td>0.326753</td>\n",
       "    </tr>\n",
       "    <tr>\n",
       "      <th>Denzel Ward</th>\n",
       "      <td>71.0</td>\n",
       "      <td>191.0</td>\n",
       "      <td>1997.0</td>\n",
       "      <td>21.0</td>\n",
       "      <td>3.031642</td>\n",
       "      <td>1.760222</td>\n",
       "      <td>0.305371</td>\n",
       "    </tr>\n",
       "    <tr>\n",
       "      <th>Eli Apple</th>\n",
       "      <td>73.0</td>\n",
       "      <td>203.0</td>\n",
       "      <td>1995.0</td>\n",
       "      <td>23.0</td>\n",
       "      <td>3.411931</td>\n",
       "      <td>2.073059</td>\n",
       "      <td>0.339821</td>\n",
       "    </tr>\n",
       "    <tr>\n",
       "      <th>Eric Weddle</th>\n",
       "      <td>61.0</td>\n",
       "      <td>195.0</td>\n",
       "      <td>1985.0</td>\n",
       "      <td>33.0</td>\n",
       "      <td>3.328082</td>\n",
       "      <td>1.974099</td>\n",
       "      <td>0.331907</td>\n",
       "    </tr>\n",
       "    <tr>\n",
       "      <th>Jaire Alexander</th>\n",
       "      <td>70.0</td>\n",
       "      <td>196.0</td>\n",
       "      <td>1997.0</td>\n",
       "      <td>21.0</td>\n",
       "      <td>2.877879</td>\n",
       "      <td>1.766971</td>\n",
       "      <td>0.288792</td>\n",
       "    </tr>\n",
       "    <tr>\n",
       "      <th>Jalen Ramsey</th>\n",
       "      <td>73.0</td>\n",
       "      <td>208.0</td>\n",
       "      <td>1994.0</td>\n",
       "      <td>24.0</td>\n",
       "      <td>3.179109</td>\n",
       "      <td>1.779370</td>\n",
       "      <td>0.317867</td>\n",
       "    </tr>\n",
       "    <tr>\n",
       "      <th>James Bradberry</th>\n",
       "      <td>73.0</td>\n",
       "      <td>212.0</td>\n",
       "      <td>1993.0</td>\n",
       "      <td>25.0</td>\n",
       "      <td>2.879890</td>\n",
       "      <td>1.854871</td>\n",
       "      <td>0.288097</td>\n",
       "    </tr>\n",
       "    <tr>\n",
       "      <th>Janoris Jenkins</th>\n",
       "      <td>70.0</td>\n",
       "      <td>190.0</td>\n",
       "      <td>1988.0</td>\n",
       "      <td>30.0</td>\n",
       "      <td>3.536302</td>\n",
       "      <td>1.815980</td>\n",
       "      <td>0.353035</td>\n",
       "    </tr>\n",
       "    <tr>\n",
       "      <th>Joe Haden</th>\n",
       "      <td>71.0</td>\n",
       "      <td>195.0</td>\n",
       "      <td>1989.0</td>\n",
       "      <td>29.0</td>\n",
       "      <td>3.537409</td>\n",
       "      <td>1.869639</td>\n",
       "      <td>0.356526</td>\n",
       "    </tr>\n",
       "    <tr>\n",
       "      <th>Kyle Fuller</th>\n",
       "      <td>71.0</td>\n",
       "      <td>194.0</td>\n",
       "      <td>1992.0</td>\n",
       "      <td>26.0</td>\n",
       "      <td>3.693813</td>\n",
       "      <td>1.853652</td>\n",
       "      <td>0.371101</td>\n",
       "    </tr>\n",
       "    <tr>\n",
       "      <th>Marcus Williams</th>\n",
       "      <td>67.0</td>\n",
       "      <td>195.5</td>\n",
       "      <td>1993.5</td>\n",
       "      <td>24.5</td>\n",
       "      <td>3.324496</td>\n",
       "      <td>1.867023</td>\n",
       "      <td>0.330961</td>\n",
       "    </tr>\n",
       "    <tr>\n",
       "      <th>Marlon Humphrey</th>\n",
       "      <td>72.0</td>\n",
       "      <td>197.0</td>\n",
       "      <td>1996.0</td>\n",
       "      <td>22.0</td>\n",
       "      <td>3.247617</td>\n",
       "      <td>1.920805</td>\n",
       "      <td>0.324011</td>\n",
       "    </tr>\n",
       "    <tr>\n",
       "      <th>Marshon Lattimore</th>\n",
       "      <td>72.0</td>\n",
       "      <td>192.0</td>\n",
       "      <td>1996.0</td>\n",
       "      <td>22.0</td>\n",
       "      <td>3.386610</td>\n",
       "      <td>1.954191</td>\n",
       "      <td>0.338491</td>\n",
       "    </tr>\n",
       "    <tr>\n",
       "      <th>Ronald Darby</th>\n",
       "      <td>71.0</td>\n",
       "      <td>193.0</td>\n",
       "      <td>1994.0</td>\n",
       "      <td>24.0</td>\n",
       "      <td>2.784252</td>\n",
       "      <td>1.786972</td>\n",
       "      <td>0.277529</td>\n",
       "    </tr>\n",
       "    <tr>\n",
       "      <th>Stephon Gilmore</th>\n",
       "      <td>73.0</td>\n",
       "      <td>202.0</td>\n",
       "      <td>1990.0</td>\n",
       "      <td>28.0</td>\n",
       "      <td>2.959513</td>\n",
       "      <td>1.701990</td>\n",
       "      <td>0.295969</td>\n",
       "    </tr>\n",
       "    <tr>\n",
       "      <th>T.J. Carrie</th>\n",
       "      <td>72.0</td>\n",
       "      <td>204.0</td>\n",
       "      <td>1990.0</td>\n",
       "      <td>28.0</td>\n",
       "      <td>4.112812</td>\n",
       "      <td>1.489375</td>\n",
       "      <td>0.418984</td>\n",
       "    </tr>\n",
       "    <tr>\n",
       "      <th>William Jackson</th>\n",
       "      <td>72.0</td>\n",
       "      <td>196.0</td>\n",
       "      <td>1992.0</td>\n",
       "      <td>26.0</td>\n",
       "      <td>2.858990</td>\n",
       "      <td>1.749015</td>\n",
       "      <td>0.285553</td>\n",
       "    </tr>\n",
       "  </tbody>\n",
       "</table>\n",
       "</div>"
      ],
      "text/plain": [
       "                   height  weight  birthYear   age         s         a  \\\n",
       "displayName                                                              \n",
       "Byron Jones          72.0   205.0     1992.0  26.0  3.461520  1.988211   \n",
       "Damarious Randall    71.0   196.0     1992.0  26.0  3.133252  1.850416   \n",
       "Damontae Kazee       71.0   190.0     1993.0  25.0  3.275455  1.990361   \n",
       "Denzel Ward          71.0   191.0     1997.0  21.0  3.031642  1.760222   \n",
       "Eli Apple            73.0   203.0     1995.0  23.0  3.411931  2.073059   \n",
       "Eric Weddle          61.0   195.0     1985.0  33.0  3.328082  1.974099   \n",
       "Jaire Alexander      70.0   196.0     1997.0  21.0  2.877879  1.766971   \n",
       "Jalen Ramsey         73.0   208.0     1994.0  24.0  3.179109  1.779370   \n",
       "James Bradberry      73.0   212.0     1993.0  25.0  2.879890  1.854871   \n",
       "Janoris Jenkins      70.0   190.0     1988.0  30.0  3.536302  1.815980   \n",
       "Joe Haden            71.0   195.0     1989.0  29.0  3.537409  1.869639   \n",
       "Kyle Fuller          71.0   194.0     1992.0  26.0  3.693813  1.853652   \n",
       "Marcus Williams      67.0   195.5     1993.5  24.5  3.324496  1.867023   \n",
       "Marlon Humphrey      72.0   197.0     1996.0  22.0  3.247617  1.920805   \n",
       "Marshon Lattimore    72.0   192.0     1996.0  22.0  3.386610  1.954191   \n",
       "Ronald Darby         71.0   193.0     1994.0  24.0  2.784252  1.786972   \n",
       "Stephon Gilmore      73.0   202.0     1990.0  28.0  2.959513  1.701990   \n",
       "T.J. Carrie          72.0   204.0     1990.0  28.0  4.112812  1.489375   \n",
       "William Jackson      72.0   196.0     1992.0  26.0  2.858990  1.749015   \n",
       "\n",
       "                        dis  \n",
       "displayName                  \n",
       "Byron Jones        0.346633  \n",
       "Damarious Randall  0.316005  \n",
       "Damontae Kazee     0.326753  \n",
       "Denzel Ward        0.305371  \n",
       "Eli Apple          0.339821  \n",
       "Eric Weddle        0.331907  \n",
       "Jaire Alexander    0.288792  \n",
       "Jalen Ramsey       0.317867  \n",
       "James Bradberry    0.288097  \n",
       "Janoris Jenkins    0.353035  \n",
       "Joe Haden          0.356526  \n",
       "Kyle Fuller        0.371101  \n",
       "Marcus Williams    0.330961  \n",
       "Marlon Humphrey    0.324011  \n",
       "Marshon Lattimore  0.338491  \n",
       "Ronald Darby       0.277529  \n",
       "Stephon Gilmore    0.295969  \n",
       "T.J. Carrie        0.418984  \n",
       "William Jackson    0.285553  "
      ]
     },
     "metadata": {},
     "output_type": "display_data"
    }
   ],
   "source": [
    "display(df,df3)"
   ]
  },
  {
   "cell_type": "code",
   "execution_count": 69,
   "metadata": {
    "execution": {
     "iopub.execute_input": "2020-12-13T23:45:23.969610Z",
     "iopub.status.busy": "2020-12-13T23:45:23.968670Z",
     "iopub.status.idle": "2020-12-13T23:45:23.972791Z",
     "shell.execute_reply": "2020-12-13T23:45:23.973307Z"
    },
    "papermill": {
     "duration": 0.139075,
     "end_time": "2020-12-13T23:45:23.973457",
     "exception": false,
     "start_time": "2020-12-13T23:45:23.834382",
     "status": "completed"
    },
    "tags": []
   },
   "outputs": [
    {
     "data": {
      "text/html": [
       "<div>\n",
       "<style scoped>\n",
       "    .dataframe tbody tr th:only-of-type {\n",
       "        vertical-align: middle;\n",
       "    }\n",
       "\n",
       "    .dataframe tbody tr th {\n",
       "        vertical-align: top;\n",
       "    }\n",
       "\n",
       "    .dataframe thead th {\n",
       "        text-align: right;\n",
       "    }\n",
       "</style>\n",
       "<table border=\"1\" class=\"dataframe\">\n",
       "  <thead>\n",
       "    <tr style=\"text-align: right;\">\n",
       "      <th></th>\n",
       "      <th>displayName</th>\n",
       "      <th>height</th>\n",
       "      <th>weight</th>\n",
       "      <th>birthYear</th>\n",
       "      <th>age</th>\n",
       "      <th>s</th>\n",
       "      <th>a</th>\n",
       "      <th>dis</th>\n",
       "    </tr>\n",
       "  </thead>\n",
       "  <tbody>\n",
       "    <tr>\n",
       "      <th>0</th>\n",
       "      <td>Byron Jones</td>\n",
       "      <td>72.0</td>\n",
       "      <td>205.0</td>\n",
       "      <td>1992.0</td>\n",
       "      <td>26.0</td>\n",
       "      <td>3.461520</td>\n",
       "      <td>1.988211</td>\n",
       "      <td>0.346633</td>\n",
       "    </tr>\n",
       "    <tr>\n",
       "      <th>1</th>\n",
       "      <td>Damarious Randall</td>\n",
       "      <td>71.0</td>\n",
       "      <td>196.0</td>\n",
       "      <td>1992.0</td>\n",
       "      <td>26.0</td>\n",
       "      <td>3.133252</td>\n",
       "      <td>1.850416</td>\n",
       "      <td>0.316005</td>\n",
       "    </tr>\n",
       "    <tr>\n",
       "      <th>2</th>\n",
       "      <td>Damontae Kazee</td>\n",
       "      <td>71.0</td>\n",
       "      <td>190.0</td>\n",
       "      <td>1993.0</td>\n",
       "      <td>25.0</td>\n",
       "      <td>3.275455</td>\n",
       "      <td>1.990361</td>\n",
       "      <td>0.326753</td>\n",
       "    </tr>\n",
       "    <tr>\n",
       "      <th>3</th>\n",
       "      <td>Denzel Ward</td>\n",
       "      <td>71.0</td>\n",
       "      <td>191.0</td>\n",
       "      <td>1997.0</td>\n",
       "      <td>21.0</td>\n",
       "      <td>3.031642</td>\n",
       "      <td>1.760222</td>\n",
       "      <td>0.305371</td>\n",
       "    </tr>\n",
       "    <tr>\n",
       "      <th>4</th>\n",
       "      <td>Eli Apple</td>\n",
       "      <td>73.0</td>\n",
       "      <td>203.0</td>\n",
       "      <td>1995.0</td>\n",
       "      <td>23.0</td>\n",
       "      <td>3.411931</td>\n",
       "      <td>2.073059</td>\n",
       "      <td>0.339821</td>\n",
       "    </tr>\n",
       "    <tr>\n",
       "      <th>5</th>\n",
       "      <td>Eric Weddle</td>\n",
       "      <td>61.0</td>\n",
       "      <td>195.0</td>\n",
       "      <td>1985.0</td>\n",
       "      <td>33.0</td>\n",
       "      <td>3.328082</td>\n",
       "      <td>1.974099</td>\n",
       "      <td>0.331907</td>\n",
       "    </tr>\n",
       "    <tr>\n",
       "      <th>6</th>\n",
       "      <td>Jaire Alexander</td>\n",
       "      <td>70.0</td>\n",
       "      <td>196.0</td>\n",
       "      <td>1997.0</td>\n",
       "      <td>21.0</td>\n",
       "      <td>2.877879</td>\n",
       "      <td>1.766971</td>\n",
       "      <td>0.288792</td>\n",
       "    </tr>\n",
       "    <tr>\n",
       "      <th>7</th>\n",
       "      <td>Jalen Ramsey</td>\n",
       "      <td>73.0</td>\n",
       "      <td>208.0</td>\n",
       "      <td>1994.0</td>\n",
       "      <td>24.0</td>\n",
       "      <td>3.179109</td>\n",
       "      <td>1.779370</td>\n",
       "      <td>0.317867</td>\n",
       "    </tr>\n",
       "    <tr>\n",
       "      <th>8</th>\n",
       "      <td>James Bradberry</td>\n",
       "      <td>73.0</td>\n",
       "      <td>212.0</td>\n",
       "      <td>1993.0</td>\n",
       "      <td>25.0</td>\n",
       "      <td>2.879890</td>\n",
       "      <td>1.854871</td>\n",
       "      <td>0.288097</td>\n",
       "    </tr>\n",
       "    <tr>\n",
       "      <th>9</th>\n",
       "      <td>Janoris Jenkins</td>\n",
       "      <td>70.0</td>\n",
       "      <td>190.0</td>\n",
       "      <td>1988.0</td>\n",
       "      <td>30.0</td>\n",
       "      <td>3.536302</td>\n",
       "      <td>1.815980</td>\n",
       "      <td>0.353035</td>\n",
       "    </tr>\n",
       "    <tr>\n",
       "      <th>10</th>\n",
       "      <td>Joe Haden</td>\n",
       "      <td>71.0</td>\n",
       "      <td>195.0</td>\n",
       "      <td>1989.0</td>\n",
       "      <td>29.0</td>\n",
       "      <td>3.537409</td>\n",
       "      <td>1.869639</td>\n",
       "      <td>0.356526</td>\n",
       "    </tr>\n",
       "    <tr>\n",
       "      <th>11</th>\n",
       "      <td>Kyle Fuller</td>\n",
       "      <td>71.0</td>\n",
       "      <td>194.0</td>\n",
       "      <td>1992.0</td>\n",
       "      <td>26.0</td>\n",
       "      <td>3.693813</td>\n",
       "      <td>1.853652</td>\n",
       "      <td>0.371101</td>\n",
       "    </tr>\n",
       "    <tr>\n",
       "      <th>12</th>\n",
       "      <td>Marcus Williams</td>\n",
       "      <td>67.0</td>\n",
       "      <td>195.5</td>\n",
       "      <td>1993.5</td>\n",
       "      <td>24.5</td>\n",
       "      <td>3.324496</td>\n",
       "      <td>1.867023</td>\n",
       "      <td>0.330961</td>\n",
       "    </tr>\n",
       "    <tr>\n",
       "      <th>13</th>\n",
       "      <td>Marlon Humphrey</td>\n",
       "      <td>72.0</td>\n",
       "      <td>197.0</td>\n",
       "      <td>1996.0</td>\n",
       "      <td>22.0</td>\n",
       "      <td>3.247617</td>\n",
       "      <td>1.920805</td>\n",
       "      <td>0.324011</td>\n",
       "    </tr>\n",
       "    <tr>\n",
       "      <th>14</th>\n",
       "      <td>Marshon Lattimore</td>\n",
       "      <td>72.0</td>\n",
       "      <td>192.0</td>\n",
       "      <td>1996.0</td>\n",
       "      <td>22.0</td>\n",
       "      <td>3.386610</td>\n",
       "      <td>1.954191</td>\n",
       "      <td>0.338491</td>\n",
       "    </tr>\n",
       "    <tr>\n",
       "      <th>15</th>\n",
       "      <td>Ronald Darby</td>\n",
       "      <td>71.0</td>\n",
       "      <td>193.0</td>\n",
       "      <td>1994.0</td>\n",
       "      <td>24.0</td>\n",
       "      <td>2.784252</td>\n",
       "      <td>1.786972</td>\n",
       "      <td>0.277529</td>\n",
       "    </tr>\n",
       "    <tr>\n",
       "      <th>16</th>\n",
       "      <td>Stephon Gilmore</td>\n",
       "      <td>73.0</td>\n",
       "      <td>202.0</td>\n",
       "      <td>1990.0</td>\n",
       "      <td>28.0</td>\n",
       "      <td>2.959513</td>\n",
       "      <td>1.701990</td>\n",
       "      <td>0.295969</td>\n",
       "    </tr>\n",
       "    <tr>\n",
       "      <th>17</th>\n",
       "      <td>T.J. Carrie</td>\n",
       "      <td>72.0</td>\n",
       "      <td>204.0</td>\n",
       "      <td>1990.0</td>\n",
       "      <td>28.0</td>\n",
       "      <td>4.112812</td>\n",
       "      <td>1.489375</td>\n",
       "      <td>0.418984</td>\n",
       "    </tr>\n",
       "    <tr>\n",
       "      <th>18</th>\n",
       "      <td>William Jackson</td>\n",
       "      <td>72.0</td>\n",
       "      <td>196.0</td>\n",
       "      <td>1992.0</td>\n",
       "      <td>26.0</td>\n",
       "      <td>2.858990</td>\n",
       "      <td>1.749015</td>\n",
       "      <td>0.285553</td>\n",
       "    </tr>\n",
       "  </tbody>\n",
       "</table>\n",
       "</div>"
      ],
      "text/plain": [
       "          displayName  height  weight  birthYear   age         s         a  \\\n",
       "0         Byron Jones    72.0   205.0     1992.0  26.0  3.461520  1.988211   \n",
       "1   Damarious Randall    71.0   196.0     1992.0  26.0  3.133252  1.850416   \n",
       "2      Damontae Kazee    71.0   190.0     1993.0  25.0  3.275455  1.990361   \n",
       "3         Denzel Ward    71.0   191.0     1997.0  21.0  3.031642  1.760222   \n",
       "4           Eli Apple    73.0   203.0     1995.0  23.0  3.411931  2.073059   \n",
       "5         Eric Weddle    61.0   195.0     1985.0  33.0  3.328082  1.974099   \n",
       "6     Jaire Alexander    70.0   196.0     1997.0  21.0  2.877879  1.766971   \n",
       "7        Jalen Ramsey    73.0   208.0     1994.0  24.0  3.179109  1.779370   \n",
       "8     James Bradberry    73.0   212.0     1993.0  25.0  2.879890  1.854871   \n",
       "9     Janoris Jenkins    70.0   190.0     1988.0  30.0  3.536302  1.815980   \n",
       "10          Joe Haden    71.0   195.0     1989.0  29.0  3.537409  1.869639   \n",
       "11        Kyle Fuller    71.0   194.0     1992.0  26.0  3.693813  1.853652   \n",
       "12    Marcus Williams    67.0   195.5     1993.5  24.5  3.324496  1.867023   \n",
       "13    Marlon Humphrey    72.0   197.0     1996.0  22.0  3.247617  1.920805   \n",
       "14  Marshon Lattimore    72.0   192.0     1996.0  22.0  3.386610  1.954191   \n",
       "15       Ronald Darby    71.0   193.0     1994.0  24.0  2.784252  1.786972   \n",
       "16    Stephon Gilmore    73.0   202.0     1990.0  28.0  2.959513  1.701990   \n",
       "17        T.J. Carrie    72.0   204.0     1990.0  28.0  4.112812  1.489375   \n",
       "18    William Jackson    72.0   196.0     1992.0  26.0  2.858990  1.749015   \n",
       "\n",
       "         dis  \n",
       "0   0.346633  \n",
       "1   0.316005  \n",
       "2   0.326753  \n",
       "3   0.305371  \n",
       "4   0.339821  \n",
       "5   0.331907  \n",
       "6   0.288792  \n",
       "7   0.317867  \n",
       "8   0.288097  \n",
       "9   0.353035  \n",
       "10  0.356526  \n",
       "11  0.371101  \n",
       "12  0.330961  \n",
       "13  0.324011  \n",
       "14  0.338491  \n",
       "15  0.277529  \n",
       "16  0.295969  \n",
       "17  0.418984  \n",
       "18  0.285553  "
      ]
     },
     "execution_count": 69,
     "metadata": {},
     "output_type": "execute_result"
    }
   ],
   "source": [
    "#Reset displayName back to column form\n",
    "df3.reset_index(inplace = True)\n",
    "df3"
   ]
  },
  {
   "cell_type": "code",
   "execution_count": 70,
   "metadata": {
    "execution": {
     "iopub.execute_input": "2020-12-13T23:45:24.208722Z",
     "iopub.status.busy": "2020-12-13T23:45:24.207979Z",
     "iopub.status.idle": "2020-12-13T23:45:24.237290Z",
     "shell.execute_reply": "2020-12-13T23:45:24.237805Z"
    },
    "papermill": {
     "duration": 0.149719,
     "end_time": "2020-12-13T23:45:24.237942",
     "exception": false,
     "start_time": "2020-12-13T23:45:24.088223",
     "status": "completed"
    },
    "tags": []
   },
   "outputs": [
    {
     "data": {
      "text/html": [
       "<div>\n",
       "<style scoped>\n",
       "    .dataframe tbody tr th:only-of-type {\n",
       "        vertical-align: middle;\n",
       "    }\n",
       "\n",
       "    .dataframe tbody tr th {\n",
       "        vertical-align: top;\n",
       "    }\n",
       "\n",
       "    .dataframe thead th {\n",
       "        text-align: right;\n",
       "    }\n",
       "</style>\n",
       "<table border=\"1\" class=\"dataframe\">\n",
       "  <thead>\n",
       "    <tr style=\"text-align: right;\">\n",
       "      <th></th>\n",
       "      <th>height</th>\n",
       "      <th>weight</th>\n",
       "      <th>birthYear</th>\n",
       "      <th>age</th>\n",
       "      <th>s</th>\n",
       "      <th>a</th>\n",
       "      <th>dis</th>\n",
       "    </tr>\n",
       "  </thead>\n",
       "  <tbody>\n",
       "    <tr>\n",
       "      <th>count</th>\n",
       "      <td>19.000000</td>\n",
       "      <td>19.000000</td>\n",
       "      <td>19.000000</td>\n",
       "      <td>19.000000</td>\n",
       "      <td>19.000000</td>\n",
       "      <td>19.000000</td>\n",
       "      <td>19.000000</td>\n",
       "    </tr>\n",
       "    <tr>\n",
       "      <th>mean</th>\n",
       "      <td>70.842105</td>\n",
       "      <td>197.605263</td>\n",
       "      <td>1992.552632</td>\n",
       "      <td>25.447368</td>\n",
       "      <td>3.264241</td>\n",
       "      <td>1.844538</td>\n",
       "      <td>0.327021</td>\n",
       "    </tr>\n",
       "    <tr>\n",
       "      <th>std</th>\n",
       "      <td>2.774150</td>\n",
       "      <td>6.281761</td>\n",
       "      <td>3.157420</td>\n",
       "      <td>3.157420</td>\n",
       "      <td>0.333337</td>\n",
       "      <td>0.130640</td>\n",
       "      <td>0.034528</td>\n",
       "    </tr>\n",
       "    <tr>\n",
       "      <th>min</th>\n",
       "      <td>61.000000</td>\n",
       "      <td>190.000000</td>\n",
       "      <td>1985.000000</td>\n",
       "      <td>21.000000</td>\n",
       "      <td>2.784252</td>\n",
       "      <td>1.489375</td>\n",
       "      <td>0.277529</td>\n",
       "    </tr>\n",
       "    <tr>\n",
       "      <th>25%</th>\n",
       "      <td>71.000000</td>\n",
       "      <td>193.500000</td>\n",
       "      <td>1991.000000</td>\n",
       "      <td>23.500000</td>\n",
       "      <td>2.995578</td>\n",
       "      <td>1.773170</td>\n",
       "      <td>0.300670</td>\n",
       "    </tr>\n",
       "    <tr>\n",
       "      <th>50%</th>\n",
       "      <td>71.000000</td>\n",
       "      <td>196.000000</td>\n",
       "      <td>1993.000000</td>\n",
       "      <td>25.000000</td>\n",
       "      <td>3.275455</td>\n",
       "      <td>1.853652</td>\n",
       "      <td>0.326753</td>\n",
       "    </tr>\n",
       "    <tr>\n",
       "      <th>75%</th>\n",
       "      <td>72.000000</td>\n",
       "      <td>202.500000</td>\n",
       "      <td>1994.500000</td>\n",
       "      <td>27.000000</td>\n",
       "      <td>3.436726</td>\n",
       "      <td>1.937498</td>\n",
       "      <td>0.343227</td>\n",
       "    </tr>\n",
       "    <tr>\n",
       "      <th>max</th>\n",
       "      <td>73.000000</td>\n",
       "      <td>212.000000</td>\n",
       "      <td>1997.000000</td>\n",
       "      <td>33.000000</td>\n",
       "      <td>4.112812</td>\n",
       "      <td>2.073059</td>\n",
       "      <td>0.418984</td>\n",
       "    </tr>\n",
       "  </tbody>\n",
       "</table>\n",
       "</div>"
      ],
      "text/plain": [
       "          height      weight    birthYear        age          s          a  \\\n",
       "count  19.000000   19.000000    19.000000  19.000000  19.000000  19.000000   \n",
       "mean   70.842105  197.605263  1992.552632  25.447368   3.264241   1.844538   \n",
       "std     2.774150    6.281761     3.157420   3.157420   0.333337   0.130640   \n",
       "min    61.000000  190.000000  1985.000000  21.000000   2.784252   1.489375   \n",
       "25%    71.000000  193.500000  1991.000000  23.500000   2.995578   1.773170   \n",
       "50%    71.000000  196.000000  1993.000000  25.000000   3.275455   1.853652   \n",
       "75%    72.000000  202.500000  1994.500000  27.000000   3.436726   1.937498   \n",
       "max    73.000000  212.000000  1997.000000  33.000000   4.112812   2.073059   \n",
       "\n",
       "             dis  \n",
       "count  19.000000  \n",
       "mean    0.327021  \n",
       "std     0.034528  \n",
       "min     0.277529  \n",
       "25%     0.300670  \n",
       "50%     0.326753  \n",
       "75%     0.343227  \n",
       "max     0.418984  "
      ]
     },
     "execution_count": 70,
     "metadata": {},
     "output_type": "execute_result"
    }
   ],
   "source": [
    "#average speed 3.25\n",
    "#average acceleration 1.85\n",
    "df3.describe()"
   ]
  },
  {
   "cell_type": "code",
   "execution_count": 71,
   "metadata": {
    "execution": {
     "iopub.execute_input": "2020-12-13T23:45:24.471366Z",
     "iopub.status.busy": "2020-12-13T23:45:24.470658Z",
     "iopub.status.idle": "2020-12-13T23:45:24.616443Z",
     "shell.execute_reply": "2020-12-13T23:45:24.616906Z"
    },
    "papermill": {
     "duration": 0.265396,
     "end_time": "2020-12-13T23:45:24.617098",
     "exception": false,
     "start_time": "2020-12-13T23:45:24.351702",
     "status": "completed"
    },
    "tags": []
   },
   "outputs": [
    {
     "data": {
      "text/plain": [
       "<matplotlib.collections.PathCollection at 0x7f2288c991d0>"
      ]
     },
     "execution_count": 71,
     "metadata": {},
     "output_type": "execute_result"
    },
    {
     "data": {
      "image/png": "[encoded data removed]",
      "text/plain": [
       "<Figure size 432x288 with 1 Axes>"
      ]
     },
     "metadata": {
      "needs_background": "light"
     },
     "output_type": "display_data"
    }
   ],
   "source": [
    "plt.scatter(df3['age'],df3['s'])"
   ]
  },
  {
   "cell_type": "code",
   "execution_count": 72,
   "metadata": {
    "execution": {
     "iopub.execute_input": "2020-12-13T23:45:24.853646Z",
     "iopub.status.busy": "2020-12-13T23:45:24.852910Z",
     "iopub.status.idle": "2020-12-13T23:45:24.999121Z",
     "shell.execute_reply": "2020-12-13T23:45:24.998508Z"
    },
    "papermill": {
     "duration": 0.266077,
     "end_time": "2020-12-13T23:45:24.999237",
     "exception": false,
     "start_time": "2020-12-13T23:45:24.733160",
     "status": "completed"
    },
    "tags": []
   },
   "outputs": [
    {
     "data": {
      "text/plain": [
       "<matplotlib.collections.PathCollection at 0x7f228842ae10>"
      ]
     },
     "execution_count": 72,
     "metadata": {},
     "output_type": "execute_result"
    },
    {
     "data": {
      "image/png": "[encoded data removed]",
      "text/plain": [
       "<Figure size 432x288 with 1 Axes>"
      ]
     },
     "metadata": {
      "needs_background": "light"
     },
     "output_type": "display_data"
    }
   ],
   "source": [
    "plt.scatter(df3['weight'],df3['s'])"
   ]
  },
  {
   "cell_type": "code",
   "execution_count": 73,
   "metadata": {
    "execution": {
     "iopub.execute_input": "2020-12-13T23:45:25.243311Z",
     "iopub.status.busy": "2020-12-13T23:45:25.242647Z",
     "iopub.status.idle": "2020-12-13T23:45:25.380857Z",
     "shell.execute_reply": "2020-12-13T23:45:25.380352Z"
    },
    "papermill": {
     "duration": 0.264467,
     "end_time": "2020-12-13T23:45:25.380979",
     "exception": false,
     "start_time": "2020-12-13T23:45:25.116512",
     "status": "completed"
    },
    "tags": []
   },
   "outputs": [
    {
     "data": {
      "text/plain": [
       "<matplotlib.collections.PathCollection at 0x7f2288410fd0>"
      ]
     },
     "execution_count": 73,
     "metadata": {},
     "output_type": "execute_result"
    },
    {
     "data": {
      "image/png": "[encoded data removed]",
      "text/plain": [
       "<Figure size 432x288 with 1 Axes>"
      ]
     },
     "metadata": {
      "needs_background": "light"
     },
     "output_type": "display_data"
    }
   ],
   "source": [
    "plt.scatter(df3['height'],df3['s'])"
   ]
  },
  {
   "cell_type": "code",
   "execution_count": 74,
   "metadata": {
    "execution": {
     "iopub.execute_input": "2020-12-13T23:45:25.630987Z",
     "iopub.status.busy": "2020-12-13T23:45:25.630287Z",
     "iopub.status.idle": "2020-12-13T23:45:25.635057Z",
     "shell.execute_reply": "2020-12-13T23:45:25.634532Z"
    },
    "papermill": {
     "duration": 0.13764,
     "end_time": "2020-12-13T23:45:25.635183",
     "exception": false,
     "start_time": "2020-12-13T23:45:25.497543",
     "status": "completed"
    },
    "tags": []
   },
   "outputs": [
    {
     "data": {
      "text/html": [
       "<div>\n",
       "<style scoped>\n",
       "    .dataframe tbody tr th:only-of-type {\n",
       "        vertical-align: middle;\n",
       "    }\n",
       "\n",
       "    .dataframe tbody tr th {\n",
       "        vertical-align: top;\n",
       "    }\n",
       "\n",
       "    .dataframe thead th {\n",
       "        text-align: right;\n",
       "    }\n",
       "</style>\n",
       "<table border=\"1\" class=\"dataframe\">\n",
       "  <thead>\n",
       "    <tr style=\"text-align: right;\">\n",
       "      <th></th>\n",
       "      <th>height</th>\n",
       "      <th>weight</th>\n",
       "      <th>age</th>\n",
       "      <th>s</th>\n",
       "    </tr>\n",
       "  </thead>\n",
       "  <tbody>\n",
       "    <tr>\n",
       "      <th>0</th>\n",
       "      <td>72.0</td>\n",
       "      <td>205.0</td>\n",
       "      <td>26.0</td>\n",
       "      <td>3.461520</td>\n",
       "    </tr>\n",
       "    <tr>\n",
       "      <th>1</th>\n",
       "      <td>71.0</td>\n",
       "      <td>196.0</td>\n",
       "      <td>26.0</td>\n",
       "      <td>3.133252</td>\n",
       "    </tr>\n",
       "    <tr>\n",
       "      <th>2</th>\n",
       "      <td>71.0</td>\n",
       "      <td>190.0</td>\n",
       "      <td>25.0</td>\n",
       "      <td>3.275455</td>\n",
       "    </tr>\n",
       "    <tr>\n",
       "      <th>3</th>\n",
       "      <td>71.0</td>\n",
       "      <td>191.0</td>\n",
       "      <td>21.0</td>\n",
       "      <td>3.031642</td>\n",
       "    </tr>\n",
       "    <tr>\n",
       "      <th>4</th>\n",
       "      <td>73.0</td>\n",
       "      <td>203.0</td>\n",
       "      <td>23.0</td>\n",
       "      <td>3.411931</td>\n",
       "    </tr>\n",
       "    <tr>\n",
       "      <th>5</th>\n",
       "      <td>61.0</td>\n",
       "      <td>195.0</td>\n",
       "      <td>33.0</td>\n",
       "      <td>3.328082</td>\n",
       "    </tr>\n",
       "    <tr>\n",
       "      <th>6</th>\n",
       "      <td>70.0</td>\n",
       "      <td>196.0</td>\n",
       "      <td>21.0</td>\n",
       "      <td>2.877879</td>\n",
       "    </tr>\n",
       "    <tr>\n",
       "      <th>7</th>\n",
       "      <td>73.0</td>\n",
       "      <td>208.0</td>\n",
       "      <td>24.0</td>\n",
       "      <td>3.179109</td>\n",
       "    </tr>\n",
       "    <tr>\n",
       "      <th>8</th>\n",
       "      <td>73.0</td>\n",
       "      <td>212.0</td>\n",
       "      <td>25.0</td>\n",
       "      <td>2.879890</td>\n",
       "    </tr>\n",
       "    <tr>\n",
       "      <th>9</th>\n",
       "      <td>70.0</td>\n",
       "      <td>190.0</td>\n",
       "      <td>30.0</td>\n",
       "      <td>3.536302</td>\n",
       "    </tr>\n",
       "    <tr>\n",
       "      <th>10</th>\n",
       "      <td>71.0</td>\n",
       "      <td>195.0</td>\n",
       "      <td>29.0</td>\n",
       "      <td>3.537409</td>\n",
       "    </tr>\n",
       "    <tr>\n",
       "      <th>11</th>\n",
       "      <td>71.0</td>\n",
       "      <td>194.0</td>\n",
       "      <td>26.0</td>\n",
       "      <td>3.693813</td>\n",
       "    </tr>\n",
       "    <tr>\n",
       "      <th>12</th>\n",
       "      <td>67.0</td>\n",
       "      <td>195.5</td>\n",
       "      <td>24.5</td>\n",
       "      <td>3.324496</td>\n",
       "    </tr>\n",
       "    <tr>\n",
       "      <th>13</th>\n",
       "      <td>72.0</td>\n",
       "      <td>197.0</td>\n",
       "      <td>22.0</td>\n",
       "      <td>3.247617</td>\n",
       "    </tr>\n",
       "    <tr>\n",
       "      <th>14</th>\n",
       "      <td>72.0</td>\n",
       "      <td>192.0</td>\n",
       "      <td>22.0</td>\n",
       "      <td>3.386610</td>\n",
       "    </tr>\n",
       "    <tr>\n",
       "      <th>15</th>\n",
       "      <td>71.0</td>\n",
       "      <td>193.0</td>\n",
       "      <td>24.0</td>\n",
       "      <td>2.784252</td>\n",
       "    </tr>\n",
       "    <tr>\n",
       "      <th>16</th>\n",
       "      <td>73.0</td>\n",
       "      <td>202.0</td>\n",
       "      <td>28.0</td>\n",
       "      <td>2.959513</td>\n",
       "    </tr>\n",
       "    <tr>\n",
       "      <th>17</th>\n",
       "      <td>72.0</td>\n",
       "      <td>204.0</td>\n",
       "      <td>28.0</td>\n",
       "      <td>4.112812</td>\n",
       "    </tr>\n",
       "    <tr>\n",
       "      <th>18</th>\n",
       "      <td>72.0</td>\n",
       "      <td>196.0</td>\n",
       "      <td>26.0</td>\n",
       "      <td>2.858990</td>\n",
       "    </tr>\n",
       "  </tbody>\n",
       "</table>\n",
       "</div>"
      ],
      "text/plain": [
       "    height  weight   age         s\n",
       "0     72.0   205.0  26.0  3.461520\n",
       "1     71.0   196.0  26.0  3.133252\n",
       "2     71.0   190.0  25.0  3.275455\n",
       "3     71.0   191.0  21.0  3.031642\n",
       "4     73.0   203.0  23.0  3.411931\n",
       "5     61.0   195.0  33.0  3.328082\n",
       "6     70.0   196.0  21.0  2.877879\n",
       "7     73.0   208.0  24.0  3.179109\n",
       "8     73.0   212.0  25.0  2.879890\n",
       "9     70.0   190.0  30.0  3.536302\n",
       "10    71.0   195.0  29.0  3.537409\n",
       "11    71.0   194.0  26.0  3.693813\n",
       "12    67.0   195.5  24.5  3.324496\n",
       "13    72.0   197.0  22.0  3.247617\n",
       "14    72.0   192.0  22.0  3.386610\n",
       "15    71.0   193.0  24.0  2.784252\n",
       "16    73.0   202.0  28.0  2.959513\n",
       "17    72.0   204.0  28.0  4.112812\n",
       "18    72.0   196.0  26.0  2.858990"
      ]
     },
     "execution_count": 74,
     "metadata": {},
     "output_type": "execute_result"
    }
   ],
   "source": [
    "X1 = df3[['height','weight','age','s']]\n",
    "Y1 = df3['a']\n",
    "X1"
   ]
  },
  {
   "cell_type": "code",
   "execution_count": 75,
   "metadata": {
    "execution": {
     "iopub.execute_input": "2020-12-13T23:45:25.878904Z",
     "iopub.status.busy": "2020-12-13T23:45:25.878157Z",
     "iopub.status.idle": "2020-12-13T23:45:25.881611Z",
     "shell.execute_reply": "2020-12-13T23:45:25.880919Z"
    },
    "papermill": {
     "duration": 0.128878,
     "end_time": "2020-12-13T23:45:25.881735",
     "exception": false,
     "start_time": "2020-12-13T23:45:25.752857",
     "status": "completed"
    },
    "tags": []
   },
   "outputs": [],
   "source": [
    "from sklearn.linear_model import LinearRegression\n",
    "reg1 = LinearRegression()"
   ]
  },
  {
   "cell_type": "code",
   "execution_count": 76,
   "metadata": {
    "execution": {
     "iopub.execute_input": "2020-12-13T23:45:26.128861Z",
     "iopub.status.busy": "2020-12-13T23:45:26.128068Z",
     "iopub.status.idle": "2020-12-13T23:45:26.131172Z",
     "shell.execute_reply": "2020-12-13T23:45:26.130645Z"
    },
    "papermill": {
     "duration": 0.128575,
     "end_time": "2020-12-13T23:45:26.131288",
     "exception": false,
     "start_time": "2020-12-13T23:45:26.002713",
     "status": "completed"
    },
    "tags": []
   },
   "outputs": [],
   "source": [
    "#Split the data into 80% train and 20% test\n",
    "X1_train, X1_test, Y1_train,Y1_test = train_test_split(X1,Y1,test_size = 0.2)"
   ]
  },
  {
   "cell_type": "code",
   "execution_count": 77,
   "metadata": {
    "execution": {
     "iopub.execute_input": "2020-12-13T23:45:26.375962Z",
     "iopub.status.busy": "2020-12-13T23:45:26.375025Z",
     "iopub.status.idle": "2020-12-13T23:45:26.379412Z",
     "shell.execute_reply": "2020-12-13T23:45:26.379921Z"
    },
    "papermill": {
     "duration": 0.130852,
     "end_time": "2020-12-13T23:45:26.380090",
     "exception": false,
     "start_time": "2020-12-13T23:45:26.249238",
     "status": "completed"
    },
    "tags": []
   },
   "outputs": [
    {
     "data": {
      "text/plain": [
       "LinearRegression()"
      ]
     },
     "execution_count": 77,
     "metadata": {},
     "output_type": "execute_result"
    }
   ],
   "source": [
    "##train the model with training data\n",
    "reg1.fit(X1_train,Y1_train)"
   ]
  },
  {
   "cell_type": "code",
   "execution_count": 78,
   "metadata": {
    "execution": {
     "iopub.execute_input": "2020-12-13T23:45:26.622568Z",
     "iopub.status.busy": "2020-12-13T23:45:26.621878Z",
     "iopub.status.idle": "2020-12-13T23:45:26.625267Z",
     "shell.execute_reply": "2020-12-13T23:45:26.624544Z"
    },
    "papermill": {
     "duration": 0.126613,
     "end_time": "2020-12-13T23:45:26.625390",
     "exception": false,
     "start_time": "2020-12-13T23:45:26.498777",
     "status": "completed"
    },
    "tags": []
   },
   "outputs": [
    {
     "name": "stdout",
     "output_type": "stream",
     "text": [
      "[-0.01375485 -0.0024554  -0.01170184 -0.03515874]\n"
     ]
    }
   ],
   "source": [
    "#print coefficients/weights for each feature/column of our model\n",
    "print(reg1.coef_)"
   ]
  },
  {
   "cell_type": "code",
   "execution_count": 79,
   "metadata": {
    "execution": {
     "iopub.execute_input": "2020-12-13T23:45:26.873071Z",
     "iopub.status.busy": "2020-12-13T23:45:26.872415Z",
     "iopub.status.idle": "2020-12-13T23:45:26.876445Z",
     "shell.execute_reply": "2020-12-13T23:45:26.875917Z"
    },
    "papermill": {
     "duration": 0.132087,
     "end_time": "2020-12-13T23:45:26.876558",
     "exception": false,
     "start_time": "2020-12-13T23:45:26.744471",
     "status": "completed"
    },
    "tags": []
   },
   "outputs": [
    {
     "data": {
      "text/plain": [
       "array([1.88396595, 1.93174843, 1.85738979, 1.85327762])"
      ]
     },
     "execution_count": 79,
     "metadata": {},
     "output_type": "execute_result"
    }
   ],
   "source": [
    "#print predicitions on test data for y\n",
    "Y1_pred = reg1.predict(X1_test)\n",
    "Y1_pred"
   ]
  },
  {
   "cell_type": "code",
   "execution_count": 80,
   "metadata": {
    "execution": {
     "iopub.execute_input": "2020-12-13T23:45:27.127301Z",
     "iopub.status.busy": "2020-12-13T23:45:27.126559Z",
     "iopub.status.idle": "2020-12-13T23:45:27.130333Z",
     "shell.execute_reply": "2020-12-13T23:45:27.129733Z"
    },
    "papermill": {
     "duration": 0.132802,
     "end_time": "2020-12-13T23:45:27.130457",
     "exception": false,
     "start_time": "2020-12-13T23:45:26.997655",
     "status": "completed"
    },
    "tags": []
   },
   "outputs": [
    {
     "data": {
      "text/plain": [
       "13    1.920805\n",
       "3     1.760222\n",
       "1     1.850416\n",
       "18    1.749015\n",
       "Name: a, dtype: float64"
      ]
     },
     "execution_count": 80,
     "metadata": {},
     "output_type": "execute_result"
    }
   ],
   "source": [
    "#print the actual values\n",
    "Y1_test"
   ]
  },
  {
   "cell_type": "code",
   "execution_count": 81,
   "metadata": {
    "execution": {
     "iopub.execute_input": "2020-12-13T23:45:27.378463Z",
     "iopub.status.busy": "2020-12-13T23:45:27.377777Z",
     "iopub.status.idle": "2020-12-13T23:45:27.381712Z",
     "shell.execute_reply": "2020-12-13T23:45:27.381155Z"
    },
    "papermill": {
     "duration": 0.13019,
     "end_time": "2020-12-13T23:45:27.381815",
     "exception": false,
     "start_time": "2020-12-13T23:45:27.251625",
     "status": "completed"
    },
    "tags": []
   },
   "outputs": [
    {
     "data": {
      "text/plain": [
       "0.010424431265663992"
      ]
     },
     "execution_count": 81,
     "metadata": {},
     "output_type": "execute_result"
    }
   ],
   "source": [
    "#MSE and SKlearn.metrics\n",
    "from sklearn.metrics import mean_squared_error\n",
    "mean_squared_error(Y1_test, Y1_pred)\n"
   ]
  },
  {
   "cell_type": "code",
   "execution_count": 82,
   "metadata": {
    "execution": {
     "iopub.execute_input": "2020-12-13T23:45:27.624507Z",
     "iopub.status.busy": "2020-12-13T23:45:27.623844Z",
     "iopub.status.idle": "2020-12-13T23:45:27.639903Z",
     "shell.execute_reply": "2020-12-13T23:45:27.639375Z"
    },
    "papermill": {
     "duration": 0.138289,
     "end_time": "2020-12-13T23:45:27.640020",
     "exception": false,
     "start_time": "2020-12-13T23:45:27.501731",
     "status": "completed"
    },
    "tags": []
   },
   "outputs": [
    {
     "data": {
      "text/html": [
       "<div>\n",
       "<style scoped>\n",
       "    .dataframe tbody tr th:only-of-type {\n",
       "        vertical-align: middle;\n",
       "    }\n",
       "\n",
       "    .dataframe tbody tr th {\n",
       "        vertical-align: top;\n",
       "    }\n",
       "\n",
       "    .dataframe thead th {\n",
       "        text-align: right;\n",
       "    }\n",
       "</style>\n",
       "<table border=\"1\" class=\"dataframe\">\n",
       "  <thead>\n",
       "    <tr style=\"text-align: right;\">\n",
       "      <th></th>\n",
       "      <th>height</th>\n",
       "      <th>weight</th>\n",
       "      <th>s</th>\n",
       "      <th>a</th>\n",
       "    </tr>\n",
       "  </thead>\n",
       "  <tbody>\n",
       "    <tr>\n",
       "      <th>0</th>\n",
       "      <td>72</td>\n",
       "      <td>190</td>\n",
       "      <td>3.393040</td>\n",
       "      <td>1.951001</td>\n",
       "    </tr>\n",
       "    <tr>\n",
       "      <th>1</th>\n",
       "      <td>70</td>\n",
       "      <td>186</td>\n",
       "      <td>3.415141</td>\n",
       "      <td>1.894274</td>\n",
       "    </tr>\n",
       "    <tr>\n",
       "      <th>2</th>\n",
       "      <td>69</td>\n",
       "      <td>186</td>\n",
       "      <td>3.023297</td>\n",
       "      <td>1.960050</td>\n",
       "    </tr>\n",
       "    <tr>\n",
       "      <th>3</th>\n",
       "      <td>73</td>\n",
       "      <td>216</td>\n",
       "      <td>2.774608</td>\n",
       "      <td>1.935349</td>\n",
       "    </tr>\n",
       "    <tr>\n",
       "      <th>4</th>\n",
       "      <td>70</td>\n",
       "      <td>211</td>\n",
       "      <td>2.957079</td>\n",
       "      <td>1.964550</td>\n",
       "    </tr>\n",
       "    <tr>\n",
       "      <th>...</th>\n",
       "      <td>...</td>\n",
       "      <td>...</td>\n",
       "      <td>...</td>\n",
       "      <td>...</td>\n",
       "    </tr>\n",
       "    <tr>\n",
       "      <th>161</th>\n",
       "      <td>72</td>\n",
       "      <td>190</td>\n",
       "      <td>3.532509</td>\n",
       "      <td>1.883339</td>\n",
       "    </tr>\n",
       "    <tr>\n",
       "      <th>162</th>\n",
       "      <td>74</td>\n",
       "      <td>205</td>\n",
       "      <td>3.492974</td>\n",
       "      <td>1.763256</td>\n",
       "    </tr>\n",
       "    <tr>\n",
       "      <th>163</th>\n",
       "      <td>70</td>\n",
       "      <td>200</td>\n",
       "      <td>2.524000</td>\n",
       "      <td>2.228686</td>\n",
       "    </tr>\n",
       "    <tr>\n",
       "      <th>164</th>\n",
       "      <td>70</td>\n",
       "      <td>198</td>\n",
       "      <td>2.418704</td>\n",
       "      <td>2.198148</td>\n",
       "    </tr>\n",
       "    <tr>\n",
       "      <th>165</th>\n",
       "      <td>72</td>\n",
       "      <td>195</td>\n",
       "      <td>3.770128</td>\n",
       "      <td>2.107564</td>\n",
       "    </tr>\n",
       "  </tbody>\n",
       "</table>\n",
       "<p>166 rows × 4 columns</p>\n",
       "</div>"
      ],
      "text/plain": [
       "     height  weight         s         a\n",
       "0        72     190  3.393040  1.951001\n",
       "1        70     186  3.415141  1.894274\n",
       "2        69     186  3.023297  1.960050\n",
       "3        73     216  2.774608  1.935349\n",
       "4        70     211  2.957079  1.964550\n",
       "..      ...     ...       ...       ...\n",
       "161      72     190  3.532509  1.883339\n",
       "162      74     205  3.492974  1.763256\n",
       "163      70     200  2.524000  2.228686\n",
       "164      70     198  2.418704  2.198148\n",
       "165      72     195  3.770128  2.107564\n",
       "\n",
       "[166 rows x 4 columns]"
      ]
     },
     "execution_count": 82,
     "metadata": {},
     "output_type": "execute_result"
    }
   ],
   "source": [
    "X6 = df2[['height','weight','s','a']]\n",
    "Y6 = df2['age']\n",
    "X6"
   ]
  },
  {
   "cell_type": "code",
   "execution_count": 83,
   "metadata": {
    "execution": {
     "iopub.execute_input": "2020-12-13T23:45:27.889657Z",
     "iopub.status.busy": "2020-12-13T23:45:27.888904Z",
     "iopub.status.idle": "2020-12-13T23:45:27.892605Z",
     "shell.execute_reply": "2020-12-13T23:45:27.891903Z"
    },
    "papermill": {
     "duration": 0.131509,
     "end_time": "2020-12-13T23:45:27.892718",
     "exception": false,
     "start_time": "2020-12-13T23:45:27.761209",
     "status": "completed"
    },
    "tags": []
   },
   "outputs": [],
   "source": [
    "from sklearn.linear_model import LinearRegression\n",
    "reg5 = LinearRegression()"
   ]
  },
  {
   "cell_type": "code",
   "execution_count": 84,
   "metadata": {
    "execution": {
     "iopub.execute_input": "2020-12-13T23:45:28.146339Z",
     "iopub.status.busy": "2020-12-13T23:45:28.145074Z",
     "iopub.status.idle": "2020-12-13T23:45:28.147932Z",
     "shell.execute_reply": "2020-12-13T23:45:28.148504Z"
    },
    "papermill": {
     "duration": 0.133645,
     "end_time": "2020-12-13T23:45:28.148648",
     "exception": false,
     "start_time": "2020-12-13T23:45:28.015003",
     "status": "completed"
    },
    "tags": []
   },
   "outputs": [],
   "source": [
    "X6_train, X6_test, Y6_train,Y6_test = train_test_split(X6,Y6,test_size = 0.2)"
   ]
  },
  {
   "cell_type": "code",
   "execution_count": 85,
   "metadata": {
    "execution": {
     "iopub.execute_input": "2020-12-13T23:45:28.435830Z",
     "iopub.status.busy": "2020-12-13T23:45:28.435182Z",
     "iopub.status.idle": "2020-12-13T23:45:28.441022Z",
     "shell.execute_reply": "2020-12-13T23:45:28.440472Z"
    },
    "papermill": {
     "duration": 0.140383,
     "end_time": "2020-12-13T23:45:28.441158",
     "exception": false,
     "start_time": "2020-12-13T23:45:28.300775",
     "status": "completed"
    },
    "tags": []
   },
   "outputs": [
    {
     "data": {
      "text/plain": [
       "LinearRegression()"
      ]
     },
     "execution_count": 85,
     "metadata": {},
     "output_type": "execute_result"
    }
   ],
   "source": [
    "reg5.fit(X6_train,Y6_train)"
   ]
  },
  {
   "cell_type": "code",
   "execution_count": 86,
   "metadata": {
    "execution": {
     "iopub.execute_input": "2020-12-13T23:45:28.694239Z",
     "iopub.status.busy": "2020-12-13T23:45:28.693325Z",
     "iopub.status.idle": "2020-12-13T23:45:28.697207Z",
     "shell.execute_reply": "2020-12-13T23:45:28.698051Z"
    },
    "papermill": {
     "duration": 0.134011,
     "end_time": "2020-12-13T23:45:28.698246",
     "exception": false,
     "start_time": "2020-12-13T23:45:28.564235",
     "status": "completed"
    },
    "tags": []
   },
   "outputs": [
    {
     "name": "stdout",
     "output_type": "stream",
     "text": [
      "[-0.43571486  0.03556316  0.29452879 -4.53739261]\n"
     ]
    }
   ],
   "source": [
    "print(reg5.coef_)"
   ]
  },
  {
   "cell_type": "code",
   "execution_count": 87,
   "metadata": {
    "execution": {
     "iopub.execute_input": "2020-12-13T23:45:28.962487Z",
     "iopub.status.busy": "2020-12-13T23:45:28.961760Z",
     "iopub.status.idle": "2020-12-13T23:45:28.967426Z",
     "shell.execute_reply": "2020-12-13T23:45:28.966840Z"
    },
    "papermill": {
     "duration": 0.14567,
     "end_time": "2020-12-13T23:45:28.967540",
     "exception": false,
     "start_time": "2020-12-13T23:45:28.821870",
     "status": "completed"
    },
    "tags": []
   },
   "outputs": [
    {
     "data": {
      "text/plain": [
       "array([30.79801326, 27.95250394, 26.41350213, 25.4111959 , 26.42473395,\n",
       "       26.44095745, 25.99958246, 26.6540069 , 26.95718588, 30.011598  ,\n",
       "       25.49346231, 30.73161492, 24.80806443, 26.24839205, 26.33838556,\n",
       "       27.24582294, 25.97410037, 25.64677357, 26.68737364, 27.29988683,\n",
       "       27.44235299, 26.22626365, 24.21573781, 26.44585048, 27.19901431,\n",
       "       26.66139451, 26.64483705, 25.81137072, 25.65346611, 26.88122612,\n",
       "       24.73473725, 25.50315291, 27.09180902, 25.41650096])"
      ]
     },
     "execution_count": 87,
     "metadata": {},
     "output_type": "execute_result"
    }
   ],
   "source": [
    "Y6_pred = reg5.predict(X6_test)\n",
    "Y6_pred"
   ]
  },
  {
   "cell_type": "code",
   "execution_count": 88,
   "metadata": {
    "execution": {
     "iopub.execute_input": "2020-12-13T23:45:29.225725Z",
     "iopub.status.busy": "2020-12-13T23:45:29.224790Z",
     "iopub.status.idle": "2020-12-13T23:45:29.229123Z",
     "shell.execute_reply": "2020-12-13T23:45:29.229671Z"
    },
    "papermill": {
     "duration": 0.138615,
     "end_time": "2020-12-13T23:45:29.229810",
     "exception": false,
     "start_time": "2020-12-13T23:45:29.091195",
     "status": "completed"
    },
    "tags": []
   },
   "outputs": [
    {
     "data": {
      "text/plain": [
       "81     27\n",
       "69     31\n",
       "86     25\n",
       "13     23\n",
       "72     26\n",
       "29     26\n",
       "121    23\n",
       "47     26\n",
       "88     30\n",
       "26     31\n",
       "67     26\n",
       "158    34\n",
       "56     23\n",
       "6      31\n",
       "135    31\n",
       "129    26\n",
       "105    22\n",
       "19     28\n",
       "89     24\n",
       "153    28\n",
       "119    25\n",
       "11     33\n",
       "61     25\n",
       "2      27\n",
       "134    21\n",
       "33     21\n",
       "125    25\n",
       "144    28\n",
       "59     25\n",
       "93     28\n",
       "108    26\n",
       "66     27\n",
       "16     26\n",
       "9      24\n",
       "Name: age, dtype: int64"
      ]
     },
     "execution_count": 88,
     "metadata": {},
     "output_type": "execute_result"
    }
   ],
   "source": [
    "Y6_test"
   ]
  },
  {
   "cell_type": "code",
   "execution_count": 89,
   "metadata": {
    "execution": {
     "iopub.execute_input": "2020-12-13T23:45:29.530097Z",
     "iopub.status.busy": "2020-12-13T23:45:29.529302Z",
     "iopub.status.idle": "2020-12-13T23:45:29.533742Z",
     "shell.execute_reply": "2020-12-13T23:45:29.533094Z"
    },
    "papermill": {
     "duration": 0.133992,
     "end_time": "2020-12-13T23:45:29.533858",
     "exception": false,
     "start_time": "2020-12-13T23:45:29.399866",
     "status": "completed"
    },
    "tags": []
   },
   "outputs": [
    {
     "data": {
      "text/plain": [
       "8.239283649913569"
      ]
     },
     "execution_count": 89,
     "metadata": {},
     "output_type": "execute_result"
    }
   ],
   "source": [
    "mean_squared_error(Y6_test, Y6_pred)"
   ]
  },
  {
   "cell_type": "code",
   "execution_count": 90,
   "metadata": {
    "execution": {
     "iopub.execute_input": "2020-12-13T23:45:29.789157Z",
     "iopub.status.busy": "2020-12-13T23:45:29.788137Z",
     "iopub.status.idle": "2020-12-13T23:45:29.791916Z",
     "shell.execute_reply": "2020-12-13T23:45:29.791354Z"
    },
    "papermill": {
     "duration": 0.134814,
     "end_time": "2020-12-13T23:45:29.792054",
     "exception": false,
     "start_time": "2020-12-13T23:45:29.657240",
     "status": "completed"
    },
    "tags": []
   },
   "outputs": [],
   "source": [
    "##RandomForestClassifierModel using acceleration as dependent\n",
    "##Train 80% Test 20%\n",
    "x2 = df2[['height','weight','a','s']]\n",
    "y2 = df2['age']\n"
   ]
  },
  {
   "cell_type": "code",
   "execution_count": 91,
   "metadata": {
    "execution": {
     "iopub.execute_input": "2020-12-13T23:45:30.048449Z",
     "iopub.status.busy": "2020-12-13T23:45:30.047774Z",
     "iopub.status.idle": "2020-12-13T23:45:30.050667Z",
     "shell.execute_reply": "2020-12-13T23:45:30.050011Z"
    },
    "papermill": {
     "duration": 0.133459,
     "end_time": "2020-12-13T23:45:30.050776",
     "exception": false,
     "start_time": "2020-12-13T23:45:29.917317",
     "status": "completed"
    },
    "tags": []
   },
   "outputs": [],
   "source": [
    "#Test 80% Train20%\n",
    "from sklearn.model_selection import train_test_split\n",
    "x2_train, x2_test, y2_train,y2_test = train_test_split(x2,y2,test_size = 0.2)"
   ]
  },
  {
   "cell_type": "code",
   "execution_count": 92,
   "metadata": {
    "execution": {
     "iopub.execute_input": "2020-12-13T23:45:30.308930Z",
     "iopub.status.busy": "2020-12-13T23:45:30.308263Z",
     "iopub.status.idle": "2020-12-13T23:45:30.647355Z",
     "shell.execute_reply": "2020-12-13T23:45:30.647827Z"
    },
    "papermill": {
     "duration": 0.471613,
     "end_time": "2020-12-13T23:45:30.647983",
     "exception": false,
     "start_time": "2020-12-13T23:45:30.176370",
     "status": "completed"
    },
    "tags": []
   },
   "outputs": [
    {
     "data": {
      "text/plain": [
       "RandomForestClassifier()"
      ]
     },
     "execution_count": 92,
     "metadata": {},
     "output_type": "execute_result"
    }
   ],
   "source": [
    "#Importing RandomForestClassifier using 100 trees\n",
    "from sklearn.ensemble import RandomForestClassifier\n",
    "model = RandomForestClassifier(100)\n",
    "model.fit(x2_train, y2_train)"
   ]
  },
  {
   "cell_type": "code",
   "execution_count": 93,
   "metadata": {
    "execution": {
     "iopub.execute_input": "2020-12-13T23:45:30.904463Z",
     "iopub.status.busy": "2020-12-13T23:45:30.903674Z",
     "iopub.status.idle": "2020-12-13T23:45:30.922338Z",
     "shell.execute_reply": "2020-12-13T23:45:30.922893Z"
    },
    "papermill": {
     "duration": 0.149334,
     "end_time": "2020-12-13T23:45:30.923033",
     "exception": false,
     "start_time": "2020-12-13T23:45:30.773699",
     "status": "completed"
    },
    "tags": []
   },
   "outputs": [
    {
     "data": {
      "text/plain": [
       "0.08823529411764706"
      ]
     },
     "execution_count": 93,
     "metadata": {},
     "output_type": "execute_result"
    }
   ],
   "source": [
    "model.score(x2_test,y2_test)"
   ]
  },
  {
   "cell_type": "code",
   "execution_count": 94,
   "metadata": {
    "execution": {
     "iopub.execute_input": "2020-12-13T23:45:31.178797Z",
     "iopub.status.busy": "2020-12-13T23:45:31.178148Z",
     "iopub.status.idle": "2020-12-13T23:45:31.198968Z",
     "shell.execute_reply": "2020-12-13T23:45:31.199521Z"
    },
    "papermill": {
     "duration": 0.150795,
     "end_time": "2020-12-13T23:45:31.199659",
     "exception": false,
     "start_time": "2020-12-13T23:45:31.048864",
     "status": "completed"
    },
    "tags": []
   },
   "outputs": [
    {
     "data": {
      "text/plain": [
       "array([[0, 0, 0, 1, 0, 1, 1, 0, 0, 0, 0, 0, 0],\n",
       "       [1, 0, 1, 0, 0, 0, 1, 0, 0, 1, 0, 0, 0],\n",
       "       [0, 0, 1, 1, 1, 0, 0, 0, 0, 0, 0, 0, 0],\n",
       "       [0, 2, 0, 0, 0, 0, 0, 0, 0, 1, 0, 0, 0],\n",
       "       [0, 1, 1, 0, 0, 2, 0, 1, 0, 0, 0, 0, 0],\n",
       "       [0, 0, 0, 0, 0, 1, 0, 0, 0, 0, 0, 0, 0],\n",
       "       [1, 1, 0, 1, 0, 1, 0, 0, 0, 0, 0, 0, 0],\n",
       "       [0, 0, 0, 0, 1, 0, 0, 0, 0, 0, 1, 0, 0],\n",
       "       [0, 0, 1, 0, 0, 1, 0, 0, 0, 0, 0, 0, 0],\n",
       "       [0, 0, 0, 1, 0, 1, 0, 0, 0, 1, 0, 0, 0],\n",
       "       [0, 0, 1, 0, 0, 1, 0, 0, 0, 0, 0, 0, 0],\n",
       "       [0, 0, 0, 0, 0, 1, 0, 0, 0, 0, 0, 0, 0],\n",
       "       [0, 1, 0, 0, 0, 0, 0, 0, 0, 0, 0, 0, 0]])"
      ]
     },
     "execution_count": 94,
     "metadata": {},
     "output_type": "execute_result"
    }
   ],
   "source": [
    "y2_predicted = model.predict(x2_test)\n",
    "from sklearn.metrics import confusion_matrix\n",
    "cm = confusion_matrix(y2_test,y2_predicted)\n",
    "cm"
   ]
  },
  {
   "cell_type": "code",
   "execution_count": 95,
   "metadata": {
    "execution": {
     "iopub.execute_input": "2020-12-13T23:45:31.459720Z",
     "iopub.status.busy": "2020-12-13T23:45:31.458952Z",
     "iopub.status.idle": "2020-12-13T23:45:32.265302Z",
     "shell.execute_reply": "2020-12-13T23:45:32.265840Z"
    },
    "papermill": {
     "duration": 0.938196,
     "end_time": "2020-12-13T23:45:32.265979",
     "exception": false,
     "start_time": "2020-12-13T23:45:31.327783",
     "status": "completed"
    },
    "tags": []
   },
   "outputs": [
    {
     "data": {
      "text/plain": [
       "Text(69.0, 0.5, 'result')"
      ]
     },
     "execution_count": 95,
     "metadata": {},
     "output_type": "execute_result"
    },
    {
     "data": {
      "image/png": "[encoded data removed]",
      "text/plain": [
       "<Figure size 720x504 with 2 Axes>"
      ]
     },
     "metadata": {
      "needs_background": "light"
     },
     "output_type": "display_data"
    }
   ],
   "source": [
    "import matplotlib.pyplot as plt\n",
    "import seaborn as sn\n",
    "plt.figure(figsize=(10,7))\n",
    "sn.heatmap(cm, annot=True)\n",
    "plt.xlabel('prediction')\n",
    "plt.ylabel('result')"
   ]
  },
  {
   "cell_type": "code",
   "execution_count": 96,
   "metadata": {
    "execution": {
     "iopub.execute_input": "2020-12-13T23:45:32.526259Z",
     "iopub.status.busy": "2020-12-13T23:45:32.525529Z",
     "iopub.status.idle": "2020-12-13T23:45:32.527673Z",
     "shell.execute_reply": "2020-12-13T23:45:32.528252Z"
    },
    "papermill": {
     "duration": 0.134429,
     "end_time": "2020-12-13T23:45:32.528397",
     "exception": false,
     "start_time": "2020-12-13T23:45:32.393968",
     "status": "completed"
    },
    "tags": []
   },
   "outputs": [],
   "source": [
    "##Adding in Distance traveled each play to see if it changes anything"
   ]
  },
  {
   "cell_type": "code",
   "execution_count": 97,
   "metadata": {
    "execution": {
     "iopub.execute_input": "2020-12-13T23:45:32.790296Z",
     "iopub.status.busy": "2020-12-13T23:45:32.789517Z",
     "iopub.status.idle": "2020-12-13T23:45:32.795370Z",
     "shell.execute_reply": "2020-12-13T23:45:32.795895Z"
    },
    "papermill": {
     "duration": 0.138671,
     "end_time": "2020-12-13T23:45:32.796064",
     "exception": false,
     "start_time": "2020-12-13T23:45:32.657393",
     "status": "completed"
    },
    "tags": []
   },
   "outputs": [],
   "source": [
    "##RandomForestClassifierModel using acceleration as dependent\n",
    "##Train 80% Test 20%\n",
    "x3 = df2[['height','weight','a','s','dis']]\n",
    "y3 = df2['age']"
   ]
  },
  {
   "cell_type": "code",
   "execution_count": 98,
   "metadata": {
    "execution": {
     "iopub.execute_input": "2020-12-13T23:45:33.060946Z",
     "iopub.status.busy": "2020-12-13T23:45:33.060291Z",
     "iopub.status.idle": "2020-12-13T23:45:33.062434Z",
     "shell.execute_reply": "2020-12-13T23:45:33.062944Z"
    },
    "papermill": {
     "duration": 0.137356,
     "end_time": "2020-12-13T23:45:33.063108",
     "exception": false,
     "start_time": "2020-12-13T23:45:32.925752",
     "status": "completed"
    },
    "tags": []
   },
   "outputs": [],
   "source": [
    "#Test 80% Train20%\n",
    "from sklearn.model_selection import train_test_split\n",
    "x3_train, x3_test, y3_train,y3_test = train_test_split(x3,y3,test_size = 0.2)"
   ]
  },
  {
   "cell_type": "code",
   "execution_count": 99,
   "metadata": {
    "execution": {
     "iopub.execute_input": "2020-12-13T23:45:33.366470Z",
     "iopub.status.busy": "2020-12-13T23:45:33.361236Z",
     "iopub.status.idle": "2020-12-13T23:45:33.549320Z",
     "shell.execute_reply": "2020-12-13T23:45:33.548570Z"
    },
    "papermill": {
     "duration": 0.356822,
     "end_time": "2020-12-13T23:45:33.549464",
     "exception": false,
     "start_time": "2020-12-13T23:45:33.192642",
     "status": "completed"
    },
    "tags": []
   },
   "outputs": [
    {
     "data": {
      "text/plain": [
       "RandomForestClassifier()"
      ]
     },
     "execution_count": 99,
     "metadata": {},
     "output_type": "execute_result"
    }
   ],
   "source": [
    "#Importing RandomForestClassifier using 100 trees\n",
    "from sklearn.ensemble import RandomForestClassifier\n",
    "model = RandomForestClassifier(100)\n",
    "model.fit(x3_train, y3_train)"
   ]
  },
  {
   "cell_type": "code",
   "execution_count": 100,
   "metadata": {
    "execution": {
     "iopub.execute_input": "2020-12-13T23:45:33.813518Z",
     "iopub.status.busy": "2020-12-13T23:45:33.812783Z",
     "iopub.status.idle": "2020-12-13T23:45:33.829378Z",
     "shell.execute_reply": "2020-12-13T23:45:33.828804Z"
    },
    "papermill": {
     "duration": 0.152279,
     "end_time": "2020-12-13T23:45:33.829489",
     "exception": false,
     "start_time": "2020-12-13T23:45:33.677210",
     "status": "completed"
    },
    "tags": []
   },
   "outputs": [
    {
     "data": {
      "text/plain": [
       "0.17647058823529413"
      ]
     },
     "execution_count": 100,
     "metadata": {},
     "output_type": "execute_result"
    }
   ],
   "source": [
    "model.score(x3_test,y3_test)"
   ]
  },
  {
   "cell_type": "code",
   "execution_count": 101,
   "metadata": {
    "execution": {
     "iopub.execute_input": "2020-12-13T23:45:34.101311Z",
     "iopub.status.busy": "2020-12-13T23:45:34.098057Z",
     "iopub.status.idle": "2020-12-13T23:45:34.114197Z",
     "shell.execute_reply": "2020-12-13T23:45:34.113664Z"
    },
    "papermill": {
     "duration": 0.154656,
     "end_time": "2020-12-13T23:45:34.114312",
     "exception": false,
     "start_time": "2020-12-13T23:45:33.959656",
     "status": "completed"
    },
    "tags": []
   },
   "outputs": [
    {
     "data": {
      "text/plain": [
       "array([[0, 0, 1, 0, 0, 0, 0, 0, 0, 0, 0, 0, 0, 0],\n",
       "       [0, 0, 0, 0, 0, 0, 0, 1, 0, 0, 0, 0, 0, 0],\n",
       "       [0, 0, 0, 1, 0, 1, 0, 1, 0, 0, 0, 0, 0, 0],\n",
       "       [0, 1, 1, 1, 1, 1, 0, 1, 0, 0, 0, 0, 0, 0],\n",
       "       [0, 0, 1, 0, 2, 0, 1, 0, 0, 0, 1, 1, 0, 0],\n",
       "       [0, 0, 0, 0, 0, 0, 1, 0, 0, 0, 1, 1, 0, 0],\n",
       "       [0, 0, 1, 0, 0, 0, 1, 0, 0, 0, 0, 0, 0, 0],\n",
       "       [0, 0, 1, 0, 0, 0, 1, 0, 0, 0, 0, 0, 0, 0],\n",
       "       [0, 0, 0, 0, 0, 1, 0, 0, 0, 0, 0, 0, 0, 0],\n",
       "       [0, 0, 0, 1, 0, 0, 0, 0, 0, 1, 0, 0, 0, 0],\n",
       "       [0, 0, 1, 0, 0, 1, 1, 0, 0, 0, 0, 0, 0, 0],\n",
       "       [0, 1, 0, 0, 0, 0, 0, 0, 0, 0, 0, 1, 0, 0],\n",
       "       [0, 0, 0, 0, 0, 0, 1, 0, 0, 0, 0, 0, 0, 0],\n",
       "       [1, 0, 0, 0, 0, 0, 0, 0, 0, 0, 0, 0, 0, 0]])"
      ]
     },
     "execution_count": 101,
     "metadata": {},
     "output_type": "execute_result"
    }
   ],
   "source": [
    "y3_predicted = model.predict(x3_test)\n",
    "from sklearn.metrics import confusion_matrix\n",
    "cm1 = confusion_matrix(y3_test,y3_predicted)\n",
    "cm1"
   ]
  },
  {
   "cell_type": "code",
   "execution_count": 102,
   "metadata": {
    "execution": {
     "iopub.execute_input": "2020-12-13T23:45:34.391676Z",
     "iopub.status.busy": "2020-12-13T23:45:34.390604Z",
     "iopub.status.idle": "2020-12-13T23:45:35.161871Z",
     "shell.execute_reply": "2020-12-13T23:45:35.161239Z"
    },
    "papermill": {
     "duration": 0.91491,
     "end_time": "2020-12-13T23:45:35.161980",
     "exception": false,
     "start_time": "2020-12-13T23:45:34.247070",
     "status": "completed"
    },
    "tags": []
   },
   "outputs": [
    {
     "data": {
      "text/plain": [
       "Text(69.0, 0.5, 'result')"
      ]
     },
     "execution_count": 102,
     "metadata": {},
     "output_type": "execute_result"
    },
    {
     "data": {
      "image/png": "[encoded data removed]",
      "text/plain": [
       "<Figure size 720x504 with 2 Axes>"
      ]
     },
     "metadata": {
      "needs_background": "light"
     },
     "output_type": "display_data"
    }
   ],
   "source": [
    "#Much better performance when accounting for distance traveled\n",
    "#Very difficult to predict age of NFL player likely because of the high level they need to play at in order to be on the field\n",
    "import matplotlib.pyplot as plt\n",
    "import seaborn as sn\n",
    "plt.figure(figsize=(10,7))\n",
    "sn.heatmap(cm1, annot=True)\n",
    "plt.xlabel('prediction')\n",
    "plt.ylabel('result')"
   ]
  },
  {
   "cell_type": "code",
   "execution_count": 103,
   "metadata": {
    "execution": {
     "iopub.execute_input": "2020-12-13T23:45:35.502700Z",
     "iopub.status.busy": "2020-12-13T23:45:35.501719Z",
     "iopub.status.idle": "2020-12-13T23:45:35.506371Z",
     "shell.execute_reply": "2020-12-13T23:45:35.505704Z"
    },
    "papermill": {
     "duration": 0.183868,
     "end_time": "2020-12-13T23:45:35.506487",
     "exception": false,
     "start_time": "2020-12-13T23:45:35.322619",
     "status": "completed"
    },
    "tags": []
   },
   "outputs": [
    {
     "data": {
      "text/plain": [
       "0     26.0\n",
       "1     26.0\n",
       "2     25.0\n",
       "3     21.0\n",
       "4     23.0\n",
       "5     33.0\n",
       "6     21.0\n",
       "7     24.0\n",
       "8     25.0\n",
       "9     30.0\n",
       "10    29.0\n",
       "11    26.0\n",
       "12    24.5\n",
       "13    22.0\n",
       "14    22.0\n",
       "15    24.0\n",
       "16    28.0\n",
       "17    28.0\n",
       "18    26.0\n",
       "Name: age, dtype: float64"
      ]
     },
     "execution_count": 103,
     "metadata": {},
     "output_type": "execute_result"
    }
   ],
   "source": [
    "#RandomForestClassifierModel of top 20 NFL players to try and predict age\n",
    "\n",
    "x4 = df3[['height','weight','a','s','dis']]\n",
    "y4 = df3['age']\n",
    "y4"
   ]
  },
  {
   "cell_type": "code",
   "execution_count": 104,
   "metadata": {
    "execution": {
     "iopub.execute_input": "2020-12-13T23:45:35.786444Z",
     "iopub.status.busy": "2020-12-13T23:45:35.785739Z",
     "iopub.status.idle": "2020-12-13T23:45:35.788932Z",
     "shell.execute_reply": "2020-12-13T23:45:35.788433Z"
    },
    "papermill": {
     "duration": 0.143233,
     "end_time": "2020-12-13T23:45:35.789065",
     "exception": false,
     "start_time": "2020-12-13T23:45:35.645832",
     "status": "completed"
    },
    "tags": []
   },
   "outputs": [],
   "source": [
    "#Test 30% Train 70%\n",
    "#Increased test size due to size of data being so small\n",
    "from sklearn.model_selection import train_test_split\n",
    "x4_train, x4_test, y4_train,y4_test = train_test_split(x4,y4,test_size = 0.3)"
   ]
  },
  {
   "cell_type": "code",
   "execution_count": 105,
   "metadata": {
    "execution": {
     "iopub.execute_input": "2020-12-13T23:45:36.066755Z",
     "iopub.status.busy": "2020-12-13T23:45:36.066007Z",
     "iopub.status.idle": "2020-12-13T23:45:36.156890Z",
     "shell.execute_reply": "2020-12-13T23:45:36.156188Z"
    },
    "papermill": {
     "duration": 0.234218,
     "end_time": "2020-12-13T23:45:36.157007",
     "exception": false,
     "start_time": "2020-12-13T23:45:35.922789",
     "status": "completed"
    },
    "tags": []
   },
   "outputs": [
    {
     "ename": "ValueError",
     "evalue": "Unknown label type: 'continuous'",
     "output_type": "error",
     "traceback": [
      "\u001b[0;31m---------------------------------------------------------------------------\u001b[0m",
      "\u001b[0;31mValueError\u001b[0m                                Traceback (most recent call last)",
      "\u001b[0;32m<ipython-input-105-0959fe3e3081>\u001b[0m in \u001b[0;36m<module>\u001b[0;34m\u001b[0m\n\u001b[1;32m      2\u001b[0m \u001b[0;32mfrom\u001b[0m \u001b[0msklearn\u001b[0m\u001b[0;34m.\u001b[0m\u001b[0mensemble\u001b[0m \u001b[0;32mimport\u001b[0m \u001b[0mRandomForestClassifier\u001b[0m\u001b[0;34m\u001b[0m\u001b[0;34m\u001b[0m\u001b[0m\n\u001b[1;32m      3\u001b[0m \u001b[0mmodel1\u001b[0m \u001b[0;34m=\u001b[0m \u001b[0mRandomForestClassifier\u001b[0m\u001b[0;34m(\u001b[0m\u001b[0;36m100\u001b[0m\u001b[0;34m)\u001b[0m\u001b[0;34m\u001b[0m\u001b[0;34m\u001b[0m\u001b[0m\n\u001b[0;32m----> 4\u001b[0;31m \u001b[0mmodel1\u001b[0m\u001b[0;34m.\u001b[0m\u001b[0mfit\u001b[0m\u001b[0;34m(\u001b[0m\u001b[0mx4_train\u001b[0m\u001b[0;34m,\u001b[0m \u001b[0my4_train\u001b[0m\u001b[0;34m)\u001b[0m\u001b[0;34m\u001b[0m\u001b[0;34m\u001b[0m\u001b[0m\n\u001b[0m",
      "\u001b[0;32m/opt/conda/lib/python3.7/site-packages/sklearn/ensemble/_forest.py\u001b[0m in \u001b[0;36mfit\u001b[0;34m(self, X, y, sample_weight)\u001b[0m\n\u001b[1;32m    328\u001b[0m         \u001b[0mself\u001b[0m\u001b[0;34m.\u001b[0m\u001b[0mn_outputs_\u001b[0m \u001b[0;34m=\u001b[0m \u001b[0my\u001b[0m\u001b[0;34m.\u001b[0m\u001b[0mshape\u001b[0m\u001b[0;34m[\u001b[0m\u001b[0;36m1\u001b[0m\u001b[0;34m]\u001b[0m\u001b[0;34m\u001b[0m\u001b[0;34m\u001b[0m\u001b[0m\n\u001b[1;32m    329\u001b[0m \u001b[0;34m\u001b[0m\u001b[0m\n\u001b[0;32m--> 330\u001b[0;31m         \u001b[0my\u001b[0m\u001b[0;34m,\u001b[0m \u001b[0mexpanded_class_weight\u001b[0m \u001b[0;34m=\u001b[0m \u001b[0mself\u001b[0m\u001b[0;34m.\u001b[0m\u001b[0m_validate_y_class_weight\u001b[0m\u001b[0;34m(\u001b[0m\u001b[0my\u001b[0m\u001b[0;34m)\u001b[0m\u001b[0;34m\u001b[0m\u001b[0;34m\u001b[0m\u001b[0m\n\u001b[0m\u001b[1;32m    331\u001b[0m \u001b[0;34m\u001b[0m\u001b[0m\n\u001b[1;32m    332\u001b[0m         \u001b[0;32mif\u001b[0m \u001b[0mgetattr\u001b[0m\u001b[0;34m(\u001b[0m\u001b[0my\u001b[0m\u001b[0;34m,\u001b[0m \u001b[0;34m\"dtype\"\u001b[0m\u001b[0;34m,\u001b[0m \u001b[0;32mNone\u001b[0m\u001b[0;34m)\u001b[0m \u001b[0;34m!=\u001b[0m \u001b[0mDOUBLE\u001b[0m \u001b[0;32mor\u001b[0m \u001b[0;32mnot\u001b[0m \u001b[0my\u001b[0m\u001b[0;34m.\u001b[0m\u001b[0mflags\u001b[0m\u001b[0;34m.\u001b[0m\u001b[0mcontiguous\u001b[0m\u001b[0;34m:\u001b[0m\u001b[0;34m\u001b[0m\u001b[0;34m\u001b[0m\u001b[0m\n",
      "\u001b[0;32m/opt/conda/lib/python3.7/site-packages/sklearn/ensemble/_forest.py\u001b[0m in \u001b[0;36m_validate_y_class_weight\u001b[0;34m(self, y)\u001b[0m\n\u001b[1;32m    556\u001b[0m \u001b[0;34m\u001b[0m\u001b[0m\n\u001b[1;32m    557\u001b[0m     \u001b[0;32mdef\u001b[0m \u001b[0m_validate_y_class_weight\u001b[0m\u001b[0;34m(\u001b[0m\u001b[0mself\u001b[0m\u001b[0;34m,\u001b[0m \u001b[0my\u001b[0m\u001b[0;34m)\u001b[0m\u001b[0;34m:\u001b[0m\u001b[0;34m\u001b[0m\u001b[0;34m\u001b[0m\u001b[0m\n\u001b[0;32m--> 558\u001b[0;31m         \u001b[0mcheck_classification_targets\u001b[0m\u001b[0;34m(\u001b[0m\u001b[0my\u001b[0m\u001b[0;34m)\u001b[0m\u001b[0;34m\u001b[0m\u001b[0;34m\u001b[0m\u001b[0m\n\u001b[0m\u001b[1;32m    559\u001b[0m \u001b[0;34m\u001b[0m\u001b[0m\n\u001b[1;32m    560\u001b[0m         \u001b[0my\u001b[0m \u001b[0;34m=\u001b[0m \u001b[0mnp\u001b[0m\u001b[0;34m.\u001b[0m\u001b[0mcopy\u001b[0m\u001b[0;34m(\u001b[0m\u001b[0my\u001b[0m\u001b[0;34m)\u001b[0m\u001b[0;34m\u001b[0m\u001b[0;34m\u001b[0m\u001b[0m\n",
      "\u001b[0;32m/opt/conda/lib/python3.7/site-packages/sklearn/utils/multiclass.py\u001b[0m in \u001b[0;36mcheck_classification_targets\u001b[0;34m(y)\u001b[0m\n\u001b[1;32m    170\u001b[0m     if y_type not in ['binary', 'multiclass', 'multiclass-multioutput',\n\u001b[1;32m    171\u001b[0m                       'multilabel-indicator', 'multilabel-sequences']:\n\u001b[0;32m--> 172\u001b[0;31m         \u001b[0;32mraise\u001b[0m \u001b[0mValueError\u001b[0m\u001b[0;34m(\u001b[0m\u001b[0;34m\"Unknown label type: %r\"\u001b[0m \u001b[0;34m%\u001b[0m \u001b[0my_type\u001b[0m\u001b[0;34m)\u001b[0m\u001b[0;34m\u001b[0m\u001b[0;34m\u001b[0m\u001b[0m\n\u001b[0m\u001b[1;32m    173\u001b[0m \u001b[0;34m\u001b[0m\u001b[0m\n\u001b[1;32m    174\u001b[0m \u001b[0;34m\u001b[0m\u001b[0m\n",
      "\u001b[0;31mValueError\u001b[0m: Unknown label type: 'continuous'"
     ]
    }
   ],
   "source": [
    "#Importing RandomForestClassifier using 100 trees\n",
    "from sklearn.ensemble import RandomForestClassifier\n",
    "model1 = RandomForestClassifier(100)\n",
    "model1.fit(x4_train, y4_train)"
   ]
  },
  {
   "cell_type": "code",
   "execution_count": 106,
   "metadata": {
    "execution": {
     "iopub.execute_input": "2020-12-13T23:45:36.443988Z",
     "iopub.status.busy": "2020-12-13T23:45:36.443308Z",
     "iopub.status.idle": "2020-12-13T23:45:36.456070Z",
     "shell.execute_reply": "2020-12-13T23:45:36.456691Z"
    },
    "papermill": {
     "duration": 0.167099,
     "end_time": "2020-12-13T23:45:36.456833",
     "exception": false,
     "start_time": "2020-12-13T23:45:36.289734",
     "status": "completed"
    },
    "tags": []
   },
   "outputs": [
    {
     "data": {
      "text/plain": [
       "0.6666666666666666"
      ]
     },
     "execution_count": 106,
     "metadata": {},
     "output_type": "execute_result"
    }
   ],
   "source": [
    "#This model performed exceptionally well in predicting \n",
    "model.score(x4_test,y4_test)"
   ]
  },
  {
   "cell_type": "code",
   "execution_count": 107,
   "metadata": {
    "execution": {
     "iopub.execute_input": "2020-12-13T23:45:36.730671Z",
     "iopub.status.busy": "2020-12-13T23:45:36.729643Z",
     "iopub.status.idle": "2020-12-13T23:45:36.749229Z",
     "shell.execute_reply": "2020-12-13T23:45:36.749819Z"
    },
    "papermill": {
     "duration": 0.160576,
     "end_time": "2020-12-13T23:45:36.749964",
     "exception": false,
     "start_time": "2020-12-13T23:45:36.589388",
     "status": "completed"
    },
    "tags": []
   },
   "outputs": [
    {
     "data": {
      "text/plain": [
       "array([[1, 0, 0, 0, 0, 0],\n",
       "       [0, 0, 0, 0, 0, 1],\n",
       "       [0, 0, 0, 0, 0, 1],\n",
       "       [0, 0, 0, 1, 0, 0],\n",
       "       [0, 0, 0, 0, 1, 0],\n",
       "       [0, 0, 0, 0, 0, 1]])"
      ]
     },
     "execution_count": 107,
     "metadata": {},
     "output_type": "execute_result"
    }
   ],
   "source": [
    "y4_predicted = model.predict(x4_test)\n",
    "from sklearn.metrics import confusion_matrix\n",
    "cm2 = confusion_matrix(y4_test,y4_predicted)\n",
    "cm2"
   ]
  },
  {
   "cell_type": "code",
   "execution_count": 108,
   "metadata": {
    "execution": {
     "iopub.execute_input": "2020-12-13T23:45:37.028391Z",
     "iopub.status.busy": "2020-12-13T23:45:37.027358Z",
     "iopub.status.idle": "2020-12-13T23:45:37.326013Z",
     "shell.execute_reply": "2020-12-13T23:45:37.325409Z"
    },
    "papermill": {
     "duration": 0.43965,
     "end_time": "2020-12-13T23:45:37.326153",
     "exception": false,
     "start_time": "2020-12-13T23:45:36.886503",
     "status": "completed"
    },
    "tags": []
   },
   "outputs": [
    {
     "data": {
      "text/plain": [
       "Text(69.0, 0.5, 'result')"
      ]
     },
     "execution_count": 108,
     "metadata": {},
     "output_type": "execute_result"
    },
    {
     "data": {
      "image/png": "[encoded data removed]",
      "text/plain": [
       "<Figure size 720x504 with 2 Axes>"
      ]
     },
     "metadata": {
      "needs_background": "light"
     },
     "output_type": "display_data"
    }
   ],
   "source": [
    "#Due to the small sample size the model had a very high rate of success\n",
    "import matplotlib.pyplot as plt\n",
    "import seaborn as sn\n",
    "plt.figure(figsize=(10,7))\n",
    "sn.heatmap(cm2, annot=True)\n",
    "plt.xlabel('prediction')\n",
    "plt.ylabel('result')"
   ]
  }
 ],
 "metadata": {
  "kernelspec": {
   "display_name": "Python 3",
   "language": "python",
   "name": "python3"
  },
  "language_info": {
   "codemirror_mode": {
    "name": "ipython",
    "version": 3
   },
   "file_extension": ".py",
   "mimetype": "text/x-python",
   "name": "python",
   "nbconvert_exporter": "python",
   "pygments_lexer": "ipython3",
   "version": "3.7.6"
  },
  "papermill": {
   "duration": 41.672287,
   "end_time": "2020-12-13T23:45:37.569936",
   "environment_variables": {},
   "exception": null,
   "input_path": "__notebook__.ipynb",
   "output_path": "__notebook__.ipynb",
   "parameters": {},
   "start_time": "2020-12-13T23:44:55.897649",
   "version": "2.1.0"
  }
 },
 "nbformat": 4,
 "nbformat_minor": 4
}
